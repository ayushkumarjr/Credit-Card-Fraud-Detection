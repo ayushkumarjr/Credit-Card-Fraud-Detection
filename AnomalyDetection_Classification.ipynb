{
  "cells": [
    {
      "cell_type": "markdown",
      "metadata": {
        "id": "view-in-github",
        "colab_type": "text"
      },
      "source": [
        "<a href=\"https://colab.research.google.com/github/ayushkumarjr/Credit-Card-Fraud-Detection/blob/main/AnomalyDetection_Classification.ipynb\" target=\"_parent\"><img src=\"https://colab.research.google.com/assets/colab-badge.svg\" alt=\"Open In Colab\"/></a>"
      ]
    },
    {
      "cell_type": "code",
      "execution_count": null,
      "metadata": {
        "id": "U-V3OsmAvTuY"
      },
      "outputs": [],
      "source": [
        "import pandas as pd\n",
        "import numpy as np"
      ]
    },
    {
      "cell_type": "code",
      "execution_count": null,
      "metadata": {
        "id": "fEpSssvbvjWx"
      },
      "outputs": [],
      "source": [
        "data=pd.read_csv('/content/drive/MyDrive/Credit Card/creditcard.csv')"
      ]
    },
    {
      "cell_type": "code",
      "execution_count": null,
      "metadata": {
        "id": "aw-vhJkzv6xZ"
      },
      "outputs": [],
      "source": [
        "df=data.copy()"
      ]
    },
    {
      "cell_type": "code",
      "execution_count": null,
      "metadata": {
        "colab": {
          "base_uri": "https://localhost:8080/"
        },
        "id": "lClj3QFnwENd",
        "outputId": "9d9cdaae-a0f9-4169-d10b-0e47261de764"
      },
      "outputs": [
        {
          "data": {
            "text/plain": [
              "0"
            ]
          },
          "execution_count": 4,
          "metadata": {},
          "output_type": "execute_result"
        }
      ],
      "source": [
        "data.isnull().sum().max()"
      ]
    },
    {
      "cell_type": "code",
      "execution_count": null,
      "metadata": {
        "colab": {
          "base_uri": "https://localhost:8080/",
          "height": 256
        },
        "id": "4_kzL6RTwHCf",
        "outputId": "f94f2311-54cb-4edc-e246-8f7a74d5b957"
      },
      "outputs": [
        {
          "data": {
            "text/html": [
              "\n",
              "  <div id=\"df-1cde4e25-11ca-4f92-94ce-b82fb7a95596\" class=\"colab-df-container\">\n",
              "    <div>\n",
              "<style scoped>\n",
              "    .dataframe tbody tr th:only-of-type {\n",
              "        vertical-align: middle;\n",
              "    }\n",
              "\n",
              "    .dataframe tbody tr th {\n",
              "        vertical-align: top;\n",
              "    }\n",
              "\n",
              "    .dataframe thead th {\n",
              "        text-align: right;\n",
              "    }\n",
              "</style>\n",
              "<table border=\"1\" class=\"dataframe\">\n",
              "  <thead>\n",
              "    <tr style=\"text-align: right;\">\n",
              "      <th></th>\n",
              "      <th>Time</th>\n",
              "      <th>V1</th>\n",
              "      <th>V2</th>\n",
              "      <th>V3</th>\n",
              "      <th>V4</th>\n",
              "      <th>V5</th>\n",
              "      <th>V6</th>\n",
              "      <th>V7</th>\n",
              "      <th>V8</th>\n",
              "      <th>V9</th>\n",
              "      <th>...</th>\n",
              "      <th>V21</th>\n",
              "      <th>V22</th>\n",
              "      <th>V23</th>\n",
              "      <th>V24</th>\n",
              "      <th>V25</th>\n",
              "      <th>V26</th>\n",
              "      <th>V27</th>\n",
              "      <th>V28</th>\n",
              "      <th>Amount</th>\n",
              "      <th>Class</th>\n",
              "    </tr>\n",
              "  </thead>\n",
              "  <tbody>\n",
              "    <tr>\n",
              "      <th>0</th>\n",
              "      <td>0.0</td>\n",
              "      <td>-1.359807</td>\n",
              "      <td>-0.072781</td>\n",
              "      <td>2.536347</td>\n",
              "      <td>1.378155</td>\n",
              "      <td>-0.338321</td>\n",
              "      <td>0.462388</td>\n",
              "      <td>0.239599</td>\n",
              "      <td>0.098698</td>\n",
              "      <td>0.363787</td>\n",
              "      <td>...</td>\n",
              "      <td>-0.018307</td>\n",
              "      <td>0.277838</td>\n",
              "      <td>-0.110474</td>\n",
              "      <td>0.066928</td>\n",
              "      <td>0.128539</td>\n",
              "      <td>-0.189115</td>\n",
              "      <td>0.133558</td>\n",
              "      <td>-0.021053</td>\n",
              "      <td>149.62</td>\n",
              "      <td>0</td>\n",
              "    </tr>\n",
              "    <tr>\n",
              "      <th>1</th>\n",
              "      <td>0.0</td>\n",
              "      <td>1.191857</td>\n",
              "      <td>0.266151</td>\n",
              "      <td>0.166480</td>\n",
              "      <td>0.448154</td>\n",
              "      <td>0.060018</td>\n",
              "      <td>-0.082361</td>\n",
              "      <td>-0.078803</td>\n",
              "      <td>0.085102</td>\n",
              "      <td>-0.255425</td>\n",
              "      <td>...</td>\n",
              "      <td>-0.225775</td>\n",
              "      <td>-0.638672</td>\n",
              "      <td>0.101288</td>\n",
              "      <td>-0.339846</td>\n",
              "      <td>0.167170</td>\n",
              "      <td>0.125895</td>\n",
              "      <td>-0.008983</td>\n",
              "      <td>0.014724</td>\n",
              "      <td>2.69</td>\n",
              "      <td>0</td>\n",
              "    </tr>\n",
              "    <tr>\n",
              "      <th>2</th>\n",
              "      <td>1.0</td>\n",
              "      <td>-1.358354</td>\n",
              "      <td>-1.340163</td>\n",
              "      <td>1.773209</td>\n",
              "      <td>0.379780</td>\n",
              "      <td>-0.503198</td>\n",
              "      <td>1.800499</td>\n",
              "      <td>0.791461</td>\n",
              "      <td>0.247676</td>\n",
              "      <td>-1.514654</td>\n",
              "      <td>...</td>\n",
              "      <td>0.247998</td>\n",
              "      <td>0.771679</td>\n",
              "      <td>0.909412</td>\n",
              "      <td>-0.689281</td>\n",
              "      <td>-0.327642</td>\n",
              "      <td>-0.139097</td>\n",
              "      <td>-0.055353</td>\n",
              "      <td>-0.059752</td>\n",
              "      <td>378.66</td>\n",
              "      <td>0</td>\n",
              "    </tr>\n",
              "    <tr>\n",
              "      <th>3</th>\n",
              "      <td>1.0</td>\n",
              "      <td>-0.966272</td>\n",
              "      <td>-0.185226</td>\n",
              "      <td>1.792993</td>\n",
              "      <td>-0.863291</td>\n",
              "      <td>-0.010309</td>\n",
              "      <td>1.247203</td>\n",
              "      <td>0.237609</td>\n",
              "      <td>0.377436</td>\n",
              "      <td>-1.387024</td>\n",
              "      <td>...</td>\n",
              "      <td>-0.108300</td>\n",
              "      <td>0.005274</td>\n",
              "      <td>-0.190321</td>\n",
              "      <td>-1.175575</td>\n",
              "      <td>0.647376</td>\n",
              "      <td>-0.221929</td>\n",
              "      <td>0.062723</td>\n",
              "      <td>0.061458</td>\n",
              "      <td>123.50</td>\n",
              "      <td>0</td>\n",
              "    </tr>\n",
              "    <tr>\n",
              "      <th>4</th>\n",
              "      <td>2.0</td>\n",
              "      <td>-1.158233</td>\n",
              "      <td>0.877737</td>\n",
              "      <td>1.548718</td>\n",
              "      <td>0.403034</td>\n",
              "      <td>-0.407193</td>\n",
              "      <td>0.095921</td>\n",
              "      <td>0.592941</td>\n",
              "      <td>-0.270533</td>\n",
              "      <td>0.817739</td>\n",
              "      <td>...</td>\n",
              "      <td>-0.009431</td>\n",
              "      <td>0.798278</td>\n",
              "      <td>-0.137458</td>\n",
              "      <td>0.141267</td>\n",
              "      <td>-0.206010</td>\n",
              "      <td>0.502292</td>\n",
              "      <td>0.219422</td>\n",
              "      <td>0.215153</td>\n",
              "      <td>69.99</td>\n",
              "      <td>0</td>\n",
              "    </tr>\n",
              "  </tbody>\n",
              "</table>\n",
              "<p>5 rows × 31 columns</p>\n",
              "</div>\n",
              "    <div class=\"colab-df-buttons\">\n",
              "\n",
              "  <div class=\"colab-df-container\">\n",
              "    <button class=\"colab-df-convert\" onclick=\"convertToInteractive('df-1cde4e25-11ca-4f92-94ce-b82fb7a95596')\"\n",
              "            title=\"Convert this dataframe to an interactive table.\"\n",
              "            style=\"display:none;\">\n",
              "\n",
              "  <svg xmlns=\"http://www.w3.org/2000/svg\" height=\"24px\" viewBox=\"0 -960 960 960\">\n",
              "    <path d=\"M120-120v-720h720v720H120Zm60-500h600v-160H180v160Zm220 220h160v-160H400v160Zm0 220h160v-160H400v160ZM180-400h160v-160H180v160Zm440 0h160v-160H620v160ZM180-180h160v-160H180v160Zm440 0h160v-160H620v160Z\"/>\n",
              "  </svg>\n",
              "    </button>\n",
              "\n",
              "  <style>\n",
              "    .colab-df-container {\n",
              "      display:flex;\n",
              "      gap: 12px;\n",
              "    }\n",
              "\n",
              "    .colab-df-convert {\n",
              "      background-color: #E8F0FE;\n",
              "      border: none;\n",
              "      border-radius: 50%;\n",
              "      cursor: pointer;\n",
              "      display: none;\n",
              "      fill: #1967D2;\n",
              "      height: 32px;\n",
              "      padding: 0 0 0 0;\n",
              "      width: 32px;\n",
              "    }\n",
              "\n",
              "    .colab-df-convert:hover {\n",
              "      background-color: #E2EBFA;\n",
              "      box-shadow: 0px 1px 2px rgba(60, 64, 67, 0.3), 0px 1px 3px 1px rgba(60, 64, 67, 0.15);\n",
              "      fill: #174EA6;\n",
              "    }\n",
              "\n",
              "    .colab-df-buttons div {\n",
              "      margin-bottom: 4px;\n",
              "    }\n",
              "\n",
              "    [theme=dark] .colab-df-convert {\n",
              "      background-color: #3B4455;\n",
              "      fill: #D2E3FC;\n",
              "    }\n",
              "\n",
              "    [theme=dark] .colab-df-convert:hover {\n",
              "      background-color: #434B5C;\n",
              "      box-shadow: 0px 1px 3px 1px rgba(0, 0, 0, 0.15);\n",
              "      filter: drop-shadow(0px 1px 2px rgba(0, 0, 0, 0.3));\n",
              "      fill: #FFFFFF;\n",
              "    }\n",
              "  </style>\n",
              "\n",
              "    <script>\n",
              "      const buttonEl =\n",
              "        document.querySelector('#df-1cde4e25-11ca-4f92-94ce-b82fb7a95596 button.colab-df-convert');\n",
              "      buttonEl.style.display =\n",
              "        google.colab.kernel.accessAllowed ? 'block' : 'none';\n",
              "\n",
              "      async function convertToInteractive(key) {\n",
              "        const element = document.querySelector('#df-1cde4e25-11ca-4f92-94ce-b82fb7a95596');\n",
              "        const dataTable =\n",
              "          await google.colab.kernel.invokeFunction('convertToInteractive',\n",
              "                                                    [key], {});\n",
              "        if (!dataTable) return;\n",
              "\n",
              "        const docLinkHtml = 'Like what you see? Visit the ' +\n",
              "          '<a target=\"_blank\" href=https://colab.research.google.com/notebooks/data_table.ipynb>data table notebook</a>'\n",
              "          + ' to learn more about interactive tables.';\n",
              "        element.innerHTML = '';\n",
              "        dataTable['output_type'] = 'display_data';\n",
              "        await google.colab.output.renderOutput(dataTable, element);\n",
              "        const docLink = document.createElement('div');\n",
              "        docLink.innerHTML = docLinkHtml;\n",
              "        element.appendChild(docLink);\n",
              "      }\n",
              "    </script>\n",
              "  </div>\n",
              "\n",
              "\n",
              "<div id=\"df-abbe2eaf-0942-4eca-8b8d-9d0a3f30bc21\">\n",
              "  <button class=\"colab-df-quickchart\" onclick=\"quickchart('df-abbe2eaf-0942-4eca-8b8d-9d0a3f30bc21')\"\n",
              "            title=\"Suggest charts.\"\n",
              "            style=\"display:none;\">\n",
              "\n",
              "<svg xmlns=\"http://www.w3.org/2000/svg\" height=\"24px\"viewBox=\"0 0 24 24\"\n",
              "     width=\"24px\">\n",
              "    <g>\n",
              "        <path d=\"M19 3H5c-1.1 0-2 .9-2 2v14c0 1.1.9 2 2 2h14c1.1 0 2-.9 2-2V5c0-1.1-.9-2-2-2zM9 17H7v-7h2v7zm4 0h-2V7h2v10zm4 0h-2v-4h2v4z\"/>\n",
              "    </g>\n",
              "</svg>\n",
              "  </button>\n",
              "\n",
              "<style>\n",
              "  .colab-df-quickchart {\n",
              "      --bg-color: #E8F0FE;\n",
              "      --fill-color: #1967D2;\n",
              "      --hover-bg-color: #E2EBFA;\n",
              "      --hover-fill-color: #174EA6;\n",
              "      --disabled-fill-color: #AAA;\n",
              "      --disabled-bg-color: #DDD;\n",
              "  }\n",
              "\n",
              "  [theme=dark] .colab-df-quickchart {\n",
              "      --bg-color: #3B4455;\n",
              "      --fill-color: #D2E3FC;\n",
              "      --hover-bg-color: #434B5C;\n",
              "      --hover-fill-color: #FFFFFF;\n",
              "      --disabled-bg-color: #3B4455;\n",
              "      --disabled-fill-color: #666;\n",
              "  }\n",
              "\n",
              "  .colab-df-quickchart {\n",
              "    background-color: var(--bg-color);\n",
              "    border: none;\n",
              "    border-radius: 50%;\n",
              "    cursor: pointer;\n",
              "    display: none;\n",
              "    fill: var(--fill-color);\n",
              "    height: 32px;\n",
              "    padding: 0;\n",
              "    width: 32px;\n",
              "  }\n",
              "\n",
              "  .colab-df-quickchart:hover {\n",
              "    background-color: var(--hover-bg-color);\n",
              "    box-shadow: 0 1px 2px rgba(60, 64, 67, 0.3), 0 1px 3px 1px rgba(60, 64, 67, 0.15);\n",
              "    fill: var(--button-hover-fill-color);\n",
              "  }\n",
              "\n",
              "  .colab-df-quickchart-complete:disabled,\n",
              "  .colab-df-quickchart-complete:disabled:hover {\n",
              "    background-color: var(--disabled-bg-color);\n",
              "    fill: var(--disabled-fill-color);\n",
              "    box-shadow: none;\n",
              "  }\n",
              "\n",
              "  .colab-df-spinner {\n",
              "    border: 2px solid var(--fill-color);\n",
              "    border-color: transparent;\n",
              "    border-bottom-color: var(--fill-color);\n",
              "    animation:\n",
              "      spin 1s steps(1) infinite;\n",
              "  }\n",
              "\n",
              "  @keyframes spin {\n",
              "    0% {\n",
              "      border-color: transparent;\n",
              "      border-bottom-color: var(--fill-color);\n",
              "      border-left-color: var(--fill-color);\n",
              "    }\n",
              "    20% {\n",
              "      border-color: transparent;\n",
              "      border-left-color: var(--fill-color);\n",
              "      border-top-color: var(--fill-color);\n",
              "    }\n",
              "    30% {\n",
              "      border-color: transparent;\n",
              "      border-left-color: var(--fill-color);\n",
              "      border-top-color: var(--fill-color);\n",
              "      border-right-color: var(--fill-color);\n",
              "    }\n",
              "    40% {\n",
              "      border-color: transparent;\n",
              "      border-right-color: var(--fill-color);\n",
              "      border-top-color: var(--fill-color);\n",
              "    }\n",
              "    60% {\n",
              "      border-color: transparent;\n",
              "      border-right-color: var(--fill-color);\n",
              "    }\n",
              "    80% {\n",
              "      border-color: transparent;\n",
              "      border-right-color: var(--fill-color);\n",
              "      border-bottom-color: var(--fill-color);\n",
              "    }\n",
              "    90% {\n",
              "      border-color: transparent;\n",
              "      border-bottom-color: var(--fill-color);\n",
              "    }\n",
              "  }\n",
              "</style>\n",
              "\n",
              "  <script>\n",
              "    async function quickchart(key) {\n",
              "      const quickchartButtonEl =\n",
              "        document.querySelector('#' + key + ' button');\n",
              "      quickchartButtonEl.disabled = true;  // To prevent multiple clicks.\n",
              "      quickchartButtonEl.classList.add('colab-df-spinner');\n",
              "      try {\n",
              "        const charts = await google.colab.kernel.invokeFunction(\n",
              "            'suggestCharts', [key], {});\n",
              "      } catch (error) {\n",
              "        console.error('Error during call to suggestCharts:', error);\n",
              "      }\n",
              "      quickchartButtonEl.classList.remove('colab-df-spinner');\n",
              "      quickchartButtonEl.classList.add('colab-df-quickchart-complete');\n",
              "    }\n",
              "    (() => {\n",
              "      let quickchartButtonEl =\n",
              "        document.querySelector('#df-abbe2eaf-0942-4eca-8b8d-9d0a3f30bc21 button');\n",
              "      quickchartButtonEl.style.display =\n",
              "        google.colab.kernel.accessAllowed ? 'block' : 'none';\n",
              "    })();\n",
              "  </script>\n",
              "</div>\n",
              "    </div>\n",
              "  </div>\n"
            ],
            "text/plain": [
              "   Time        V1        V2        V3        V4        V5        V6        V7  \\\n",
              "0   0.0 -1.359807 -0.072781  2.536347  1.378155 -0.338321  0.462388  0.239599   \n",
              "1   0.0  1.191857  0.266151  0.166480  0.448154  0.060018 -0.082361 -0.078803   \n",
              "2   1.0 -1.358354 -1.340163  1.773209  0.379780 -0.503198  1.800499  0.791461   \n",
              "3   1.0 -0.966272 -0.185226  1.792993 -0.863291 -0.010309  1.247203  0.237609   \n",
              "4   2.0 -1.158233  0.877737  1.548718  0.403034 -0.407193  0.095921  0.592941   \n",
              "\n",
              "         V8        V9  ...       V21       V22       V23       V24       V25  \\\n",
              "0  0.098698  0.363787  ... -0.018307  0.277838 -0.110474  0.066928  0.128539   \n",
              "1  0.085102 -0.255425  ... -0.225775 -0.638672  0.101288 -0.339846  0.167170   \n",
              "2  0.247676 -1.514654  ...  0.247998  0.771679  0.909412 -0.689281 -0.327642   \n",
              "3  0.377436 -1.387024  ... -0.108300  0.005274 -0.190321 -1.175575  0.647376   \n",
              "4 -0.270533  0.817739  ... -0.009431  0.798278 -0.137458  0.141267 -0.206010   \n",
              "\n",
              "        V26       V27       V28  Amount  Class  \n",
              "0 -0.189115  0.133558 -0.021053  149.62      0  \n",
              "1  0.125895 -0.008983  0.014724    2.69      0  \n",
              "2 -0.139097 -0.055353 -0.059752  378.66      0  \n",
              "3 -0.221929  0.062723  0.061458  123.50      0  \n",
              "4  0.502292  0.219422  0.215153   69.99      0  \n",
              "\n",
              "[5 rows x 31 columns]"
            ]
          },
          "execution_count": 5,
          "metadata": {},
          "output_type": "execute_result"
        }
      ],
      "source": [
        "data.head()"
      ]
    },
    {
      "cell_type": "code",
      "execution_count": null,
      "metadata": {
        "colab": {
          "base_uri": "https://localhost:8080/"
        },
        "id": "Tj9c58lYwuPS",
        "outputId": "d7b3cd3b-99c7-4ff4-b1fb-e0e3890b5d35"
      },
      "outputs": [
        {
          "name": "stdout",
          "output_type": "stream",
          "text": [
            "No of fraud Class is 284315 which is 99.83%\n",
            "No of fraud Class is 492 which is 0.17%\n"
          ]
        }
      ],
      "source": [
        "print('No of fraud Class is {} which is {}%'.format(data['Class'].value_counts()[0],round(100*data['Class'].value_counts()[0]/len(df),2)))\n",
        "print('No of fraud Class is {} which is {}%'.format(data['Class'].value_counts()[1],round(100*data['Class'].value_counts()[1]/len(df),2)))\n",
        "\n",
        "\n"
      ]
    },
    {
      "cell_type": "code",
      "execution_count": null,
      "metadata": {
        "id": "82DQ3a70xKZY"
      },
      "outputs": [],
      "source": [
        "import matplotlib\n",
        "import matplotlib.pyplot as plt\n",
        "import seaborn as sns"
      ]
    },
    {
      "cell_type": "code",
      "execution_count": null,
      "metadata": {
        "colab": {
          "base_uri": "https://localhost:8080/",
          "height": 497
        },
        "id": "CyDJXFh2xdkP",
        "outputId": "c6d3e1ac-aa76-4932-acc0-19dd5e830fe2"
      },
      "outputs": [
        {
          "data": {
            "image/png": "[encoded data removed]",
            "text/plain": [
              "<Figure size 640x480 with 1 Axes>"
            ]
          },
          "metadata": {},
          "output_type": "display_data"
        }
      ],
      "source": [
        "colors=['#0000FF','#FFA500']\n",
        "\n",
        "sns.countplot(data=data,x='Class',palette=colors)\n",
        "plt.title('Class Distibution \\n (0: Non Fraud|| 1: Fraud)',fontsize=15)\n",
        "plt.show()"
      ]
    },
    {
      "cell_type": "code",
      "execution_count": null,
      "metadata": {
        "colab": {
          "base_uri": "https://localhost:8080/",
          "height": 410
        },
        "id": "DuCbm3vdx7yd",
        "outputId": "a1550a10-3b61-4c75-8110-143427e5281b"
      },
      "outputs": [
        {
          "data": {
            "image/png": "[encoded data removed]",
            "text/plain": [
              "<Figure size 1200x400 with 2 Axes>"
            ]
          },
          "metadata": {},
          "output_type": "display_data"
        }
      ],
      "source": [
        "fig, (ax1,ax2)=plt.subplots(2,1, sharex=True, figsize=(12,4))\n",
        "\n",
        "ax1.hist(df.Time[df.Class==1],bins=50)\n",
        "ax1.set_title('Fraud')\n",
        "\n",
        "ax2.hist(df.Time[df.Class==0],bins=50)\n",
        "ax2.set_title('Not Fraud')\n",
        "\n",
        "plt.xlabel('Time (in Seconds)')\n",
        "plt.ylabel('Number of Transaction')\n",
        "plt.show();"
      ]
    },
    {
      "cell_type": "code",
      "execution_count": null,
      "metadata": {
        "id": "qSb6ZCMxyA-m"
      },
      "outputs": [],
      "source": [
        "# Cylindrical Coding\n",
        "seconds_in_day=24*60*60\n",
        "\n",
        "df['sin_time']=np.sin(2*np.pi*df.Time/seconds_in_day)\n",
        "df['cos_time']=np.cos(2*np.pi*df.Time/seconds_in_day)\n",
        "\n",
        "df.drop('Time',axis=1,inplace=True)"
      ]
    },
    {
      "cell_type": "code",
      "execution_count": null,
      "metadata": {
        "id": "PUs0nGHqym5L"
      },
      "outputs": [],
      "source": [
        "from sklearn.preprocessing import MinMaxScaler\n",
        "\n",
        "mm_scaler=MinMaxScaler(feature_range=(0,1))\n",
        "df['scaled_amount']=mm_scaler.fit_transform(df['Amount'].values.reshape(-1,1))\n",
        "df.drop('Amount',axis=1,inplace=True)\n"
      ]
    },
    {
      "cell_type": "code",
      "execution_count": null,
      "metadata": {
        "id": "Nq0xVfdezmSb"
      },
      "outputs": [],
      "source": [
        "from sklearn.model_selection import train_test_split"
      ]
    },
    {
      "cell_type": "code",
      "execution_count": null,
      "metadata": {
        "id": "R7JadqHT0Hv3"
      },
      "outputs": [],
      "source": [
        "# seperating input and output class\n",
        "X=df.drop('Class',axis=1)\n",
        "y=df.Class\n",
        "\n",
        "#setting up testing and training set\n",
        "X_train,X_test,Y_train,Y_test=train_test_split(X,y,test_size=0.25,random_state=27)"
      ]
    },
    {
      "cell_type": "code",
      "execution_count": null,
      "metadata": {
        "id": "wkQP0CLz0j-L"
      },
      "outputs": [],
      "source": [
        "from sklearn.metrics import precision_score, recall_score, f1_score, accuracy_score\n",
        "from sklearn.metrics import average_precision_score"
      ]
    },
    {
      "cell_type": "markdown",
      "metadata": {
        "id": "v1VjPK_k0q_p"
      },
      "source": [
        "## **First we model data as is**"
      ]
    },
    {
      "cell_type": "code",
      "execution_count": null,
      "metadata": {
        "id": "WwWWX-Rn0vg8"
      },
      "outputs": [],
      "source": [
        "from sklearn.linear_model import LogisticRegression\n"
      ]
    },
    {
      "cell_type": "code",
      "execution_count": null,
      "metadata": {
        "colab": {
          "base_uri": "https://localhost:8080/"
        },
        "id": "bfaBf4JT08EO",
        "outputId": "86759e19-2860-4900-b282-d553cbb22930"
      },
      "outputs": [
        {
          "name": "stdout",
          "output_type": "stream",
          "text": [
            "F1 Score: 0.7466666666666666\n",
            "Precision Score: 0.9032258064516129\n",
            "Recall Score: 0.6363636363636364\n",
            "Accuracy Score: 0.9991994606893064\n",
            "Averge precision: 0.5754541970179261\n"
          ]
        }
      ],
      "source": [
        "lr=LogisticRegression(solver='liblinear').fit(X_train,Y_train)\n",
        "\n",
        "#predicting\n",
        "lr_pred=lr.predict(X_test)\n",
        "\n",
        "f1=f1_score(Y_test,lr_pred)\n",
        "print('F1 Score:',f1)\n",
        "precision=precision_score(Y_test,lr_pred)\n",
        "print('Precision Score:',precision)\n",
        "recall=recall_score(Y_test,lr_pred)\n",
        "print('Recall Score:',recall)\n",
        "accuracy=accuracy_score(Y_test,lr_pred)\n",
        "print('Accuracy Score:',accuracy)\n",
        "average_precision=average_precision_score(Y_test,lr_pred)\n",
        "print('Averge precision:',average_precision)"
      ]
    },
    {
      "cell_type": "code",
      "execution_count": null,
      "metadata": {
        "colab": {
          "base_uri": "https://localhost:8080/"
        },
        "id": "IZJymXE01yJe",
        "outputId": "7951942b-b3ee-4813-ffa7-cc077374d70f"
      },
      "outputs": [
        {
          "name": "stdout",
          "output_type": "stream",
          "text": [
            "F1 Score: 0.879668049792531\n",
            "Precision Score: 0.9724770642201835\n",
            "Recall Score: 0.803030303030303\n",
            "Accuracy Score: 0.999592708069998\n",
            "Averge precision: 0.7812937098528241\n"
          ]
        }
      ],
      "source": [
        "# Random Forest Classifier\n",
        "from sklearn.ensemble import RandomForestClassifier\n",
        "\n",
        "rfc=RandomForestClassifier(n_estimators=10).fit(X_train,Y_train)\n",
        "\n",
        "rfc_pred=rfc.predict(X_test)\n",
        "f1=f1_score(Y_test,rfc_pred)\n",
        "print('F1 Score:',f1)\n",
        "precision=precision_score(Y_test,rfc_pred)\n",
        "print('Precision Score:',precision)\n",
        "recall=recall_score(Y_test,rfc_pred)\n",
        "print('Recall Score:',recall)\n",
        "accuracy=accuracy_score(Y_test,rfc_pred)\n",
        "print('Accuracy Score:',accuracy)\n",
        "average_precision=average_precision_score(Y_test,rfc_pred)\n",
        "print('Averge precision:',average_precision)"
      ]
    },
    {
      "cell_type": "code",
      "execution_count": null,
      "metadata": {
        "colab": {
          "base_uri": "https://localhost:8080/"
        },
        "id": "hfsfK17w2ayA",
        "outputId": "2ba24361-c704-4896-fe9e-d7abfa3ca6d4"
      },
      "outputs": [
        {
          "name": "stdout",
          "output_type": "stream",
          "text": [
            "F1 Score: 0.8384279475982532\n",
            "Precision Score: 0.9896907216494846\n",
            "Recall Score: 0.7272727272727273\n",
            "Accuracy Score: 0.9994803516755147\n",
            "Averge precision: 0.7202806740657091\n"
          ]
        }
      ],
      "source": [
        "# Knn Classifier\n",
        "from sklearn.neighbors import KNeighborsClassifier\n",
        "\n",
        "knc=KNeighborsClassifier(n_neighbors=2).fit(X_train,Y_train)\n",
        "\n",
        "knc_pred=knc.predict(X_test)\n",
        "f1=f1_score(Y_test,knc_pred)\n",
        "print('F1 Score:',f1)\n",
        "precision=precision_score(Y_test,knc_pred)\n",
        "print('Precision Score:',precision)\n",
        "recall=recall_score(Y_test,knc_pred)\n",
        "print('Recall Score:',recall)\n",
        "accuracy=accuracy_score(Y_test,knc_pred)\n",
        "print('Accuracy Score:',accuracy)\n",
        "average_precision=average_precision_score(Y_test,knc_pred)\n",
        "print('Averge precision:',average_precision)"
      ]
    },
    {
      "cell_type": "code",
      "execution_count": null,
      "metadata": {
        "colab": {
          "base_uri": "https://localhost:8080/"
        },
        "id": "XEWqVGpQ3DPd",
        "outputId": "30e72bfb-dc6d-401d-e38f-6d5c98ab5c37"
      },
      "outputs": [
        {
          "name": "stdout",
          "output_type": "stream",
          "text": [
            "F1 Score: 0.8260869565217391\n",
            "Precision Score: 0.9693877551020408\n",
            "Recall Score: 0.7196969696969697\n",
            "Accuracy Score: 0.9994382180275835\n",
            "Averge precision: 0.6981850781327722\n"
          ]
        }
      ],
      "source": [
        "# SVM classifier\n",
        "from sklearn import svm\n",
        "\n",
        "clf=svm.SVC()\n",
        "\n",
        "clf.fit(X_train,Y_train)\n",
        "clf_pred=clf.predict(X_test)\n",
        "f1=f1_score(Y_test,clf_pred)\n",
        "print('F1 Score:',f1)\n",
        "precision=precision_score(Y_test,clf_pred)\n",
        "print('Precision Score:',precision)\n",
        "recall=recall_score(Y_test,clf_pred)\n",
        "print('Recall Score:',recall)\n",
        "accuracy=accuracy_score(Y_test,clf_pred)\n",
        "print('Accuracy Score:',accuracy)\n",
        "average_precision=average_precision_score(Y_test,clf_pred)\n",
        "print('Averge precision:',average_precision)\n"
      ]
    },
    {
      "cell_type": "code",
      "execution_count": null,
      "metadata": {
        "colab": {
          "base_uri": "https://localhost:8080/"
        },
        "id": "0SkMZYeB3nw1",
        "outputId": "bf05eb8a-6132-445d-c029-c5d7e6a69dee"
      },
      "outputs": [
        {
          "name": "stdout",
          "output_type": "stream",
          "text": [
            "F1 Score: 0.8571428571428572\n",
            "Precision Score: 0.9292035398230089\n",
            "Recall Score: 0.7954545454545454\n",
            "Accuracy Score: 0.9995084407741356\n",
            "Averge precision: 0.7395183822360473\n"
          ]
        }
      ],
      "source": [
        "# MLP Classifier\n",
        "from sklearn.neural_network import MLPClassifier\n",
        "\n",
        "mlp=MLPClassifier(activation='logistic')\n",
        "mlp.fit(X_train,Y_train)\n",
        "mlp_pred=mlp.predict(X_test)\n",
        "f1=f1_score(Y_test,mlp_pred)\n",
        "print('F1 Score:',f1)\n",
        "precision=precision_score(Y_test,mlp_pred)\n",
        "print('Precision Score:',precision)\n",
        "recall=recall_score(Y_test,mlp_pred)\n",
        "print('Recall Score:',recall)\n",
        "accuracy=accuracy_score(Y_test,mlp_pred)\n",
        "print('Accuracy Score:',accuracy)\n",
        "average_precision=average_precision_score(Y_test,mlp_pred)\n",
        "print('Averge precision:',average_precision)"
      ]
    },
    {
      "cell_type": "code",
      "execution_count": null,
      "metadata": {
        "id": "nWhpiP5I4YK1"
      },
      "outputs": [],
      "source": []
    },
    {
      "cell_type": "markdown",
      "metadata": {
        "id": "piD0leU_4cWb"
      },
      "source": [
        "# **Lets try the same classifier using under sampling of the over represented class**"
      ]
    },
    {
      "cell_type": "code",
      "execution_count": null,
      "metadata": {
        "id": "8E0vw1Xk4toR"
      },
      "outputs": [],
      "source": [
        "fraud=df[df['Class']==0]\n",
        "normal=df[df['Class']==1]"
      ]
    },
    {
      "cell_type": "code",
      "execution_count": null,
      "metadata": {
        "id": "eE2w0_475U0Z"
      },
      "outputs": [],
      "source": [
        "from imblearn.under_sampling import NearMiss"
      ]
    },
    {
      "cell_type": "code",
      "execution_count": null,
      "metadata": {
        "id": "nzTE8VbR5cUi"
      },
      "outputs": [],
      "source": [
        "# Implementing\n",
        "X=df.drop('Class',axis=1)\n",
        "y=df.Class"
      ]
    },
    {
      "cell_type": "code",
      "execution_count": null,
      "metadata": {
        "id": "L9YnpgN55yWy"
      },
      "outputs": [],
      "source": [
        "nm=NearMiss()\n",
        "X_res,y_res=nm.fit_resample(X,y)\n"
      ]
    },
    {
      "cell_type": "code",
      "execution_count": null,
      "metadata": {
        "id": "IPMUHK9N5zhX"
      },
      "outputs": [],
      "source": [
        "#setting up testing and training set\n",
        "X_train_us,X_test_us,Y_train_us,Y_test_us=train_test_split(X_res,y_res,test_size=0.25,random_state=27)"
      ]
    },
    {
      "cell_type": "markdown",
      "metadata": {
        "id": "RtJ62-x07Hpf"
      },
      "source": [
        "# **Applying ML Models**"
      ]
    },
    {
      "cell_type": "code",
      "execution_count": null,
      "metadata": {
        "colab": {
          "base_uri": "https://localhost:8080/"
        },
        "id": "YTtJciVd6toO",
        "outputId": "34faa92c-a9dc-4d16-c21e-1add32cb46c9"
      },
      "outputs": [
        {
          "name": "stdout",
          "output_type": "stream",
          "text": [
            "F1 Score: 0.9565217391304348\n",
            "Precision Score: 0.9821428571428571\n",
            "Recall Score: 0.9322033898305084\n",
            "Accuracy Score: 0.959349593495935\n",
            "Averge precision: 0.9480772259296443\n"
          ]
        }
      ],
      "source": [
        "from sklearn.linear_model import LogisticRegression\n",
        "\n",
        "lr=LogisticRegression(solver='liblinear').fit(X_train_us,Y_train_us)\n",
        "\n",
        "#predicting\n",
        "lr_pred=lr.predict(X_test_us)\n",
        "\n",
        "f1=f1_score(Y_test_us,lr_pred)\n",
        "print('F1 Score:',f1)\n",
        "precision=precision_score(Y_test_us,lr_pred)\n",
        "print('Precision Score:',precision)\n",
        "recall=recall_score(Y_test_us,lr_pred)\n",
        "print('Recall Score:',recall)\n",
        "accuracy=accuracy_score(Y_test_us,lr_pred)\n",
        "print('Accuracy Score:',accuracy)\n",
        "average_precision=average_precision_score(Y_test_us,lr_pred)\n",
        "print('Averge precision:',average_precision)\n",
        "\n"
      ]
    },
    {
      "cell_type": "code",
      "execution_count": null,
      "metadata": {
        "colab": {
          "base_uri": "https://localhost:8080/"
        },
        "id": "c7z427IH7iyi",
        "outputId": "3b234dff-60e9-4a81-cc03-0911f303530c"
      },
      "outputs": [
        {
          "name": "stdout",
          "output_type": "stream",
          "text": [
            "F1 Score: 0.9696969696969698\n",
            "Precision Score: 0.9911504424778761\n",
            "Recall Score: 0.9491525423728814\n",
            "Accuracy Score: 0.9715447154471545\n",
            "Averge precision: 0.9651432062543215\n"
          ]
        }
      ],
      "source": [
        "# Random Forest Classifier\n",
        "from sklearn.ensemble import RandomForestClassifier\n",
        "\n",
        "rfc=RandomForestClassifier(n_estimators=10).fit(X_train_us,Y_train_us)\n",
        "\n",
        "rfc_pred=rfc.predict(X_test_us)\n",
        "f1=f1_score(Y_test_us,rfc_pred)\n",
        "print('F1 Score:',f1)\n",
        "precision=precision_score(Y_test_us,rfc_pred)\n",
        "print('Precision Score:',precision)\n",
        "recall=recall_score(Y_test_us,rfc_pred)\n",
        "print('Recall Score:',recall)\n",
        "accuracy=accuracy_score(Y_test_us,rfc_pred)\n",
        "print('Accuracy Score:',accuracy)\n",
        "average_precision=average_precision_score(Y_test_us,rfc_pred)\n",
        "print('Averge precision:',average_precision)"
      ]
    },
    {
      "cell_type": "code",
      "execution_count": null,
      "metadata": {
        "colab": {
          "base_uri": "https://localhost:8080/"
        },
        "id": "jAm0yM3076Uo",
        "outputId": "e0463e48-038c-48fc-945f-5171c2b29b59"
      },
      "outputs": [
        {
          "name": "stdout",
          "output_type": "stream",
          "text": [
            "F1 Score: 0.9464285714285715\n",
            "Precision Score: 1.0\n",
            "Recall Score: 0.8983050847457628\n",
            "Accuracy Score: 0.9512195121951219\n",
            "Averge precision: 0.9470855725506407\n"
          ]
        }
      ],
      "source": [
        "# Knn Classifier\n",
        "from sklearn.neighbors import KNeighborsClassifier\n",
        "\n",
        "knc=KNeighborsClassifier(n_neighbors=2).fit(X_train_us,Y_train_us)\n",
        "\n",
        "knc_pred=knc.predict(X_test_us)\n",
        "f1=f1_score(Y_test_us,knc_pred)\n",
        "print('F1 Score:',f1)\n",
        "precision=precision_score(Y_test_us,knc_pred)\n",
        "print('Precision Score:',precision)\n",
        "recall=recall_score(Y_test_us,knc_pred)\n",
        "print('Recall Score:',recall)\n",
        "accuracy=accuracy_score(Y_test_us,knc_pred)\n",
        "print('Accuracy Score:',accuracy)\n",
        "average_precision=average_precision_score(Y_test_us,knc_pred)\n",
        "print('Averge precision:',average_precision)"
      ]
    },
    {
      "cell_type": "code",
      "execution_count": null,
      "metadata": {
        "colab": {
          "base_uri": "https://localhost:8080/"
        },
        "id": "5K6ekqFk8OHE",
        "outputId": "45f0d04d-bc3c-465d-ada5-6e2c8f4f086b"
      },
      "outputs": [
        {
          "name": "stdout",
          "output_type": "stream",
          "text": [
            "F1 Score: 0.9464285714285715\n",
            "Precision Score: 1.0\n",
            "Recall Score: 0.8983050847457628\n",
            "Accuracy Score: 0.9512195121951219\n",
            "Averge precision: 0.9470855725506407\n"
          ]
        }
      ],
      "source": [
        "# SVM classifier\n",
        "from sklearn import svm\n",
        "\n",
        "clf=svm.SVC()\n",
        "\n",
        "clf.fit(X_train_us,Y_train_us)\n",
        "clf_pred=clf.predict(X_test_us)\n",
        "f1=f1_score(Y_test_us,clf_pred)\n",
        "print('F1 Score:',f1)\n",
        "precision=precision_score(Y_test_us,clf_pred)\n",
        "print('Precision Score:',precision)\n",
        "recall=recall_score(Y_test_us,clf_pred)\n",
        "print('Recall Score:',recall)\n",
        "accuracy=accuracy_score(Y_test_us,clf_pred)\n",
        "print('Accuracy Score:',accuracy)\n",
        "average_precision=average_precision_score(Y_test_us,clf_pred)\n",
        "print('Averge precision:',average_precision)"
      ]
    },
    {
      "cell_type": "code",
      "execution_count": null,
      "metadata": {
        "colab": {
          "base_uri": "https://localhost:8080/"
        },
        "id": "8-2DCvD98g7K",
        "outputId": "2802c400-5c93-427e-ba56-bdf5e2d228a3"
      },
      "outputs": [
        {
          "name": "stdout",
          "output_type": "stream",
          "text": [
            "F1 Score: 0.961038961038961\n",
            "Precision Score: 0.9823008849557522\n",
            "Recall Score: 0.940677966101695\n",
            "Accuracy Score: 0.9634146341463414\n",
            "Averge precision: 0.9524840831129175\n"
          ]
        },
        {
          "name": "stderr",
          "output_type": "stream",
          "text": [
            "/usr/local/lib/python3.10/dist-packages/sklearn/neural_network/_multilayer_perceptron.py:686: ConvergenceWarning: Stochastic Optimizer: Maximum iterations (200) reached and the optimization hasn't converged yet.\n",
            "  warnings.warn(\n"
          ]
        }
      ],
      "source": [
        "# MLP Classifier\n",
        "from sklearn.neural_network import MLPClassifier\n",
        "\n",
        "mlp=MLPClassifier(activation='logistic')\n",
        "mlp.fit(X_train_us,Y_train_us)\n",
        "mlp_pred=mlp.predict(X_test_us)\n",
        "f1=f1_score(Y_test_us,mlp_pred)\n",
        "print('F1 Score:',f1)\n",
        "precision=precision_score(Y_test_us,mlp_pred)\n",
        "print('Precision Score:',precision)\n",
        "recall=recall_score(Y_test_us,mlp_pred)\n",
        "print('Recall Score:',recall)\n",
        "accuracy=accuracy_score(Y_test_us,mlp_pred)\n",
        "print('Accuracy Score:',accuracy)\n",
        "average_precision=average_precision_score(Y_test_us,mlp_pred)\n",
        "print('Averge precision:',average_precision)"
      ]
    },
    {
      "cell_type": "code",
      "execution_count": null,
      "metadata": {
        "id": "N7THm9xB88hm"
      },
      "outputs": [],
      "source": []
    },
    {
      "cell_type": "markdown",
      "metadata": {
        "id": "PGm1WDsR9IhK"
      },
      "source": [
        "# **Now trying with oversampling of the under represented Class(non-fraud)**"
      ]
    },
    {
      "cell_type": "code",
      "execution_count": null,
      "metadata": {
        "id": "g--ONnJ19WRm"
      },
      "outputs": [],
      "source": [
        "X=df.drop('Class',axis=1)\n",
        "y=df.Class"
      ]
    },
    {
      "cell_type": "code",
      "execution_count": null,
      "metadata": {
        "id": "wFXYMZ_t9dfH"
      },
      "outputs": [],
      "source": [
        "from imblearn.over_sampling import RandomOverSampler"
      ]
    },
    {
      "cell_type": "code",
      "execution_count": null,
      "metadata": {
        "id": "tmaER0a5AvHy"
      },
      "outputs": [],
      "source": [
        "os=RandomOverSampler(sampling_strategy=0.5)\n",
        "X_up,y_up=os.fit_resample(X,y)"
      ]
    },
    {
      "cell_type": "code",
      "execution_count": null,
      "metadata": {
        "id": "upGte1_cBNSE"
      },
      "outputs": [],
      "source": [
        "#setting up testing and training set\n",
        "X_train_os,X_test_os,Y_train_os,Y_test_os=train_test_split(X_up,y_up,test_size=0.25,random_state=27)"
      ]
    },
    {
      "cell_type": "code",
      "execution_count": null,
      "metadata": {
        "id": "QG0AxWlwBd0Y"
      },
      "outputs": [],
      "source": []
    },
    {
      "cell_type": "markdown",
      "metadata": {
        "id": "0iKRMwGKDFpT"
      },
      "source": [
        "# **Applying ML Models**"
      ]
    },
    {
      "cell_type": "code",
      "execution_count": null,
      "metadata": {
        "colab": {
          "base_uri": "https://localhost:8080/"
        },
        "id": "dRZm77ddDJR7",
        "outputId": "ec12d26a-dda2-4837-a7ef-21170100e8d1"
      },
      "outputs": [
        {
          "name": "stdout",
          "output_type": "stream",
          "text": [
            "F1 Score: 0.9365665085222281\n",
            "Precision Score: 0.9742871069948817\n",
            "Recall Score: 0.9016578324123153\n",
            "Accuracy Score: 0.9593689620889531\n",
            "Averge precision: 0.9111885272253426\n"
          ]
        }
      ],
      "source": [
        "from sklearn.linear_model import LogisticRegression\n",
        "\n",
        "lr=LogisticRegression(solver='liblinear').fit(X_train_os,Y_train_os)\n",
        "\n",
        "#predicting\n",
        "lr_pred=lr.predict(X_test_os)\n",
        "\n",
        "f1=f1_score(Y_test_os,lr_pred)\n",
        "print('F1 Score:',f1)\n",
        "precision=precision_score(Y_test_os,lr_pred)\n",
        "print('Precision Score:',precision)\n",
        "recall=recall_score(Y_test_os,lr_pred)\n",
        "print('Recall Score:',recall)\n",
        "accuracy=accuracy_score(Y_test_os,lr_pred)\n",
        "print('Accuracy Score:',accuracy)\n",
        "average_precision=average_precision_score(Y_test_os,lr_pred)\n",
        "print('Averge precision:',average_precision)"
      ]
    },
    {
      "cell_type": "code",
      "execution_count": null,
      "metadata": {
        "colab": {
          "base_uri": "https://localhost:8080/"
        },
        "id": "McGya-KrDVDF",
        "outputId": "749e83ab-fc9b-4288-c757-c7d0cd2cdce3"
      },
      "outputs": [
        {
          "name": "stdout",
          "output_type": "stream",
          "text": [
            "F1 Score: 0.9999013292361473\n",
            "Precision Score: 0.9998026779422128\n",
            "Recall Score: 1.0\n",
            "Accuracy Score: 0.9999343450449267\n",
            "Averge precision: 0.9998026779422128\n"
          ]
        }
      ],
      "source": [
        "# Random Forest Classifier\n",
        "from sklearn.ensemble import RandomForestClassifier\n",
        "\n",
        "rfc=RandomForestClassifier(n_estimators=10).fit(X_train_os,Y_train_os)\n",
        "\n",
        "rfc_pred=rfc.predict(X_test_os)\n",
        "f1=f1_score(Y_test_os,rfc_pred)\n",
        "print('F1 Score:',f1)\n",
        "precision=precision_score(Y_test_os,rfc_pred)\n",
        "print('Precision Score:',precision)\n",
        "recall=recall_score(Y_test_os,rfc_pred)\n",
        "print('Recall Score:',recall)\n",
        "accuracy=accuracy_score(Y_test_os,rfc_pred)\n",
        "print('Accuracy Score:',accuracy)\n",
        "average_precision=average_precision_score(Y_test_os,rfc_pred)\n",
        "print('Averge precision:',average_precision)"
      ]
    },
    {
      "cell_type": "code",
      "execution_count": null,
      "metadata": {
        "colab": {
          "base_uri": "https://localhost:8080/"
        },
        "id": "nA7yKkKCD6fl",
        "outputId": "7d66e2f0-0db9-490f-a198-2eb9644ad988"
      },
      "outputs": [
        {
          "name": "stdout",
          "output_type": "stream",
          "text": [
            "F1 Score: 0.9997040461124344\n",
            "Precision Score: 0.9994082673504466\n",
            "Recall Score: 1.0\n",
            "Accuracy Score: 0.9998030351347802\n",
            "Averge precision: 0.9994082673504466\n"
          ]
        }
      ],
      "source": [
        "# Knn Classifier\n",
        "from sklearn.neighbors import KNeighborsClassifier\n",
        "\n",
        "knc=KNeighborsClassifier(n_neighbors=2).fit(X_train_os,Y_train_os)\n",
        "\n",
        "knc_pred=knc.predict(X_test_os)\n",
        "f1=f1_score(Y_test_os,knc_pred)\n",
        "print('F1 Score:',f1)\n",
        "precision=precision_score(Y_test_os,knc_pred)\n",
        "print('Precision Score:',precision)\n",
        "recall=recall_score(Y_test_os,knc_pred)\n",
        "print('Recall Score:',recall)\n",
        "accuracy=accuracy_score(Y_test_os,knc_pred)\n",
        "print('Accuracy Score:',accuracy)\n",
        "average_precision=average_precision_score(Y_test_os,knc_pred)\n",
        "print('Averge precision:',average_precision)"
      ]
    },
    {
      "cell_type": "code",
      "execution_count": null,
      "metadata": {
        "colab": {
          "base_uri": "https://localhost:8080/"
        },
        "id": "JPlOUDyuESpz",
        "outputId": "4b6ce3aa-1628-449b-8e06-93c921d099d1"
      },
      "outputs": [
        {
          "name": "stdout",
          "output_type": "stream",
          "text": [
            "F1 Score: 0.9651557378232806\n",
            "Precision Score: 0.9892253500281206\n",
            "Recall Score: 0.9422296154279914\n",
            "Accuracy Score: 0.9773677990583204\n",
            "Averge precision: 0.9512955644064869\n"
          ]
        }
      ],
      "source": [
        "# SVM classifier\n",
        "from sklearn import svm\n",
        "\n",
        "clf=svm.SVC()\n",
        "\n",
        "clf.fit(X_train_os,Y_train_os)\n",
        "clf_pred=clf.predict(X_test_os)\n",
        "f1=f1_score(Y_test_os,clf_pred)\n",
        "print('F1 Score:',f1)\n",
        "precision=precision_score(Y_test_os,clf_pred)\n",
        "print('Precision Score:',precision)\n",
        "recall=recall_score(Y_test_os,clf_pred)\n",
        "print('Recall Score:',recall)\n",
        "accuracy=accuracy_score(Y_test_os,clf_pred)\n",
        "print('Accuracy Score:',accuracy)\n",
        "average_precision=average_precision_score(Y_test_os,clf_pred)\n",
        "print('Averge precision:',average_precision)"
      ]
    },
    {
      "cell_type": "code",
      "execution_count": null,
      "metadata": {
        "colab": {
          "base_uri": "https://localhost:8080/"
        },
        "id": "FCR4jhiOEdDM",
        "outputId": "4e467b8d-a069-4f3d-9424-7e1cd4300590"
      },
      "outputs": [
        {
          "name": "stdout",
          "output_type": "stream",
          "text": [
            "F1 Score: 0.9994364292155095\n",
            "Precision Score: 0.9988734932972851\n",
            "Recall Score: 1.0\n",
            "Accuracy Score: 0.9996248288281528\n",
            "Averge precision: 0.9988734932972851\n"
          ]
        }
      ],
      "source": [
        "# MLP Classifier\n",
        "from sklearn.neural_network import MLPClassifier\n",
        "\n",
        "mlp=MLPClassifier(activation='logistic')\n",
        "mlp.fit(X_train_os,Y_train_os)\n",
        "mlp_pred=mlp.predict(X_test_os)\n",
        "f1=f1_score(Y_test_os,mlp_pred)\n",
        "print('F1 Score:',f1)\n",
        "precision=precision_score(Y_test_os,mlp_pred)\n",
        "print('Precision Score:',precision)\n",
        "recall=recall_score(Y_test_os,mlp_pred)\n",
        "print('Recall Score:',recall)\n",
        "accuracy=accuracy_score(Y_test_os,mlp_pred)\n",
        "print('Accuracy Score:',accuracy)\n",
        "average_precision=average_precision_score(Y_test_os,mlp_pred)\n",
        "print('Averge precision:',average_precision)"
      ]
    },
    {
      "cell_type": "code",
      "execution_count": null,
      "metadata": {
        "id": "f-M-YWJ4EuBl"
      },
      "outputs": [],
      "source": []
    },
    {
      "cell_type": "markdown",
      "metadata": {
        "id": "RTWQyEVQFHg_"
      },
      "source": [
        "# **Let's try with over-sampling the under represented class using SMOTE(Synthetic Minority Over-Sampled Technique Algorithm**"
      ]
    },
    {
      "cell_type": "code",
      "execution_count": null,
      "metadata": {
        "id": "GRqK2V4PFnzJ"
      },
      "outputs": [],
      "source": [
        "from imblearn.combine import SMOTETomek\n"
      ]
    },
    {
      "cell_type": "code",
      "execution_count": null,
      "metadata": {
        "id": "L4ChVypxIxUy"
      },
      "outputs": [],
      "source": [
        "X=df.drop('Class',axis=1)\n",
        "y=df.Class"
      ]
    },
    {
      "cell_type": "code",
      "execution_count": null,
      "metadata": {
        "id": "f2uJe_UWIjLX"
      },
      "outputs": [],
      "source": [
        "smk=SMOTETomek(random_state=42)\n",
        "X_res,y_res=smk.fit_resample(X,y)"
      ]
    },
    {
      "cell_type": "code",
      "execution_count": null,
      "metadata": {
        "id": "CcO8BnA-KIz1"
      },
      "outputs": [],
      "source": [
        "#setting up testing and training set\n",
        "X_train_sm,X_test_sm,Y_train_sm,Y_test_sm=train_test_split(X_res,y_res,test_size=0.25,random_state=27)"
      ]
    },
    {
      "cell_type": "code",
      "execution_count": null,
      "metadata": {
        "id": "DvyYliRiKsMB"
      },
      "outputs": [],
      "source": []
    },
    {
      "cell_type": "markdown",
      "metadata": {
        "id": "zZC412ywKxf5"
      },
      "source": [
        "# **Applying ML Models**"
      ]
    },
    {
      "cell_type": "code",
      "execution_count": null,
      "metadata": {
        "colab": {
          "base_uri": "https://localhost:8080/"
        },
        "id": "JAl0Js42K0Df",
        "outputId": "8c728f09-71ef-40b0-c666-c763a34f8169"
      },
      "outputs": [
        {
          "name": "stdout",
          "output_type": "stream",
          "text": [
            "F1 Score: 0.9428830330928993\n",
            "Precision Score: 0.9736790884999476\n",
            "Recall Score: 0.9139753211344408\n",
            "Accuracy Score: 0.9445757537387977\n",
            "Averge precision: 0.9329763820973505\n"
          ]
        }
      ],
      "source": [
        "from sklearn.linear_model import LogisticRegression\n",
        "\n",
        "lr=LogisticRegression(solver='liblinear').fit(X_train_sm,Y_train_sm)\n",
        "\n",
        "#predicting\n",
        "lr_pred=lr.predict(X_test_sm)\n",
        "\n",
        "f1=f1_score(Y_test_sm,lr_pred)\n",
        "print('F1 Score:',f1)\n",
        "precision=precision_score(Y_test_sm,lr_pred)\n",
        "print('Precision Score:',precision)\n",
        "recall=recall_score(Y_test_sm,lr_pred)\n",
        "print('Recall Score:',recall)\n",
        "accuracy=accuracy_score(Y_test_sm,lr_pred)\n",
        "print('Accuracy Score:',accuracy)\n",
        "average_precision=average_precision_score(Y_test_sm,lr_pred)\n",
        "print('Averge precision:',average_precision)"
      ]
    },
    {
      "cell_type": "code",
      "execution_count": null,
      "metadata": {
        "colab": {
          "base_uri": "https://localhost:8080/"
        },
        "id": "nZhJgYpaLmoR",
        "outputId": "989125f1-3b33-48a3-b31d-31ef0372bcc1"
      },
      "outputs": [
        {
          "name": "stdout",
          "output_type": "stream",
          "text": [
            "F1 Score: 0.9999367608929361\n",
            "Precision Score: 0.9998735297837359\n",
            "Recall Score: 1.0\n",
            "Accuracy Score: 0.9999366901616511\n",
            "Averge precision: 0.9998735297837359\n"
          ]
        }
      ],
      "source": [
        "# Random Forest Classifier\n",
        "from sklearn.ensemble import RandomForestClassifier\n",
        "\n",
        "rfc=RandomForestClassifier(n_estimators=10).fit(X_train_sm,Y_train_sm)\n",
        "\n",
        "rfc_pred=rfc.predict(X_test_sm)\n",
        "f1=f1_score(Y_test_sm,rfc_pred)\n",
        "print('F1 Score:',f1)\n",
        "precision=precision_score(Y_test_sm,rfc_pred)\n",
        "print('Precision Score:',precision)\n",
        "recall=recall_score(Y_test_sm,rfc_pred)\n",
        "print('Recall Score:',recall)\n",
        "accuracy=accuracy_score(Y_test_sm,rfc_pred)\n",
        "print('Accuracy Score:',accuracy)\n",
        "average_precision=average_precision_score(Y_test_sm,rfc_pred)\n",
        "print('Averge precision:',average_precision)"
      ]
    },
    {
      "cell_type": "code",
      "execution_count": null,
      "metadata": {
        "colab": {
          "base_uri": "https://localhost:8080/"
        },
        "id": "85grK59HL1RD",
        "outputId": "7ffcf467-6208-4025-bed0-459801819668"
      },
      "outputs": [
        {
          "name": "stdout",
          "output_type": "stream",
          "text": [
            "F1 Score: 0.9996768619076387\n",
            "Precision Score: 0.9993539325842696\n",
            "Recall Score: 1.0\n",
            "Accuracy Score: 0.9996764163817724\n",
            "Averge precision: 0.9993539325842696\n"
          ]
        }
      ],
      "source": [
        "# Knn Classifier\n",
        "from sklearn.neighbors import KNeighborsClassifier\n",
        "\n",
        "knc=KNeighborsClassifier(n_neighbors=2).fit(X_train_sm,Y_train_sm)\n",
        "\n",
        "knc_pred=knc.predict(X_test_sm)\n",
        "f1=f1_score(Y_test_sm,knc_pred)\n",
        "print('F1 Score:',f1)\n",
        "precision=precision_score(Y_test_sm,knc_pred)\n",
        "print('Precision Score:',precision)\n",
        "recall=recall_score(Y_test_sm,knc_pred)\n",
        "print('Recall Score:',recall)\n",
        "accuracy=accuracy_score(Y_test_sm,knc_pred)\n",
        "print('Accuracy Score:',accuracy)\n",
        "average_precision=average_precision_score(Y_test_sm,knc_pred)\n",
        "print('Averge precision:',average_precision)"
      ]
    },
    {
      "cell_type": "code",
      "execution_count": null,
      "metadata": {
        "colab": {
          "background_save": true
        },
        "id": "4CFohlj_MFbj",
        "outputId": "6a225210-ec70-408a-ac00-79a16e07553f"
      },
      "outputs": [
        {
          "name": "stdout",
          "output_type": "stream",
          "text": [
            "F1 Score: 0.9803769432610105\n",
            "Precision Score: 0.9840975388711094\n",
            "Recall Score: 0.9766843747364871\n",
            "Accuracy Score: 0.9804302255237131\n",
            "Averge precision: 0.9728228029676886\n"
          ]
        }
      ],
      "source": [
        "# SVM classifier\n",
        "from sklearn import svm\n",
        "\n",
        "clf=svm.SVC()\n",
        "\n",
        "clf.fit(X_train_sm,Y_train_sm)\n",
        "clf_pred=clf.predict(X_test_sm)\n",
        "f1=f1_score(Y_test_sm,clf_pred)\n",
        "print('F1 Score:',f1)\n",
        "precision=precision_score(Y_test_sm,clf_pred)\n",
        "print('Precision Score:',precision)\n",
        "recall=recall_score(Y_test_sm,clf_pred)\n",
        "print('Recall Score:',recall)\n",
        "accuracy=accuracy_score(Y_test_sm,clf_pred)\n",
        "print('Accuracy Score:',accuracy)\n",
        "average_precision=average_precision_score(Y_test_sm,clf_pred)\n",
        "print('Averge precision:',average_precision)"
      ]
    },
    {
      "cell_type": "code",
      "execution_count": null,
      "metadata": {
        "id": "MFrGfiXnMVky"
      },
      "outputs": [],
      "source": [
        "# MLP Classifier\n",
        "from sklearn.neural_network import MLPClassifier\n",
        "\n",
        "mlp=MLPClassifier(activation='logistic')\n",
        "mlp.fit(X_train_sm,Y_train_sm)\n",
        "mlp_pred=mlp.predict(X_test_os)\n",
        "f1=f1_score(Y_test_sm,mlp_pred)\n",
        "print('F1 Score:',f1)\n",
        "precision=precision_score(Y_test_sm,mlp_pred)\n",
        "print('Precision Score:',precision)\n",
        "recall=recall_score(Y_test_sm,mlp_pred)\n",
        "print('Recall Score:',recall)\n",
        "accuracy=accuracy_score(Y_test_sm,mlp_pred)\n",
        "print('Accuracy Score:',accuracy)\n",
        "average_precision=average_precision_score(Y_test_sm,mlp_pred)\n",
        "print('Averge precision:',average_precision)"
      ]
    },
    {
      "cell_type": "code",
      "execution_count": null,
      "metadata": {
        "id": "eC6I2IKe-Ud5"
      },
      "outputs": [],
      "source": []
    }
  ],
  "metadata": {
    "accelerator": "TPU",
    "colab": {
      "provenance": [],
      "mount_file_id": "1WwKBvnNmMzP3KEYTn-F7pXardqeGTJ5b",
      "authorship_tag": "ABX9TyOdhajqrOZNjQjoy+jTu8ij",
      "include_colab_link": true
    },
    "kernelspec": {
      "display_name": "Python 3",
      "name": "python3"
    },
    "language_info": {
      "name": "python"
    }
  },
  "nbformat": 4,
  "nbformat_minor": 0
}