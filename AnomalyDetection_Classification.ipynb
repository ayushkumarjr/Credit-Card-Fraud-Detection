{
 "cells": [
  {
   "cell_type": "code",
   "execution_count": 1,
   "id": "f8efde11",
   "metadata": {},
   "outputs": [],
   "source": [
    "import numpy as np\n",
    "import pandas as pd"
   ]
  },
  {
   "cell_type": "code",
   "execution_count": 2,
   "id": "8feba7b9",
   "metadata": {},
   "outputs": [],
   "source": [
    "data=pd.read_csv('creditcard.csv')"
   ]
  },
  {
   "cell_type": "code",
   "execution_count": 3,
   "id": "4d206cd3",
   "metadata": {},
   "outputs": [],
   "source": [
    "df=data.copy()"
   ]
  },
  {
   "cell_type": "code",
   "execution_count": 4,
   "id": "1192ab52",
   "metadata": {},
   "outputs": [
    {
     "data": {
      "text/plain": [
       "0"
      ]
     },
     "execution_count": 4,
     "metadata": {},
     "output_type": "execute_result"
    }
   ],
   "source": [
    "data.isnull().sum().max()"
   ]
  },
  {
   "cell_type": "code",
   "execution_count": 5,
   "id": "f8410a97",
   "metadata": {},
   "outputs": [
    {
     "data": {
      "text/html": [
       "<div>\n",
       "<style scoped>\n",
       "    .dataframe tbody tr th:only-of-type {\n",
       "        vertical-align: middle;\n",
       "    }\n",
       "\n",
       "    .dataframe tbody tr th {\n",
       "        vertical-align: top;\n",
       "    }\n",
       "\n",
       "    .dataframe thead th {\n",
       "        text-align: right;\n",
       "    }\n",
       "</style>\n",
       "<table border=\"1\" class=\"dataframe\">\n",
       "  <thead>\n",
       "    <tr style=\"text-align: right;\">\n",
       "      <th></th>\n",
       "      <th>Time</th>\n",
       "      <th>V1</th>\n",
       "      <th>V2</th>\n",
       "      <th>V3</th>\n",
       "      <th>V4</th>\n",
       "      <th>V5</th>\n",
       "      <th>V6</th>\n",
       "      <th>V7</th>\n",
       "      <th>V8</th>\n",
       "      <th>V9</th>\n",
       "      <th>...</th>\n",
       "      <th>V21</th>\n",
       "      <th>V22</th>\n",
       "      <th>V23</th>\n",
       "      <th>V24</th>\n",
       "      <th>V25</th>\n",
       "      <th>V26</th>\n",
       "      <th>V27</th>\n",
       "      <th>V28</th>\n",
       "      <th>Amount</th>\n",
       "      <th>Class</th>\n",
       "    </tr>\n",
       "  </thead>\n",
       "  <tbody>\n",
       "    <tr>\n",
       "      <th>0</th>\n",
       "      <td>0.0</td>\n",
       "      <td>-1.359807</td>\n",
       "      <td>-0.072781</td>\n",
       "      <td>2.536347</td>\n",
       "      <td>1.378155</td>\n",
       "      <td>-0.338321</td>\n",
       "      <td>0.462388</td>\n",
       "      <td>0.239599</td>\n",
       "      <td>0.098698</td>\n",
       "      <td>0.363787</td>\n",
       "      <td>...</td>\n",
       "      <td>-0.018307</td>\n",
       "      <td>0.277838</td>\n",
       "      <td>-0.110474</td>\n",
       "      <td>0.066928</td>\n",
       "      <td>0.128539</td>\n",
       "      <td>-0.189115</td>\n",
       "      <td>0.133558</td>\n",
       "      <td>-0.021053</td>\n",
       "      <td>149.62</td>\n",
       "      <td>0</td>\n",
       "    </tr>\n",
       "    <tr>\n",
       "      <th>1</th>\n",
       "      <td>0.0</td>\n",
       "      <td>1.191857</td>\n",
       "      <td>0.266151</td>\n",
       "      <td>0.166480</td>\n",
       "      <td>0.448154</td>\n",
       "      <td>0.060018</td>\n",
       "      <td>-0.082361</td>\n",
       "      <td>-0.078803</td>\n",
       "      <td>0.085102</td>\n",
       "      <td>-0.255425</td>\n",
       "      <td>...</td>\n",
       "      <td>-0.225775</td>\n",
       "      <td>-0.638672</td>\n",
       "      <td>0.101288</td>\n",
       "      <td>-0.339846</td>\n",
       "      <td>0.167170</td>\n",
       "      <td>0.125895</td>\n",
       "      <td>-0.008983</td>\n",
       "      <td>0.014724</td>\n",
       "      <td>2.69</td>\n",
       "      <td>0</td>\n",
       "    </tr>\n",
       "    <tr>\n",
       "      <th>2</th>\n",
       "      <td>1.0</td>\n",
       "      <td>-1.358354</td>\n",
       "      <td>-1.340163</td>\n",
       "      <td>1.773209</td>\n",
       "      <td>0.379780</td>\n",
       "      <td>-0.503198</td>\n",
       "      <td>1.800499</td>\n",
       "      <td>0.791461</td>\n",
       "      <td>0.247676</td>\n",
       "      <td>-1.514654</td>\n",
       "      <td>...</td>\n",
       "      <td>0.247998</td>\n",
       "      <td>0.771679</td>\n",
       "      <td>0.909412</td>\n",
       "      <td>-0.689281</td>\n",
       "      <td>-0.327642</td>\n",
       "      <td>-0.139097</td>\n",
       "      <td>-0.055353</td>\n",
       "      <td>-0.059752</td>\n",
       "      <td>378.66</td>\n",
       "      <td>0</td>\n",
       "    </tr>\n",
       "    <tr>\n",
       "      <th>3</th>\n",
       "      <td>1.0</td>\n",
       "      <td>-0.966272</td>\n",
       "      <td>-0.185226</td>\n",
       "      <td>1.792993</td>\n",
       "      <td>-0.863291</td>\n",
       "      <td>-0.010309</td>\n",
       "      <td>1.247203</td>\n",
       "      <td>0.237609</td>\n",
       "      <td>0.377436</td>\n",
       "      <td>-1.387024</td>\n",
       "      <td>...</td>\n",
       "      <td>-0.108300</td>\n",
       "      <td>0.005274</td>\n",
       "      <td>-0.190321</td>\n",
       "      <td>-1.175575</td>\n",
       "      <td>0.647376</td>\n",
       "      <td>-0.221929</td>\n",
       "      <td>0.062723</td>\n",
       "      <td>0.061458</td>\n",
       "      <td>123.50</td>\n",
       "      <td>0</td>\n",
       "    </tr>\n",
       "    <tr>\n",
       "      <th>4</th>\n",
       "      <td>2.0</td>\n",
       "      <td>-1.158233</td>\n",
       "      <td>0.877737</td>\n",
       "      <td>1.548718</td>\n",
       "      <td>0.403034</td>\n",
       "      <td>-0.407193</td>\n",
       "      <td>0.095921</td>\n",
       "      <td>0.592941</td>\n",
       "      <td>-0.270533</td>\n",
       "      <td>0.817739</td>\n",
       "      <td>...</td>\n",
       "      <td>-0.009431</td>\n",
       "      <td>0.798278</td>\n",
       "      <td>-0.137458</td>\n",
       "      <td>0.141267</td>\n",
       "      <td>-0.206010</td>\n",
       "      <td>0.502292</td>\n",
       "      <td>0.219422</td>\n",
       "      <td>0.215153</td>\n",
       "      <td>69.99</td>\n",
       "      <td>0</td>\n",
       "    </tr>\n",
       "  </tbody>\n",
       "</table>\n",
       "<p>5 rows × 31 columns</p>\n",
       "</div>"
      ],
      "text/plain": [
       "   Time        V1        V2        V3        V4        V5        V6        V7   \n",
       "0   0.0 -1.359807 -0.072781  2.536347  1.378155 -0.338321  0.462388  0.239599  \\\n",
       "1   0.0  1.191857  0.266151  0.166480  0.448154  0.060018 -0.082361 -0.078803   \n",
       "2   1.0 -1.358354 -1.340163  1.773209  0.379780 -0.503198  1.800499  0.791461   \n",
       "3   1.0 -0.966272 -0.185226  1.792993 -0.863291 -0.010309  1.247203  0.237609   \n",
       "4   2.0 -1.158233  0.877737  1.548718  0.403034 -0.407193  0.095921  0.592941   \n",
       "\n",
       "         V8        V9  ...       V21       V22       V23       V24       V25   \n",
       "0  0.098698  0.363787  ... -0.018307  0.277838 -0.110474  0.066928  0.128539  \\\n",
       "1  0.085102 -0.255425  ... -0.225775 -0.638672  0.101288 -0.339846  0.167170   \n",
       "2  0.247676 -1.514654  ...  0.247998  0.771679  0.909412 -0.689281 -0.327642   \n",
       "3  0.377436 -1.387024  ... -0.108300  0.005274 -0.190321 -1.175575  0.647376   \n",
       "4 -0.270533  0.817739  ... -0.009431  0.798278 -0.137458  0.141267 -0.206010   \n",
       "\n",
       "        V26       V27       V28  Amount  Class  \n",
       "0 -0.189115  0.133558 -0.021053  149.62      0  \n",
       "1  0.125895 -0.008983  0.014724    2.69      0  \n",
       "2 -0.139097 -0.055353 -0.059752  378.66      0  \n",
       "3 -0.221929  0.062723  0.061458  123.50      0  \n",
       "4  0.502292  0.219422  0.215153   69.99      0  \n",
       "\n",
       "[5 rows x 31 columns]"
      ]
     },
     "execution_count": 5,
     "metadata": {},
     "output_type": "execute_result"
    }
   ],
   "source": [
    "data.head()"
   ]
  },
  {
   "cell_type": "code",
   "execution_count": 6,
   "id": "1eaf88fd",
   "metadata": {},
   "outputs": [
    {
     "name": "stdout",
     "output_type": "stream",
     "text": [
      "No Frauds 99.83 % of the dataset\n",
      "Frauds 0.17 % of the dataset\n"
     ]
    }
   ],
   "source": [
    "print('No Frauds',round(100*data['Class'].value_counts()[0]/len(data),2),'% of the dataset')\n",
    "print('Frauds',round(100*data['Class'].value_counts()[1]/len(data),2),'% of the dataset')\n"
   ]
  },
  {
   "cell_type": "code",
   "execution_count": 7,
   "id": "613f3961",
   "metadata": {},
   "outputs": [],
   "source": [
    "import matplotlib\n",
    "import matplotlib.pyplot as plt\n",
    "import seaborn as sns"
   ]
  },
  {
   "cell_type": "code",
   "execution_count": 8,
   "id": "29dd5067",
   "metadata": {},
   "outputs": [
    {
     "data": {
      "image/png": "[encoded data removed]",
      "text/plain": [
       "<Figure size 640x480 with 1 Axes>"
      ]
     },
     "metadata": {},
     "output_type": "display_data"
    }
   ],
   "source": [
    "colors=['#0000FF','#FFA500']\n",
    "\n",
    "sns.countplot(data=data, x='Class',palette=colors)\n",
    "plt.title('Class Distribution \\n (0: Non Fraud|| 1: Fraud)', fontsize=15)\n",
    "plt.show()"
   ]
  },
  {
   "cell_type": "code",
   "execution_count": 9,
   "id": "00923154",
   "metadata": {},
   "outputs": [
    {
     "data": {
      "image/png": "[encoded data removed]",
      "text/plain": [
       "<Figure size 1200x400 with 2 Axes>"
      ]
     },
     "metadata": {},
     "output_type": "display_data"
    }
   ],
   "source": [
    "fig, (ax1,ax2)=plt.subplots(2,1, sharex=True, figsize=(12,4))\n",
    "\n",
    "ax1.hist(df.Time[df.Class==1],bins=50)\n",
    "ax1.set_title('Fraud')\n",
    "\n",
    "ax2.hist(df.Time[df.Class==0],bins=50)\n",
    "ax2.set_title('Not Fraud')\n",
    "\n",
    "plt.xlabel('Time (in Seconds)')\n",
    "plt.ylabel('Number of Transaction')\n",
    "plt.show();"
   ]
  },
  {
   "cell_type": "code",
   "execution_count": 10,
   "id": "0c822856",
   "metadata": {},
   "outputs": [
    {
     "data": {
      "text/plain": [
       "3.141592653589793"
      ]
     },
     "execution_count": 10,
     "metadata": {},
     "output_type": "execute_result"
    }
   ],
   "source": [
    "np.pi"
   ]
  },
  {
   "cell_type": "code",
   "execution_count": 11,
   "id": "5828f91f",
   "metadata": {},
   "outputs": [],
   "source": [
    "#cylidrical coding\n",
    "seconds_in_day=24*60*60\n",
    "\n",
    "df['sin_time']=np.sin(2*np.pi*df.Time/seconds_in_day)\n",
    "df['cos_time']=np.cos(2*np.pi*df.Time/seconds_in_day)\n",
    "\n",
    "df.drop('Time', axis=1, inplace=True)\n"
   ]
  },
  {
   "cell_type": "code",
   "execution_count": 12,
   "id": "da49b515",
   "metadata": {},
   "outputs": [],
   "source": [
    "from sklearn.preprocessing import MinMaxScaler\n",
    "\n",
    "mm_scaler=MinMaxScaler(feature_range=(0,1))\n",
    "df['scaled_amount']=mm_scaler.fit_transform(df['Amount'].values.reshape(-1,1))\n",
    "df.drop('Amount', axis=1, inplace=True)"
   ]
  },
  {
   "cell_type": "code",
   "execution_count": 13,
   "id": "d30bfb13",
   "metadata": {},
   "outputs": [],
   "source": [
    "from sklearn.model_selection import train_test_split"
   ]
  },
  {
   "cell_type": "code",
   "execution_count": 14,
   "id": "5934e02c",
   "metadata": {},
   "outputs": [],
   "source": [
    "# seprerating input and output\n",
    "y=df.Class\n",
    "X=df.drop('Class', axis=1)\n",
    "\n",
    "# setting up testing and training set\n",
    "X_train, X_test, Y_train, Y_test=train_test_split(X,y, test_size=0.25, random_state=27)"
   ]
  },
  {
   "cell_type": "code",
   "execution_count": 15,
   "id": "b7666cef",
   "metadata": {},
   "outputs": [],
   "source": [
    "from sklearn.metrics import precision_score, recall_score, f1_score, accuracy_score\n",
    "from sklearn.metrics import average_precision_score\n",
    "\n"
   ]
  },
  {
   "cell_type": "markdown",
   "id": "e42ed312",
   "metadata": {},
   "source": [
    "## First we model data as is:"
   ]
  },
  {
   "cell_type": "code",
   "execution_count": 16,
   "id": "7802a100",
   "metadata": {},
   "outputs": [],
   "source": [
    "from sklearn.linear_model import LogisticRegression"
   ]
  },
  {
   "cell_type": "code",
   "execution_count": 17,
   "id": "11413c8e",
   "metadata": {},
   "outputs": [
    {
     "name": "stdout",
     "output_type": "stream",
     "text": [
      "F1 Score: 0.7466666666666666\n",
      "Precision Score: 0.9032258064516129\n",
      "Recall Score: 0.6363636363636364\n",
      "Accuracy Score: 0.9991994606893064\n",
      "Averge precision: 0.5754541970179261\n"
     ]
    }
   ],
   "source": [
    "lr=LogisticRegression(solver='liblinear').fit(X_train,Y_train)\n",
    "\n",
    "# predicting\n",
    "lr_pred=lr.predict(X_test)\n",
    "\n",
    "f1=f1_score(Y_test,lr_pred)\n",
    "print('F1 Score:',f1)\n",
    "precision=precision_score(Y_test,lr_pred)\n",
    "print('Precision Score:',precision)\n",
    "recall=recall_score(Y_test,lr_pred)\n",
    "print('Recall Score:',recall)\n",
    "accuracy=accuracy_score(Y_test,lr_pred)\n",
    "print('Accuracy Score:',accuracy)\n",
    "average_precision=average_precision_score(Y_test,lr_pred)\n",
    "print('Averge precision:',average_precision)\n",
    "\n",
    "\n",
    "\n",
    "\n",
    "\n"
   ]
  },
  {
   "cell_type": "code",
   "execution_count": 18,
   "id": "ffff925d",
   "metadata": {},
   "outputs": [],
   "source": [
    "# Random forest classifier\n",
    "from sklearn.ensemble import RandomForestClassifier"
   ]
  },
  {
   "cell_type": "code",
   "execution_count": 19,
   "id": "e8489795",
   "metadata": {},
   "outputs": [
    {
     "name": "stdout",
     "output_type": "stream",
     "text": [
      "F1 Score: 0.8739495798319327\n",
      "Precision Score: 0.9811320754716981\n",
      "Recall Score: 0.7878787878787878\n",
      "Accuracy Score: 0.9995786635206876\n",
      "Averge precision: 0.7734063977523324\n"
     ]
    }
   ],
   "source": [
    "rfc=RandomForestClassifier(n_estimators=10).fit(X_train,Y_train)\n",
    "\n",
    "# predicting\n",
    "rfc_pred=rfc.predict(X_test)\n",
    "\n",
    "f1=f1_score(Y_test,rfc_pred)\n",
    "print('F1 Score:',f1)\n",
    "precision=precision_score(Y_test,rfc_pred)\n",
    "print('Precision Score:',precision)\n",
    "recall=recall_score(Y_test,rfc_pred)\n",
    "print('Recall Score:',recall)\n",
    "accuracy=accuracy_score(Y_test,rfc_pred)\n",
    "print('Accuracy Score:',accuracy)\n",
    "average_precision=average_precision_score(Y_test,rfc_pred)\n",
    "print('Averge precision:',average_precision)\n"
   ]
  },
  {
   "cell_type": "code",
   "execution_count": 20,
   "id": "328d1423",
   "metadata": {},
   "outputs": [],
   "source": [
    "# KNN Classsifer"
   ]
  },
  {
   "cell_type": "code",
   "execution_count": 21,
   "id": "a604a340",
   "metadata": {},
   "outputs": [],
   "source": [
    "from sklearn.neighbors import KNeighborsClassifier"
   ]
  },
  {
   "cell_type": "code",
   "execution_count": 22,
   "id": "0ab1cb0d",
   "metadata": {},
   "outputs": [],
   "source": [
    "#knc=KNeighborsClassifier(n_neighbors=2)"
   ]
  },
  {
   "cell_type": "code",
   "execution_count": 23,
   "id": "b12bfc6f",
   "metadata": {},
   "outputs": [
    {
     "name": "stdout",
     "output_type": "stream",
     "text": [
      "F1 Score: 0.8384279475982532\n",
      "Precision Score: 0.9896907216494846\n",
      "Recall Score: 0.7272727272727273\n",
      "Accuracy Score: 0.9994803516755147\n",
      "Averge precision: 0.7202806740657091\n"
     ]
    }
   ],
   "source": [
    "knc=KNeighborsClassifier(n_neighbors=2).fit(X_train,Y_train)\n",
    "\n",
    "# predicting\n",
    "knc_pred=knc.predict(X_test)\n",
    "\n",
    "f1=f1_score(Y_test,knc_pred)\n",
    "print('F1 Score:',f1)\n",
    "precision=precision_score(Y_test,knc_pred)\n",
    "print('Precision Score:',precision)\n",
    "recall=recall_score(Y_test,knc_pred)\n",
    "print('Recall Score:',recall)\n",
    "accuracy=accuracy_score(Y_test,knc_pred)\n",
    "print('Accuracy Score:',accuracy)\n",
    "average_precision=average_precision_score(Y_test,knc_pred)\n",
    "print('Averge precision:',average_precision)"
   ]
  },
  {
   "cell_type": "code",
   "execution_count": 24,
   "id": "221bf22e",
   "metadata": {},
   "outputs": [],
   "source": [
    "# Support Vector Machine"
   ]
  },
  {
   "cell_type": "code",
   "execution_count": 25,
   "id": "752441b4",
   "metadata": {},
   "outputs": [],
   "source": [
    "from sklearn import svm"
   ]
  },
  {
   "cell_type": "code",
   "execution_count": 26,
   "id": "fb8bc499",
   "metadata": {},
   "outputs": [
    {
     "name": "stdout",
     "output_type": "stream",
     "text": [
      "F1 Score: 0.8260869565217391\n",
      "Precision Score: 0.9693877551020408\n",
      "Recall Score: 0.7196969696969697\n",
      "Accuracy Score: 0.9994382180275835\n",
      "Averge precision: 0.6981850781327722\n"
     ]
    }
   ],
   "source": [
    "clf=svm.SVC()\n",
    "\n",
    "clf.fit(X_train,Y_train)\n",
    "\n",
    "# predicting\n",
    "svm_pred=clf.predict(X_test)\n",
    "\n",
    "f1=f1_score(Y_test,svm_pred)\n",
    "print('F1 Score:',f1)\n",
    "precision=precision_score(Y_test,svm_pred)\n",
    "print('Precision Score:',precision)\n",
    "recall=recall_score(Y_test,svm_pred)\n",
    "print('Recall Score:',recall)\n",
    "accuracy=accuracy_score(Y_test,svm_pred)\n",
    "print('Accuracy Score:',accuracy)\n",
    "average_precision=average_precision_score(Y_test,svm_pred)\n",
    "print('Averge precision:',average_precision)"
   ]
  },
  {
   "cell_type": "code",
   "execution_count": 27,
   "id": "d9023e63",
   "metadata": {},
   "outputs": [],
   "source": [
    "from sklearn.neural_network import MLPClassifier"
   ]
  },
  {
   "cell_type": "code",
   "execution_count": 28,
   "id": "1595b840",
   "metadata": {},
   "outputs": [
    {
     "name": "stdout",
     "output_type": "stream",
     "text": [
      "F1 Score: 0.8582995951417004\n",
      "Precision Score: 0.9217391304347826\n",
      "Recall Score: 0.803030303030303\n",
      "Accuracy Score: 0.9995084407741356\n",
      "Averge precision: 0.7405496115100022\n"
     ]
    }
   ],
   "source": [
    "mlp=MLPClassifier(activation='logistic')\n",
    "\n",
    "mlp.fit(X_train,Y_train)\n",
    "\n",
    "# predicting\n",
    "mlp_pred=mlp.predict(X_test)\n",
    "\n",
    "f1=f1_score(Y_test,mlp_pred)\n",
    "print('F1 Score:',f1)\n",
    "precision=precision_score(Y_test,mlp_pred)\n",
    "print('Precision Score:',precision)\n",
    "recall=recall_score(Y_test,mlp_pred)\n",
    "print('Recall Score:',recall)\n",
    "accuracy=accuracy_score(Y_test,mlp_pred)\n",
    "print('Accuracy Score:',accuracy)\n",
    "average_precision=average_precision_score(Y_test,mlp_pred)\n",
    "print('Averge precision:',average_precision)\n"
   ]
  },
  {
   "cell_type": "markdown",
   "id": "b5c3b14b",
   "metadata": {},
   "source": [
    "# Lets try these same classifier with over sampling the under represented(fraud-Class) data"
   ]
  },
  {
   "cell_type": "code",
   "execution_count": 29,
   "id": "bb7fc92b",
   "metadata": {},
   "outputs": [],
   "source": [
    "from sklearn.utils import resample"
   ]
  },
  {
   "cell_type": "code",
   "execution_count": 30,
   "id": "3dc053d4",
   "metadata": {},
   "outputs": [],
   "source": [
    "y=df.Class\n",
    "x=df.drop('Class', axis=1)\n",
    "\n",
    "X_train,X_test,Y_train,Y_test=train_test_split(x,y,test_size=0.25, random_state=27)\n",
    "\n",
    "#Concating our training set together\n",
    "X=pd.concat([X_train, Y_train], axis=1)\n",
    "\n",
    "#Seperate minority and majority class\n",
    "not_fraud=X[X.Class==0]\n",
    "fraud=X[X.Class==1]\n",
    "\n",
    "#upsample the fraud class\n",
    "fraud_upsampled=resample(fraud, replace=True, n_samples=len(not_fraud), random_state=27)\n",
    "\n",
    "# combining both \n",
    "upsampled=pd.concat([not_fraud,fraud_upsampled])\n",
    "\n",
    "y_train=upsampled.Class\n",
    "x_train=upsampled.drop('Class', axis=1)"
   ]
  },
  {
   "cell_type": "code",
   "execution_count": 31,
   "id": "93590bd8",
   "metadata": {},
   "outputs": [
    {
     "name": "stdout",
     "output_type": "stream",
     "text": [
      "F1 Score: 0.1248665955176094\n",
      "Precision Score: 0.06716417910447761\n",
      "Recall Score: 0.8863636363636364\n",
      "Accuracy Score: 0.9769669391309233\n",
      "Averge precision: 0.059742554264079525\n"
     ]
    }
   ],
   "source": [
    "upsampled=LogisticRegression(solver='liblinear').fit(x_train,y_train)\n",
    "\n",
    "# predicting\n",
    "upsampled_pred=upsampled.predict(X_test)\n",
    "\n",
    "f1=f1_score(Y_test,upsampled_pred)\n",
    "print('F1 Score:',f1)\n",
    "precision=precision_score(Y_test,upsampled_pred)\n",
    "print('Precision Score:',precision)\n",
    "recall=recall_score(Y_test,upsampled_pred)\n",
    "print('Recall Score:',recall)\n",
    "accuracy=accuracy_score(Y_test,upsampled_pred)\n",
    "print('Accuracy Score:',accuracy)\n",
    "average_precision=average_precision_score(Y_test,upsampled_pred)\n",
    "print('Averge precision:',average_precision)"
   ]
  },
  {
   "cell_type": "code",
   "execution_count": 32,
   "id": "8d31c3ef",
   "metadata": {},
   "outputs": [
    {
     "name": "stdout",
     "output_type": "stream",
     "text": [
      "F1 Score: 0.846153846153846\n",
      "Precision Score: 0.9705882352941176\n",
      "Recall Score: 0.75\n",
      "Accuracy Score: 0.9994943962248252\n",
      "Averge precision: 0.7284046465978318\n"
     ]
    }
   ],
   "source": [
    "upsampled=RandomForestClassifier(n_estimators=10).fit(x_train,y_train)\n",
    "\n",
    "# predicting\n",
    "upsampled_pred=upsampled.predict(X_test)\n",
    "\n",
    "f1=f1_score(Y_test,upsampled_pred)\n",
    "print('F1 Score:',f1)\n",
    "precision=precision_score(Y_test,upsampled_pred)\n",
    "print('Precision Score:',precision)\n",
    "recall=recall_score(Y_test,upsampled_pred)\n",
    "print('Recall Score:',recall)\n",
    "accuracy=accuracy_score(Y_test,upsampled_pred)\n",
    "print('Accuracy Score:',accuracy)\n",
    "average_precision=average_precision_score(Y_test,upsampled_pred)\n",
    "print('Averge precision:',average_precision)"
   ]
  },
  {
   "cell_type": "code",
   "execution_count": 33,
   "id": "8f747080",
   "metadata": {},
   "outputs": [
    {
     "name": "stdout",
     "output_type": "stream",
     "text": [
      "F1 Score: 0.8571428571428572\n",
      "Precision Score: 0.9292035398230089\n",
      "Recall Score: 0.7954545454545454\n",
      "Accuracy Score: 0.9995084407741356\n",
      "Averge precision: 0.7395183822360473\n"
     ]
    }
   ],
   "source": [
    "upsampled=KNeighborsClassifier(n_neighbors=2).fit(x_train,y_train)\n",
    "\n",
    "# predicting\n",
    "upsampled_pred=upsampled.predict(X_test)\n",
    "\n",
    "f1=f1_score(Y_test,upsampled_pred)\n",
    "print('F1 Score:',f1)\n",
    "precision=precision_score(Y_test,upsampled_pred)\n",
    "print('Precision Score:',precision)\n",
    "recall=recall_score(Y_test,upsampled_pred)\n",
    "print('Recall Score:',recall)\n",
    "accuracy=accuracy_score(Y_test,upsampled_pred)\n",
    "print('Accuracy Score:',accuracy)\n",
    "average_precision=average_precision_score(Y_test,upsampled_pred)\n",
    "print('Averge precision:',average_precision)"
   ]
  },
  {
   "cell_type": "code",
   "execution_count": 34,
   "id": "0ac87bd4",
   "metadata": {},
   "outputs": [
    {
     "name": "stdout",
     "output_type": "stream",
     "text": [
      "F1 Score: 0.7730496453900709\n",
      "Precision Score: 0.7266666666666667\n",
      "Recall Score: 0.8257575757575758\n",
      "Accuracy Score: 0.9991011488441336\n",
      "Averge precision: 0.6003735296846445\n"
     ]
    }
   ],
   "source": [
    "upsampled=MLPClassifier(activation='logistic')\n",
    "\n",
    "upsampled.fit(x_train,y_train)\n",
    "\n",
    "# predicting\n",
    "upsampled_pred=upsampled.predict(X_test)\n",
    "\n",
    "f1=f1_score(Y_test,upsampled_pred)\n",
    "print('F1 Score:',f1)\n",
    "precision=precision_score(Y_test,upsampled_pred)\n",
    "print('Precision Score:',precision)\n",
    "recall=recall_score(Y_test,upsampled_pred)\n",
    "print('Recall Score:',recall)\n",
    "accuracy=accuracy_score(Y_test,upsampled_pred)\n",
    "print('Accuracy Score:',accuracy)\n",
    "average_precision=average_precision_score(Y_test,upsampled_pred)\n",
    "print('Averge precision:',average_precision)\n"
   ]
  },
  {
   "cell_type": "markdown",
   "id": "231ac8a9",
   "metadata": {},
   "source": [
    "# Lets try these same classifier with under sampling the over represented(non fraud-Class) data"
   ]
  },
  {
   "cell_type": "code",
   "execution_count": 35,
   "id": "609bc4bc",
   "metadata": {},
   "outputs": [],
   "source": [
    "#upsample the fraud class\n",
    "not_fraud_downsampled=resample(not_fraud, replace=True, n_samples=len(fraud), random_state=27)\n",
    "\n",
    "# combining both \n",
    "downsampled=pd.concat([not_fraud_downsampled,fraud])\n",
    "\n",
    "y_train=downsampled.Class\n",
    "x_train=downsampled.drop('Class', axis=1)"
   ]
  },
  {
   "cell_type": "code",
   "execution_count": 36,
   "id": "853b90b4",
   "metadata": {},
   "outputs": [
    {
     "name": "stdout",
     "output_type": "stream",
     "text": [
      "F1 Score: 0.11884205180294566\n",
      "Precision Score: 0.06369080021774633\n",
      "Recall Score: 0.8863636363636364\n",
      "Accuracy Score: 0.9756327069464341\n",
      "Averge precision: 0.056663877523567704\n"
     ]
    }
   ],
   "source": [
    "downsampled=LogisticRegression(solver='liblinear').fit(x_train,y_train)\n",
    "\n",
    "# predicting\n",
    "downsampled_pred=downsampled.predict(X_test)\n",
    "\n",
    "f1=f1_score(Y_test,downsampled_pred)\n",
    "print('F1 Score:',f1)\n",
    "precision=precision_score(Y_test,downsampled_pred)\n",
    "print('Precision Score:',precision)\n",
    "recall=recall_score(Y_test,downsampled_pred)\n",
    "print('Recall Score:',recall)\n",
    "accuracy=accuracy_score(Y_test,downsampled_pred)\n",
    "print('Accuracy Score:',accuracy)\n",
    "average_precision=average_precision_score(Y_test,downsampled_pred)\n",
    "print('Averge precision:',average_precision)"
   ]
  },
  {
   "cell_type": "code",
   "execution_count": 37,
   "id": "a7c8fe0a",
   "metadata": {},
   "outputs": [
    {
     "name": "stdout",
     "output_type": "stream",
     "text": [
      "F1 Score: 0.13814180929095354\n",
      "Precision Score: 0.07513297872340426\n",
      "Recall Score: 0.8560606060606061\n",
      "Accuracy Score: 0.9801971854723182\n",
      "Averge precision: 0.06458522973799391\n"
     ]
    }
   ],
   "source": [
    "downsampled=RandomForestClassifier(n_estimators=10).fit(x_train,y_train)\n",
    "\n",
    "# predicting\n",
    "downsampled_pred=downsampled.predict(X_test)\n",
    "\n",
    "f1=f1_score(Y_test,downsampled_pred)\n",
    "print('F1 Score:',f1)\n",
    "precision=precision_score(Y_test,downsampled_pred)\n",
    "print('Precision Score:',precision)\n",
    "recall=recall_score(Y_test,downsampled_pred)\n",
    "print('Recall Score:',recall)\n",
    "accuracy=accuracy_score(Y_test,downsampled_pred)\n",
    "print('Accuracy Score:',accuracy)\n",
    "average_precision=average_precision_score(Y_test,downsampled_pred)\n",
    "print('Averge precision:',average_precision)"
   ]
  },
  {
   "cell_type": "code",
   "execution_count": 38,
   "id": "ea4408df",
   "metadata": {},
   "outputs": [
    {
     "name": "stdout",
     "output_type": "stream",
     "text": [
      "F1 Score: 0.24191866527632952\n",
      "Precision Score: 0.14026602176541716\n",
      "Recall Score: 0.8787878787878788\n",
      "Accuracy Score: 0.98978961265133\n",
      "Averge precision: 0.123488792522212\n"
     ]
    }
   ],
   "source": [
    "downsampled=KNeighborsClassifier(n_neighbors=2).fit(x_train,y_train)\n",
    "\n",
    "# predicting\n",
    "downsampled_pred=downsampled.predict(X_test)\n",
    "\n",
    "f1=f1_score(Y_test,downsampled_pred)\n",
    "print('F1 Score:',f1)\n",
    "precision=precision_score(Y_test,downsampled_pred)\n",
    "print('Precision Score:',precision)\n",
    "recall=recall_score(Y_test,downsampled_pred)\n",
    "print('Recall Score:',recall)\n",
    "accuracy=accuracy_score(Y_test,downsampled_pred)\n",
    "print('Accuracy Score:',accuracy)\n",
    "average_precision=average_precision_score(Y_test,downsampled_pred)\n",
    "print('Averge precision:',average_precision)"
   ]
  },
  {
   "cell_type": "code",
   "execution_count": 39,
   "id": "9d1afc94",
   "metadata": {},
   "outputs": [
    {
     "name": "stdout",
     "output_type": "stream",
     "text": [
      "F1 Score: 0.18991596638655464\n",
      "Precision Score: 0.10680529300567108\n",
      "Recall Score: 0.8560606060606061\n",
      "Accuracy Score: 0.9864610544647622\n",
      "Averge precision: 0.09169865029781324\n"
     ]
    }
   ],
   "source": [
    "downsampled=svm.SVC()\n",
    "\n",
    "downsampled.fit(x_train,y_train)\n",
    "\n",
    "# predicting\n",
    "downsampled_pred=downsampled.predict(X_test)\n",
    "\n",
    "f1=f1_score(Y_test,downsampled_pred)\n",
    "print('F1 Score:',f1)\n",
    "precision=precision_score(Y_test,downsampled_pred)\n",
    "print('Precision Score:',precision)\n",
    "recall=recall_score(Y_test,downsampled_pred)\n",
    "print('Recall Score:',recall)\n",
    "accuracy=accuracy_score(Y_test,downsampled_pred)\n",
    "print('Accuracy Score:',accuracy)\n",
    "average_precision=average_precision_score(Y_test,downsampled_pred)\n",
    "print('Averge precision:',average_precision)"
   ]
  },
  {
   "cell_type": "code",
   "execution_count": 40,
   "id": "5c2daf84",
   "metadata": {},
   "outputs": [
    {
     "name": "stderr",
     "output_type": "stream",
     "text": [
      "C:\\Users\\kumar\\AppData\\Local\\Programs\\Python\\Python310\\lib\\site-packages\\sklearn\\neural_network\\_multilayer_perceptron.py:686: ConvergenceWarning: Stochastic Optimizer: Maximum iterations (200) reached and the optimization hasn't converged yet.\n",
      "  warnings.warn(\n"
     ]
    },
    {
     "name": "stdout",
     "output_type": "stream",
     "text": [
      "F1 Score: 0.10694698354661791\n",
      "Precision Score: 0.05690661478599222\n",
      "Recall Score: 0.8863636363636364\n",
      "Accuracy Score: 0.9725569506474537\n",
      "Averge precision: 0.050650622254512924\n"
     ]
    }
   ],
   "source": [
    "downsampled=MLPClassifier(activation='logistic')\n",
    "\n",
    "downsampled.fit(x_train,y_train)\n",
    "\n",
    "# predicting\n",
    "downsampled_pred=downsampled.predict(X_test)\n",
    "\n",
    "f1=f1_score(Y_test,downsampled_pred)\n",
    "print('F1 Score:',f1)\n",
    "precision=precision_score(Y_test,downsampled_pred)\n",
    "print('Precision Score:',precision)\n",
    "recall=recall_score(Y_test,downsampled_pred)\n",
    "print('Recall Score:',recall)\n",
    "accuracy=accuracy_score(Y_test,downsampled_pred)\n",
    "print('Accuracy Score:',accuracy)\n",
    "average_precision=average_precision_score(Y_test,downsampled_pred)\n",
    "print('Averge precision:',average_precision)"
   ]
  },
  {
   "cell_type": "markdown",
   "id": "356a11e9",
   "metadata": {},
   "source": [
    "# Lets try over-sampling the under-represented class using SMOTE(Synthetic Minority Over-sampling Technique) algorithm."
   ]
  },
  {
   "cell_type": "code",
   "execution_count": 41,
   "id": "600c5161",
   "metadata": {},
   "outputs": [],
   "source": [
    "from imblearn.over_sampling import SMOTE\n",
    "\n",
    "# Seperate input features and target\n",
    "y=df.Class\n",
    "x=df.drop('Class', axis=1)\n",
    "\n",
    "#Setting up testing and training set\n",
    "X_train, X_test, y_train, y_test = train_test_split(x, y, test_size=0.25, random_state=27)\n",
    "\n",
    "sm=SMOTE(random_state=27)\n",
    "x_train, y_train=sm.fit_resample(X_train, Y_train) "
   ]
  },
  {
   "cell_type": "code",
   "execution_count": 42,
   "id": "edb33291",
   "metadata": {},
   "outputs": [
    {
     "name": "stdout",
     "output_type": "stream",
     "text": [
      "F1 Score: 0.11830698623151452\n",
      "Precision Score: 0.0634226353198469\n",
      "Recall Score: 0.8787878787878788\n",
      "Accuracy Score: 0.9757169742422965\n",
      "Averge precision: 0.05595975594883206\n"
     ]
    }
   ],
   "source": [
    "#  Over-sampling the under-represented class using SMOTE algorithm and LogisticRegression\n",
    "smote=LogisticRegression(solver='liblinear').fit(x_train,y_train)\n",
    "\n",
    "# predicting\n",
    "smote_pred=smote.predict(X_test)\n",
    "\n",
    "f1=f1_score(Y_test,smote_pred)\n",
    "print('F1 Score:',f1)\n",
    "precision=precision_score(Y_test,smote_pred)\n",
    "print('Precision Score:',precision)\n",
    "recall=recall_score(Y_test,smote_pred)\n",
    "print('Recall Score:',recall)\n",
    "accuracy=accuracy_score(Y_test,smote_pred)\n",
    "print('Accuracy Score:',accuracy)\n",
    "average_precision=average_precision_score(Y_test,smote_pred)\n",
    "print('Averge precision:',average_precision)"
   ]
  },
  {
   "cell_type": "code",
   "execution_count": 43,
   "id": "5efbd980",
   "metadata": {},
   "outputs": [
    {
     "name": "stdout",
     "output_type": "stream",
     "text": [
      "F1 Score: 0.8537549407114625\n",
      "Precision Score: 0.8925619834710744\n",
      "Recall Score: 0.8181818181818182\n",
      "Accuracy Score: 0.9994803516755147\n",
      "Averge precision: 0.7306150556597836\n"
     ]
    }
   ],
   "source": [
    "#  Over-sampling the under-represented class using SMOTE algorithm and RandomForest\n",
    "smote=RandomForestClassifier(n_estimators=10).fit(x_train,y_train)\n",
    "\n",
    "# predicting\n",
    "smote_pred=smote.predict(X_test)\n",
    "\n",
    "f1=f1_score(Y_test,smote_pred)\n",
    "print('F1 Score:',f1)\n",
    "precision=precision_score(Y_test,smote_pred)\n",
    "print('Precision Score:',precision)\n",
    "recall=recall_score(Y_test,smote_pred)\n",
    "print('Recall Score:',recall)\n",
    "accuracy=accuracy_score(Y_test,smote_pred)\n",
    "print('Accuracy Score:',accuracy)\n",
    "average_precision=average_precision_score(Y_test,smote_pred)\n",
    "print('Averge precision:',average_precision)"
   ]
  },
  {
   "cell_type": "code",
   "execution_count": 44,
   "id": "3240d7a7",
   "metadata": {},
   "outputs": [
    {
     "name": "stdout",
     "output_type": "stream",
     "text": [
      "F1 Score: 0.8075471698113208\n",
      "Precision Score: 0.8045112781954887\n",
      "Recall Score: 0.8106060606060606\n",
      "Accuracy Score: 0.999283727985169\n",
      "Averge precision: 0.6524928316639519\n"
     ]
    }
   ],
   "source": [
    "#  Over-sampling the under-represented class using SMOTE algorithm and KNearestNeighbors Classifier\n",
    "smote=KNeighborsClassifier(n_neighbors=2).fit(x_train,y_train)\n",
    "\n",
    "# predicting\n",
    "smote_pred=smote.predict(X_test)\n",
    "\n",
    "f1=f1_score(Y_test,smote_pred)\n",
    "print('F1 Score:',f1)\n",
    "precision=precision_score(Y_test,smote_pred)\n",
    "print('Precision Score:',precision)\n",
    "recall=recall_score(Y_test,smote_pred)\n",
    "print('Recall Score:',recall)\n",
    "accuracy=accuracy_score(Y_test,smote_pred)\n",
    "print('Accuracy Score:',accuracy)\n",
    "average_precision=average_precision_score(Y_test,smote_pred)\n",
    "print('Averge precision:',average_precision)\n"
   ]
  },
  {
   "cell_type": "code",
   "execution_count": 45,
   "id": "c330b2d9",
   "metadata": {},
   "outputs": [
    {
     "name": "stdout",
     "output_type": "stream",
     "text": [
      "F1 Score: 0.7985347985347986\n",
      "Precision Score: 0.7730496453900709\n",
      "Recall Score: 0.8257575757575758\n",
      "Accuracy Score: 0.9992275497879273\n",
      "Averge precision: 0.6386746257516981\n"
     ]
    }
   ],
   "source": [
    "#  Over-sampling the under-represented class using SMOTE algorithm and Neural Networks\n",
    "\n",
    "smote=MLPClassifier(activation='logistic')\n",
    "\n",
    "smote.fit(x_train,y_train)\n",
    "\n",
    "# predicting\n",
    "smote_pred=smote.predict(X_test)\n",
    "\n",
    "f1=f1_score(Y_test,smote_pred)\n",
    "print('F1 Score:',f1)\n",
    "precision=precision_score(Y_test,smote_pred)\n",
    "print('Precision Score:',precision)\n",
    "recall=recall_score(Y_test,smote_pred)\n",
    "print('Recall Score:',recall)\n",
    "accuracy=accuracy_score(Y_test,smote_pred)\n",
    "print('Accuracy Score:',accuracy)\n",
    "average_precision=average_precision_score(Y_test,smote_pred)\n",
    "print('Averge precision:',average_precision)"
   ]
  }
 ],
 "metadata": {
  "kernelspec": {
   "display_name": "Python 3 (ipykernel)",
   "language": "python",
   "name": "python3"
  },
  "language_info": {
   "codemirror_mode": {
    "name": "ipython",
    "version": 3
   },
   "file_extension": ".py",
   "mimetype": "text/x-python",
   "name": "python",
   "nbconvert_exporter": "python",
   "pygments_lexer": "ipython3",
   "version": "3.10.10"
  }
 },
 "nbformat": 4,
 "nbformat_minor": 5
}
