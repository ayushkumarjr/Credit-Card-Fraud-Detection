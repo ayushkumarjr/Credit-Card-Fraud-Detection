{
 "cells": [
  {
   "cell_type": "code",
   "execution_count": 1,
   "id": "7032d1c1",
   "metadata": {},
   "outputs": [],
   "source": [
    "import numpy as np\n",
    "import pandas as pd\n",
    "\n",
    "import matplotlib.pyplot as plt\n",
    "import seaborn as sns"
   ]
  },
  {
   "cell_type": "code",
   "execution_count": 2,
   "id": "ec08ab0b",
   "metadata": {},
   "outputs": [],
   "source": [
    "data=pd.read_csv('creditcard.csv')"
   ]
  },
  {
   "cell_type": "code",
   "execution_count": 3,
   "id": "2cd9edda",
   "metadata": {},
   "outputs": [],
   "source": [
    "df=data.copy()"
   ]
  },
  {
   "cell_type": "code",
   "execution_count": 4,
   "id": "aa6f6bc9",
   "metadata": {},
   "outputs": [
    {
     "data": {
      "text/html": [
       "<div>\n",
       "<style scoped>\n",
       "    .dataframe tbody tr th:only-of-type {\n",
       "        vertical-align: middle;\n",
       "    }\n",
       "\n",
       "    .dataframe tbody tr th {\n",
       "        vertical-align: top;\n",
       "    }\n",
       "\n",
       "    .dataframe thead th {\n",
       "        text-align: right;\n",
       "    }\n",
       "</style>\n",
       "<table border=\"1\" class=\"dataframe\">\n",
       "  <thead>\n",
       "    <tr style=\"text-align: right;\">\n",
       "      <th></th>\n",
       "      <th>Time</th>\n",
       "      <th>V1</th>\n",
       "      <th>V2</th>\n",
       "      <th>V3</th>\n",
       "      <th>V4</th>\n",
       "      <th>V5</th>\n",
       "      <th>V6</th>\n",
       "      <th>V7</th>\n",
       "      <th>V8</th>\n",
       "      <th>V9</th>\n",
       "      <th>...</th>\n",
       "      <th>V21</th>\n",
       "      <th>V22</th>\n",
       "      <th>V23</th>\n",
       "      <th>V24</th>\n",
       "      <th>V25</th>\n",
       "      <th>V26</th>\n",
       "      <th>V27</th>\n",
       "      <th>V28</th>\n",
       "      <th>Amount</th>\n",
       "      <th>Class</th>\n",
       "    </tr>\n",
       "  </thead>\n",
       "  <tbody>\n",
       "    <tr>\n",
       "      <th>0</th>\n",
       "      <td>0.0</td>\n",
       "      <td>-1.359807</td>\n",
       "      <td>-0.072781</td>\n",
       "      <td>2.536347</td>\n",
       "      <td>1.378155</td>\n",
       "      <td>-0.338321</td>\n",
       "      <td>0.462388</td>\n",
       "      <td>0.239599</td>\n",
       "      <td>0.098698</td>\n",
       "      <td>0.363787</td>\n",
       "      <td>...</td>\n",
       "      <td>-0.018307</td>\n",
       "      <td>0.277838</td>\n",
       "      <td>-0.110474</td>\n",
       "      <td>0.066928</td>\n",
       "      <td>0.128539</td>\n",
       "      <td>-0.189115</td>\n",
       "      <td>0.133558</td>\n",
       "      <td>-0.021053</td>\n",
       "      <td>149.62</td>\n",
       "      <td>0</td>\n",
       "    </tr>\n",
       "    <tr>\n",
       "      <th>1</th>\n",
       "      <td>0.0</td>\n",
       "      <td>1.191857</td>\n",
       "      <td>0.266151</td>\n",
       "      <td>0.166480</td>\n",
       "      <td>0.448154</td>\n",
       "      <td>0.060018</td>\n",
       "      <td>-0.082361</td>\n",
       "      <td>-0.078803</td>\n",
       "      <td>0.085102</td>\n",
       "      <td>-0.255425</td>\n",
       "      <td>...</td>\n",
       "      <td>-0.225775</td>\n",
       "      <td>-0.638672</td>\n",
       "      <td>0.101288</td>\n",
       "      <td>-0.339846</td>\n",
       "      <td>0.167170</td>\n",
       "      <td>0.125895</td>\n",
       "      <td>-0.008983</td>\n",
       "      <td>0.014724</td>\n",
       "      <td>2.69</td>\n",
       "      <td>0</td>\n",
       "    </tr>\n",
       "    <tr>\n",
       "      <th>2</th>\n",
       "      <td>1.0</td>\n",
       "      <td>-1.358354</td>\n",
       "      <td>-1.340163</td>\n",
       "      <td>1.773209</td>\n",
       "      <td>0.379780</td>\n",
       "      <td>-0.503198</td>\n",
       "      <td>1.800499</td>\n",
       "      <td>0.791461</td>\n",
       "      <td>0.247676</td>\n",
       "      <td>-1.514654</td>\n",
       "      <td>...</td>\n",
       "      <td>0.247998</td>\n",
       "      <td>0.771679</td>\n",
       "      <td>0.909412</td>\n",
       "      <td>-0.689281</td>\n",
       "      <td>-0.327642</td>\n",
       "      <td>-0.139097</td>\n",
       "      <td>-0.055353</td>\n",
       "      <td>-0.059752</td>\n",
       "      <td>378.66</td>\n",
       "      <td>0</td>\n",
       "    </tr>\n",
       "    <tr>\n",
       "      <th>3</th>\n",
       "      <td>1.0</td>\n",
       "      <td>-0.966272</td>\n",
       "      <td>-0.185226</td>\n",
       "      <td>1.792993</td>\n",
       "      <td>-0.863291</td>\n",
       "      <td>-0.010309</td>\n",
       "      <td>1.247203</td>\n",
       "      <td>0.237609</td>\n",
       "      <td>0.377436</td>\n",
       "      <td>-1.387024</td>\n",
       "      <td>...</td>\n",
       "      <td>-0.108300</td>\n",
       "      <td>0.005274</td>\n",
       "      <td>-0.190321</td>\n",
       "      <td>-1.175575</td>\n",
       "      <td>0.647376</td>\n",
       "      <td>-0.221929</td>\n",
       "      <td>0.062723</td>\n",
       "      <td>0.061458</td>\n",
       "      <td>123.50</td>\n",
       "      <td>0</td>\n",
       "    </tr>\n",
       "    <tr>\n",
       "      <th>4</th>\n",
       "      <td>2.0</td>\n",
       "      <td>-1.158233</td>\n",
       "      <td>0.877737</td>\n",
       "      <td>1.548718</td>\n",
       "      <td>0.403034</td>\n",
       "      <td>-0.407193</td>\n",
       "      <td>0.095921</td>\n",
       "      <td>0.592941</td>\n",
       "      <td>-0.270533</td>\n",
       "      <td>0.817739</td>\n",
       "      <td>...</td>\n",
       "      <td>-0.009431</td>\n",
       "      <td>0.798278</td>\n",
       "      <td>-0.137458</td>\n",
       "      <td>0.141267</td>\n",
       "      <td>-0.206010</td>\n",
       "      <td>0.502292</td>\n",
       "      <td>0.219422</td>\n",
       "      <td>0.215153</td>\n",
       "      <td>69.99</td>\n",
       "      <td>0</td>\n",
       "    </tr>\n",
       "  </tbody>\n",
       "</table>\n",
       "<p>5 rows × 31 columns</p>\n",
       "</div>"
      ],
      "text/plain": [
       "   Time        V1        V2        V3        V4        V5        V6        V7   \n",
       "0   0.0 -1.359807 -0.072781  2.536347  1.378155 -0.338321  0.462388  0.239599  \\\n",
       "1   0.0  1.191857  0.266151  0.166480  0.448154  0.060018 -0.082361 -0.078803   \n",
       "2   1.0 -1.358354 -1.340163  1.773209  0.379780 -0.503198  1.800499  0.791461   \n",
       "3   1.0 -0.966272 -0.185226  1.792993 -0.863291 -0.010309  1.247203  0.237609   \n",
       "4   2.0 -1.158233  0.877737  1.548718  0.403034 -0.407193  0.095921  0.592941   \n",
       "\n",
       "         V8        V9  ...       V21       V22       V23       V24       V25   \n",
       "0  0.098698  0.363787  ... -0.018307  0.277838 -0.110474  0.066928  0.128539  \\\n",
       "1  0.085102 -0.255425  ... -0.225775 -0.638672  0.101288 -0.339846  0.167170   \n",
       "2  0.247676 -1.514654  ...  0.247998  0.771679  0.909412 -0.689281 -0.327642   \n",
       "3  0.377436 -1.387024  ... -0.108300  0.005274 -0.190321 -1.175575  0.647376   \n",
       "4 -0.270533  0.817739  ... -0.009431  0.798278 -0.137458  0.141267 -0.206010   \n",
       "\n",
       "        V26       V27       V28  Amount  Class  \n",
       "0 -0.189115  0.133558 -0.021053  149.62      0  \n",
       "1  0.125895 -0.008983  0.014724    2.69      0  \n",
       "2 -0.139097 -0.055353 -0.059752  378.66      0  \n",
       "3 -0.221929  0.062723  0.061458  123.50      0  \n",
       "4  0.502292  0.219422  0.215153   69.99      0  \n",
       "\n",
       "[5 rows x 31 columns]"
      ]
     },
     "execution_count": 4,
     "metadata": {},
     "output_type": "execute_result"
    }
   ],
   "source": [
    "df.head()"
   ]
  },
  {
   "cell_type": "code",
   "execution_count": 5,
   "id": "d394f1c4",
   "metadata": {},
   "outputs": [
    {
     "data": {
      "text/plain": [
       "0"
      ]
     },
     "execution_count": 5,
     "metadata": {},
     "output_type": "execute_result"
    }
   ],
   "source": [
    "# check for any null values\n",
    "data.isnull().sum().max()"
   ]
  },
  {
   "cell_type": "code",
   "execution_count": 6,
   "id": "b3fbd96d",
   "metadata": {},
   "outputs": [
    {
     "name": "stdout",
     "output_type": "stream",
     "text": [
      "No Frauds 99.83 % of the dataset= 284315 records\n",
      "Frauds 0.17 % of the dataset= 492 records\n"
     ]
    }
   ],
   "source": [
    "print('No Frauds',round(data['Class'].value_counts()[0]/len(data) * 100,2), '% of the dataset=',data['Class'].value_counts()[0],'records')\n",
    "print('Frauds',round(data['Class'].value_counts()[1]/len(data)*100,2), '% of the dataset=',data['Class'].value_counts()[1],'records')"
   ]
  },
  {
   "cell_type": "code",
   "execution_count": 7,
   "id": "f5409bd1",
   "metadata": {},
   "outputs": [
    {
     "data": {
      "image/png": "[encoded data removed]",
      "text/plain": [
       "<Figure size 640x480 with 1 Axes>"
      ]
     },
     "metadata": {},
     "output_type": "display_data"
    }
   ],
   "source": [
    "colors = [\"#0101DF\", \"#DF0101\"]\n",
    "\n",
    "sns.countplot( x='Class',data=data, palette=colors)\n",
    "plt.title('Class Distributions \\n (0: No Fraud || 1: Fraud)', fontsize=14)\n",
    "plt.show()"
   ]
  },
  {
   "cell_type": "code",
   "execution_count": 8,
   "id": "9ecf431e",
   "metadata": {},
   "outputs": [
    {
     "data": {
      "image/png": "[encoded data removed]",
      "text/plain": [
       "<Figure size 1200x400 with 2 Axes>"
      ]
     },
     "metadata": {},
     "output_type": "display_data"
    }
   ],
   "source": [
    "f, (ax1, ax2)=plt.subplots(2,1, sharex=True, figsize=(12,4))\n",
    "\n",
    "bins=50\n",
    "\n",
    "ax1.hist(df.Time[df.Class==1], bins=bins)\n",
    "ax1.set_title('Fraud')\n",
    "\n",
    "ax2.hist(df.Time[df.Class==0], bins=bins)\n",
    "ax2.set_title('Normal')\n",
    "\n",
    "plt.xlabel('Time(in Seconds)')\n",
    "plt.ylabel('Number of Transactions')\n",
    "plt.show()"
   ]
  },
  {
   "cell_type": "code",
   "execution_count": 9,
   "id": "28942c34",
   "metadata": {},
   "outputs": [],
   "source": [
    "#Cylindrical encoding of the seconds attribute\n",
    "seconds_in_day=24*60*60\n",
    "\n",
    "df['sin_time']=np.sin(2*np.pi*df.Time/seconds_in_day)\n",
    "df['cos_time']=np.cos(2*np.pi*df.Time/seconds_in_day)\n",
    "\n",
    "df.drop('Time', axis=1, inplace=True)"
   ]
  },
  {
   "cell_type": "code",
   "execution_count": 10,
   "id": "00f7da44",
   "metadata": {},
   "outputs": [],
   "source": [
    "from sklearn.model_selection import train_test_split\n",
    "\n",
    "# seperate the input and output class\n",
    "\n",
    "y=df.Class\n",
    "x=df.drop('Class', axis=1)\n",
    "\n",
    "# Setting up traning and testing sets\n",
    "X_train, X_test, Y_train, Y_test=train_test_split(x, y, test_size=0.25, random_state=27)\n"
   ]
  },
  {
   "cell_type": "code",
   "execution_count": 11,
   "id": "cdacc3ef",
   "metadata": {},
   "outputs": [],
   "source": [
    "from sklearn.cluster import KMeans\n",
    "\n",
    "from sklearn.metrics import precision_score, recall_score, f1_score, roc_auc_score, accuracy_score, classification_report\n",
    "\n",
    "from sklearn.metrics.cluster import adjusted_rand_score\n",
    "from sklearn.metrics import precision_recall_curve\n",
    "from sklearn.metrics import average_precision_score"
   ]
  },
  {
   "cell_type": "markdown",
   "id": "6a610b68",
   "metadata": {},
   "source": [
    "## First we model data as-is"
   ]
  },
  {
   "cell_type": "code",
   "execution_count": 12,
   "id": "3493737c",
   "metadata": {},
   "outputs": [
    {
     "name": "stdout",
     "output_type": "stream",
     "text": [
      "f1 score: 0.7443946188340808\n",
      "precision score: 0.9120879120879121\n",
      "recall score: 0.6287878787878788\n",
      "accuracy score: 0.9991994606893064\n",
      "averaage precision score: 0.5741980064260337\n"
     ]
    }
   ],
   "source": [
    "# Modeling the data as is using LogisticRegression\n",
    "\n",
    "from sklearn.linear_model import LogisticRegression\n",
    "\n",
    "lr=LogisticRegression(solver='liblinear').fit(X_train, Y_train)\n",
    "\n",
    "#predicting on testing set\n",
    "lr_pred=lr.predict(X_test)\n",
    "\n",
    "#Performance metrics\n",
    "f1=f1_score(Y_test, lr_pred)\n",
    "print(\"f1 score:\",f1)\n",
    "precision=precision_score(Y_test, lr_pred)\n",
    "print(\"precision score:\",precision)\n",
    "recall=recall_score(Y_test, lr_pred)\n",
    "print(\"recall score:\",recall)\n",
    "accuracy=accuracy_score(Y_test, lr_pred)\n",
    "print(\"accuracy score:\",accuracy)\n",
    "average_precision=average_precision_score(Y_test, lr_pred)\n",
    "print(\"averaage precision score:\",average_precision)\n"
   ]
  },
  {
   "cell_type": "code",
   "execution_count": 13,
   "id": "f5e00f4e",
   "metadata": {},
   "outputs": [
    {
     "name": "stdout",
     "output_type": "stream",
     "text": [
      "f1 score: 0.7443946188340808\n",
      "precision score: 0.9120879120879121\n",
      "recall score: 0.6287878787878788\n",
      "accuracy score: 0.9991994606893064\n",
      "averaage precision score: 0.5741980064260337\n"
     ]
    }
   ],
   "source": [
    "# Modeling the data as is using RandomForest classifier\n",
    "\n",
    "from sklearn.ensemble import RandomForestClassifier\n",
    "\n",
    "rfc=RandomForestClassifier().fit(X_train, Y_train)\n",
    "\n",
    "#predicting on testing set\n",
    "rfc_pred=lr.predict(X_test)\n",
    "\n",
    "#Performance metrics\n",
    "f1=f1_score(Y_test, rfc_pred)\n",
    "print(\"f1 score:\",f1)\n",
    "precision=precision_score(Y_test, rfc_pred)\n",
    "print(\"precision score:\",precision)\n",
    "recall=recall_score(Y_test, rfc_pred)\n",
    "print(\"recall score:\",recall)\n",
    "accuracy=accuracy_score(Y_test, rfc_pred)\n",
    "print(\"accuracy score:\",accuracy)\n",
    "average_precision=average_precision_score(Y_test, rfc_pred)\n",
    "print(\"averaage precision score:\",average_precision)"
   ]
  },
  {
   "cell_type": "code",
   "execution_count": 14,
   "id": "9fb1c782",
   "metadata": {},
   "outputs": [
    {
     "name": "stdout",
     "output_type": "stream",
     "text": [
      "f1 score: 0.7465437788018433\n",
      "precision score: 0.9529411764705882\n",
      "recall score: 0.6136363636363636\n",
      "accuracy score: 0.9992275497879273\n",
      "averaage precision score: 0.5854756303036011\n"
     ]
    }
   ],
   "source": [
    "# Modeling the data as is using KNeighbors classifier\n",
    "\n",
    "from sklearn.neighbors import KNeighborsClassifier\n",
    "\n",
    "knc=KNeighborsClassifier(n_neighbors=2).fit(X_train, Y_train)\n",
    "\n",
    "#predicting on testing set\n",
    "knc_pred=knc.predict(X_test)\n",
    "\n",
    "#Performance metrics\n",
    "f1=f1_score(Y_test, knc_pred)\n",
    "print(\"f1 score:\",f1)\n",
    "precision=precision_score(Y_test, knc_pred)\n",
    "print(\"precision score:\",precision)\n",
    "recall=recall_score(Y_test, knc_pred)\n",
    "print(\"recall score:\",recall)\n",
    "accuracy=accuracy_score(Y_test, knc_pred)\n",
    "print(\"accuracy score:\",accuracy)\n",
    "average_precision=average_precision_score(Y_test, knc_pred)\n",
    "print(\"averaage precision score:\",average_precision)"
   ]
  },
  {
   "cell_type": "code",
   "execution_count": 15,
   "id": "7481b72d",
   "metadata": {},
   "outputs": [
    {
     "name": "stdout",
     "output_type": "stream",
     "text": [
      "f1 score: 0.49729729729729744\n",
      "precision score: 0.8679245283018868\n",
      "recall score: 0.3484848484848485\n",
      "accuracy score: 0.9986938569141316\n",
      "averaage precision score: 0.3036663789822622\n"
     ]
    }
   ],
   "source": [
    "# Modeling the data as is using SVC\n",
    "\n",
    "from sklearn import svm\n",
    "\n",
    "clf=svm.SVC()\n",
    "clf.fit(X_train,Y_train)\n",
    "\n",
    "#predicting on testing set\n",
    "SVM_pred=clf.predict(X_test)\n",
    "\n",
    "#Performance metrics\n",
    "f1=f1_score(Y_test, SVM_pred)\n",
    "print(\"f1 score:\",f1)\n",
    "precision=precision_score(Y_test, SVM_pred)\n",
    "print(\"precision score:\",precision)\n",
    "recall=recall_score(Y_test, SVM_pred)\n",
    "print(\"recall score:\",recall)\n",
    "accuracy=accuracy_score(Y_test, SVM_pred)\n",
    "print(\"accuracy score:\",accuracy)\n",
    "average_precision=average_precision_score(Y_test, SVM_pred)\n",
    "print(\"averaage precision score:\",average_precision)"
   ]
  },
  {
   "cell_type": "code",
   "execution_count": 16,
   "id": "5d6d6e8a",
   "metadata": {},
   "outputs": [
    {
     "name": "stdout",
     "output_type": "stream",
     "text": [
      "f1 score: 0.8381742738589212\n",
      "precision score: 0.926605504587156\n",
      "recall score: 0.7651515151515151\n",
      "accuracy score: 0.9994522625768939\n",
      "averaage precision score: 0.7094289868112195\n"
     ]
    }
   ],
   "source": [
    "# Modeling the data as is using neural networks\n",
    "\n",
    "from sklearn.neural_network import MLPClassifier\n",
    "\n",
    "mlp=MLPClassifier(activation='logistic')\n",
    "mlp.fit(X_train, Y_train)\n",
    "\n",
    "#predicting on testing set\n",
    "mlp_pred=mlp.predict(X_test)\n",
    "\n",
    "#Performance metrics\n",
    "f1=f1_score(Y_test, mlp_pred)\n",
    "print(\"f1 score:\",f1)\n",
    "precision=precision_score(Y_test, mlp_pred)\n",
    "print(\"precision score:\",precision)\n",
    "recall=recall_score(Y_test, mlp_pred)\n",
    "print(\"recall score:\",recall)\n",
    "accuracy=accuracy_score(Y_test, mlp_pred)\n",
    "print(\"accuracy score:\",accuracy)\n",
    "average_precision=average_precision_score(Y_test, mlp_pred)\n",
    "print(\"averaage precision score:\",average_precision)"
   ]
  },
  {
   "cell_type": "markdown",
   "id": "095315b9",
   "metadata": {},
   "source": [
    "## Lets try these same classifiers with over sampling the under represented(fraud) data"
   ]
  },
  {
   "cell_type": "code",
   "execution_count": 17,
   "id": "3c890e4c",
   "metadata": {},
   "outputs": [
    {
     "name": "stdout",
     "output_type": "stream",
     "text": [
      "Class\n",
      "0    213245\n",
      "1    213245\n",
      "Name: count, dtype: int64\n"
     ]
    }
   ],
   "source": [
    "from sklearn.model_selection import train_test_split\n",
    "from sklearn.utils import resample\n",
    "\n",
    "#Seperate input feature and target\n",
    "y=df.Class\n",
    "x=df.drop('Class', axis=1)\n",
    "\n",
    "# setting up training and testing sets\n",
    "X_train, X_test, Y_train, Y_test=train_test_split(x,y,test_size=0.25, random_state=27)\n",
    "\n",
    "#concating our training set together\n",
    "\n",
    "X=pd.concat([X_train, Y_train], axis=1)\n",
    "\n",
    "# Seperate minority and majority Classes\n",
    "not_fraud=X[X.Class==0]\n",
    "fraud=X[X.Class==1]\n",
    "\n",
    "#upsample the minority classes\n",
    "fraud_upsampled=resample(fraud, replace=True, n_samples=len(not_fraud), random_state=27)\n",
    "\n",
    "#combine majority and upsampled minority\n",
    "upsampled=pd.concat([not_fraud, fraud_upsampled])\n",
    "\n",
    "print(upsampled.Class.value_counts())\n",
    "\n",
    "y_train=upsampled.Class\n",
    "x_train=upsampled.drop('Class', axis=1)"
   ]
  },
  {
   "cell_type": "code",
   "execution_count": 18,
   "id": "de12c601",
   "metadata": {},
   "outputs": [
    {
     "name": "stdout",
     "output_type": "stream",
     "text": [
      "f1 score: 0.12520237452779276\n",
      "precision score: 0.0674026728646136\n",
      "recall score: 0.8787878787878788\n",
      "accuracy score: 0.9772337855678211\n",
      "averaage precision score: 0.059457364700293704\n"
     ]
    }
   ],
   "source": [
    "# Modeling the data as is using LogisticRegression\n",
    "\n",
    "from sklearn.linear_model import LogisticRegression\n",
    "\n",
    "upsampled=LogisticRegression(solver='liblinear').fit(x_train, y_train)\n",
    "\n",
    "#predicting on testing set\n",
    "upsampled_pred=upsampled.predict(X_test)\n",
    "\n",
    "#Performance metrics\n",
    "f1=f1_score(Y_test, upsampled_pred)\n",
    "print(\"f1 score:\",f1)\n",
    "precision=precision_score(Y_test, upsampled_pred)\n",
    "print(\"precision score:\",precision)\n",
    "recall=recall_score(Y_test, upsampled_pred)\n",
    "print(\"recall score:\",recall)\n",
    "accuracy=accuracy_score(Y_test, upsampled_pred)\n",
    "print(\"accuracy score:\",accuracy)\n",
    "average_precision=average_precision_score(Y_test, upsampled_pred)\n",
    "print(\"averaage precision score:\",average_precision)\n"
   ]
  },
  {
   "cell_type": "code",
   "execution_count": 19,
   "id": "9cb7f371",
   "metadata": {},
   "outputs": [
    {
     "name": "stdout",
     "output_type": "stream",
     "text": [
      "f1 score: 0.8852459016393442\n",
      "precision score: 0.9642857142857143\n",
      "recall score: 0.8181818181818182\n",
      "accuracy score: 0.9996067526193084\n",
      "averaage precision score: 0.7892981081444889\n"
     ]
    }
   ],
   "source": [
    "# Modeling the upsampled data as is using RandomForest classifier\n",
    "\n",
    "from sklearn.ensemble import RandomForestClassifier\n",
    "\n",
    "upsampled=RandomForestClassifier().fit(x_train, y_train)\n",
    "\n",
    "#predicting on testing set\n",
    "upsampled_pred=upsampled.predict(X_test)\n",
    "\n",
    "#Performance metrics\n",
    "f1=f1_score(Y_test, upsampled_pred)\n",
    "print(\"f1 score:\",f1)\n",
    "precision=precision_score(Y_test, upsampled_pred)\n",
    "print(\"precision score:\",precision)\n",
    "recall=recall_score(Y_test, upsampled_pred)\n",
    "print(\"recall score:\",recall)\n",
    "accuracy=accuracy_score(Y_test, upsampled_pred)\n",
    "print(\"accuracy score:\",accuracy)\n",
    "average_precision=average_precision_score(Y_test, upsampled_pred)\n",
    "print(\"averaage precision score:\",average_precision)"
   ]
  },
  {
   "cell_type": "code",
   "execution_count": 20,
   "id": "1ad25ca1",
   "metadata": {},
   "outputs": [
    {
     "name": "stdout",
     "output_type": "stream",
     "text": [
      "f1 score: 0.8083333333333332\n",
      "precision score: 0.8981481481481481\n",
      "recall score: 0.7348484848484849\n",
      "accuracy score: 0.9993539507317211\n",
      "averaage precision score: 0.6604943650620035\n"
     ]
    }
   ],
   "source": [
    "# Modeling the upsampled data as is using KNeighbors classifier\n",
    "\n",
    "from sklearn.neighbors import KNeighborsClassifier\n",
    "\n",
    "upsampled=KNeighborsClassifier(n_neighbors=2).fit(x_train, y_train)\n",
    "\n",
    "#predicting on testing set\n",
    "upsampled_pred=upsampled.predict(X_test)\n",
    "\n",
    "#Performance metrics\n",
    "f1=f1_score(Y_test, upsampled_pred)\n",
    "print(\"f1 score:\",f1)\n",
    "precision=precision_score(Y_test, upsampled_pred)\n",
    "print(\"precision score:\",precision)\n",
    "recall=recall_score(Y_test, upsampled_pred)\n",
    "print(\"recall score:\",recall)\n",
    "accuracy=accuracy_score(Y_test, upsampled_pred)\n",
    "print(\"accuracy score:\",accuracy)\n",
    "average_precision=average_precision_score(Y_test, upsampled_pred)\n",
    "print(\"averaage precision score:\",average_precision)"
   ]
  },
  {
   "cell_type": "code",
   "execution_count": 21,
   "id": "8c15e5e4",
   "metadata": {},
   "outputs": [
    {
     "name": "stdout",
     "output_type": "stream",
     "text": [
      "f1 score: 0.21062441752096925\n",
      "precision score: 0.12008501594048884\n",
      "recall score: 0.8560606060606061\n",
      "accuracy score: 0.9881042667340805\n",
      "averaage precision score: 0.10306689796171026\n"
     ]
    }
   ],
   "source": [
    "# Modeling the upsampled data as is using SVC\n",
    "\n",
    "from sklearn import svm\n",
    "\n",
    "upsampled=svm.SVC()\n",
    "upsampled.fit(x_train,y_train)\n",
    "\n",
    "#predicting on testing set\n",
    "upsampled_pred=upsampled.predict(X_test)\n",
    "\n",
    "#Performance metrics\n",
    "f1=f1_score(Y_test, upsampled_pred)\n",
    "print(\"f1 score:\",f1)\n",
    "precision=precision_score(Y_test, upsampled_pred)\n",
    "print(\"precision score:\",precision)\n",
    "recall=recall_score(Y_test, upsampled_pred)\n",
    "print(\"recall score:\",recall)\n",
    "accuracy=accuracy_score(Y_test, upsampled_pred)\n",
    "print(\"accuracy score:\",accuracy)\n",
    "average_precision=average_precision_score(Y_test, upsampled_pred)\n",
    "print(\"averaage precision score:\",average_precision)"
   ]
  },
  {
   "cell_type": "code",
   "execution_count": 22,
   "id": "7ffaf09e",
   "metadata": {},
   "outputs": [
    {
     "name": "stdout",
     "output_type": "stream",
     "text": [
      "f1 score: 0.6706231454005935\n",
      "precision score: 0.551219512195122\n",
      "recall score: 0.8560606060606061\n",
      "accuracy score: 0.9984410550265442\n",
      "averaage precision score: 0.4721441561190856\n"
     ]
    }
   ],
   "source": [
    "# Modeling the data as is using neural networks\n",
    "\n",
    "from sklearn.neural_network import MLPClassifier\n",
    "\n",
    "upsampled=MLPClassifier(activation='logistic')\n",
    "upsampled.fit(x_train, y_train)\n",
    "\n",
    "#predicting on testing set\n",
    "upsampled_pred=upsampled.predict(X_test)\n",
    "\n",
    "#Performance metrics\n",
    "f1=f1_score(Y_test, upsampled_pred)\n",
    "print(\"f1 score:\",f1)\n",
    "precision=precision_score(Y_test, upsampled_pred)\n",
    "print(\"precision score:\",precision)\n",
    "recall=recall_score(Y_test, upsampled_pred)\n",
    "print(\"recall score:\",recall)\n",
    "accuracy=accuracy_score(Y_test, upsampled_pred)\n",
    "print(\"accuracy score:\",accuracy)\n",
    "average_precision=average_precision_score(Y_test, upsampled_pred)\n",
    "print(\"averaage precision score:\",average_precision)"
   ]
  },
  {
   "cell_type": "markdown",
   "id": "af4322ef",
   "metadata": {},
   "source": [
    "## Lets try under sampling the over-represented negative(non-fraud) class"
   ]
  },
  {
   "cell_type": "code",
   "execution_count": 23,
   "id": "a47f4f36",
   "metadata": {},
   "outputs": [
    {
     "name": "stdout",
     "output_type": "stream",
     "text": [
      "Class\n",
      "0    360\n",
      "1    360\n",
      "Name: count, dtype: int64\n"
     ]
    }
   ],
   "source": [
    "#still using the same seperated class\n",
    "\n",
    "#downsample the majority classes\n",
    "not_fraud_downsampled=resample(not_fraud, replace=True, n_samples=len(fraud), random_state=27)\n",
    "\n",
    "#combine minority and downsampled majority\n",
    "downsampled=pd.concat([not_fraud_downsampled, fraud])\n",
    "\n",
    "print(downsampled.Class.value_counts())\n",
    "\n",
    "y_train=downsampled.Class\n",
    "x_train=downsampled.drop('Class', axis=1)"
   ]
  },
  {
   "cell_type": "code",
   "execution_count": 24,
   "id": "89de3c61",
   "metadata": {},
   "outputs": [
    {
     "name": "stdout",
     "output_type": "stream",
     "text": [
      "f1 score: 0.11464968152866242\n",
      "precision score: 0.061288632792037716\n",
      "recall score: 0.8863636363636364\n",
      "accuracy score: 0.9746214993960843\n",
      "averaage precision score: 0.054534683668962344\n"
     ]
    }
   ],
   "source": [
    "# Modeling the data as is using LogisticRegression\n",
    "\n",
    "from sklearn.linear_model import LogisticRegression\n",
    "\n",
    "downsampled=LogisticRegression(solver='liblinear').fit(x_train, y_train)\n",
    "\n",
    "#predicting on testing set\n",
    "downsampled_pred=downsampled.predict(X_test)\n",
    "\n",
    "#Performance metrics\n",
    "f1=f1_score(Y_test, downsampled_pred)\n",
    "print(\"f1 score:\",f1)\n",
    "precision=precision_score(Y_test, downsampled_pred)\n",
    "print(\"precision score:\",precision)\n",
    "recall=recall_score(Y_test, downsampled_pred)\n",
    "print(\"recall score:\",recall)\n",
    "accuracy=accuracy_score(Y_test, downsampled_pred)\n",
    "print(\"accuracy score:\",accuracy)\n",
    "average_precision=average_precision_score(Y_test, downsampled_pred)\n",
    "print(\"averaage precision score:\",average_precision)"
   ]
  },
  {
   "cell_type": "code",
   "execution_count": 25,
   "id": "2639d11e",
   "metadata": {},
   "outputs": [
    {
     "name": "stdout",
     "output_type": "stream",
     "text": [
      "f1 score: 0.15509103169251517\n",
      "precision score: 0.0851221317542561\n",
      "recall score: 0.8712121212121212\n",
      "accuracy score: 0.982402179714053\n",
      "averaage precision score: 0.07439819030600013\n"
     ]
    }
   ],
   "source": [
    "# Modeling the downsampled data as is using RandomForest classifier\n",
    "\n",
    "from sklearn.ensemble import RandomForestClassifier\n",
    "\n",
    "downsampled=RandomForestClassifier().fit(x_train, y_train)\n",
    "\n",
    "#predicting on testing set\n",
    "downsampled_pred=downsampled.predict(X_test)\n",
    "\n",
    "#Performance metrics\n",
    "f1=f1_score(Y_test, downsampled_pred)\n",
    "print(\"f1 score:\",f1)\n",
    "precision=precision_score(Y_test, downsampled_pred)\n",
    "print(\"precision score:\",precision)\n",
    "recall=recall_score(Y_test, downsampled_pred)\n",
    "print(\"recall score:\",recall)\n",
    "accuracy=accuracy_score(Y_test, downsampled_pred)\n",
    "print(\"accuracy score:\",accuracy)\n",
    "average_precision=average_precision_score(Y_test, downsampled_pred)\n",
    "print(\"averaage precision score:\",average_precision)"
   ]
  },
  {
   "cell_type": "code",
   "execution_count": 26,
   "id": "1c56c534",
   "metadata": {},
   "outputs": [
    {
     "name": "stdout",
     "output_type": "stream",
     "text": [
      "f1 score: 0.6706231454005935\n",
      "precision score: 0.551219512195122\n",
      "recall score: 0.8560606060606061\n",
      "accuracy score: 0.9984410550265442\n",
      "averaage precision score: 0.4721441561190856\n"
     ]
    }
   ],
   "source": [
    "# Modeling the downsampled data as is using KNeighbors classifier\n",
    "\n",
    "from sklearn.neighbors import KNeighborsClassifier\n",
    "\n",
    "downsampled=KNeighborsClassifier(n_neighbors=2).fit(x_train, y_train)\n",
    "\n",
    "#predicting on testing set\n",
    "downsampled_pred=upsampled.predict(X_test)\n",
    "\n",
    "#Performance metrics\n",
    "f1=f1_score(Y_test, downsampled_pred)\n",
    "print(\"f1 score:\",f1)\n",
    "precision=precision_score(Y_test, downsampled_pred)\n",
    "print(\"precision score:\",precision)\n",
    "recall=recall_score(Y_test, downsampled_pred)\n",
    "print(\"recall score:\",recall)\n",
    "accuracy=accuracy_score(Y_test, downsampled_pred)\n",
    "print(\"accuracy score:\",accuracy)\n",
    "average_precision=average_precision_score(Y_test, downsampled_pred)\n",
    "print(\"averaage precision score:\",average_precision)"
   ]
  },
  {
   "cell_type": "code",
   "execution_count": 27,
   "id": "e7600346",
   "metadata": {},
   "outputs": [
    {
     "name": "stdout",
     "output_type": "stream",
     "text": [
      "f1 score: 0.030434782608695653\n",
      "precision score: 0.015560875512995896\n",
      "recall score: 0.6893939393939394\n",
      "accuracy score: 0.9185697030982276\n",
      "averaage precision score: 0.011303399792049848\n"
     ]
    }
   ],
   "source": [
    "# Modeling the upsampled data as is using SVC\n",
    "\n",
    "from sklearn import svm\n",
    "\n",
    "downsampled=svm.SVC()\n",
    "downsampled.fit(x_train,y_train)\n",
    "\n",
    "#predicting on testing set\n",
    "downsampled_pred=downsampled.predict(X_test)\n",
    "\n",
    "#Performance metrics\n",
    "f1=f1_score(Y_test, downsampled_pred)\n",
    "print(\"f1 score:\",f1)\n",
    "precision=precision_score(Y_test, downsampled_pred)\n",
    "print(\"precision score:\",precision)\n",
    "recall=recall_score(Y_test, downsampled_pred)\n",
    "print(\"recall score:\",recall)\n",
    "accuracy=accuracy_score(Y_test, downsampled_pred)\n",
    "print(\"accuracy score:\",accuracy)\n",
    "average_precision=average_precision_score(Y_test, downsampled_pred)\n",
    "print(\"averaage precision score:\",average_precision)"
   ]
  },
  {
   "cell_type": "code",
   "execution_count": 28,
   "id": "d7090754",
   "metadata": {},
   "outputs": [
    {
     "name": "stderr",
     "output_type": "stream",
     "text": [
      "C:\\Users\\kumar\\AppData\\Local\\Programs\\Python\\Python310\\lib\\site-packages\\sklearn\\neural_network\\_multilayer_perceptron.py:686: ConvergenceWarning: Stochastic Optimizer: Maximum iterations (200) reached and the optimization hasn't converged yet.\n",
      "  warnings.warn(\n"
     ]
    },
    {
     "name": "stdout",
     "output_type": "stream",
     "text": [
      "f1 score: 0.11153479504289798\n",
      "precision score: 0.0595116988809766\n",
      "recall score: 0.8863636363636364\n",
      "accuracy score: 0.9738209600853909\n",
      "averaage precision score: 0.052959674065976355\n"
     ]
    }
   ],
   "source": [
    "# Modeling the data as is using neural networks\n",
    "\n",
    "from sklearn.neural_network import MLPClassifier\n",
    "\n",
    "downsampled=MLPClassifier(activation='logistic')\n",
    "downsampled.fit(x_train, y_train)\n",
    "\n",
    "#predicting on testing set\n",
    "downsampled_pred=downsampled.predict(X_test)\n",
    "\n",
    "#Performance metrics\n",
    "f1=f1_score(Y_test, downsampled_pred)\n",
    "print(\"f1 score:\",f1)\n",
    "precision=precision_score(Y_test, downsampled_pred)\n",
    "print(\"precision score:\",precision)\n",
    "recall=recall_score(Y_test, downsampled_pred)\n",
    "print(\"recall score:\",recall)\n",
    "accuracy=accuracy_score(Y_test, downsampled_pred)\n",
    "print(\"accuracy score:\",accuracy)\n",
    "average_precision=average_precision_score(Y_test, downsampled_pred)\n",
    "print(\"averaage precision score:\",average_precision)"
   ]
  },
  {
   "cell_type": "markdown",
   "id": "37b2b10f",
   "metadata": {},
   "source": [
    "## Lets try over-sampling the under-represented class using SMOTE(Synthetic Minority Over-sampling Technique) algorithm."
   ]
  },
  {
   "cell_type": "code",
   "execution_count": 31,
   "id": "9a8090fd",
   "metadata": {},
   "outputs": [],
   "source": [
    "from imblearn.over_sampling import SMOTE\n",
    "\n",
    "# Seperate input features and target\n",
    "y=df.Class\n",
    "x=df.drop('Class', axis=1)\n",
    "\n",
    "#Setting up testing and training set\n",
    "X_train, X_test, y_train, y_test = train_test_split(x, y, test_size=0.25, random_state=27)\n",
    "\n",
    "sm=SMOTE(random_state=27)\n",
    "x_train, y_train=sm.fit_resample(X_train, Y_train) "
   ]
  },
  {
   "cell_type": "code",
   "execution_count": 32,
   "id": "9794d70b",
   "metadata": {},
   "outputs": [
    {
     "name": "stdout",
     "output_type": "stream",
     "text": [
      "f1 score: 0.15591397849462366\n",
      "precision score: 0.0855457227138643\n",
      "recall score: 0.8787878787878788\n",
      "accuracy score: 0.9823600460661217\n",
      "averaage precision score: 0.07540125699205948\n"
     ]
    }
   ],
   "source": [
    "# Over-sampling the under-represented class using SMOTE algorithm and LogisticRegression\n",
    "smote=LogisticRegression(solver='liblinear').fit(x_train, y_train)\n",
    "smote_pred=smote.predict(X_test)\n",
    "\n",
    "# Performance metrics\n",
    "f1=f1_score(Y_test, smote_pred)\n",
    "print(\"f1 score:\",f1)\n",
    "precision=precision_score(Y_test, smote_pred)\n",
    "print(\"precision score:\",precision)\n",
    "recall=recall_score(Y_test, smote_pred)\n",
    "print(\"recall score:\",recall)\n",
    "accuracy=accuracy_score(Y_test, smote_pred)\n",
    "print(\"accuracy score:\",accuracy)\n",
    "average_precision=average_precision_score(Y_test, smote_pred)\n",
    "print(\"averaage precision score:\",average_precision)\n"
   ]
  },
  {
   "cell_type": "code",
   "execution_count": 33,
   "id": "0c689bd3",
   "metadata": {},
   "outputs": [
    {
     "name": "stdout",
     "output_type": "stream",
     "text": [
      "f1 score: 0.875\n",
      "precision score: 0.9032258064516129\n",
      "recall score: 0.8484848484848485\n",
      "accuracy score: 0.9995505744220669\n",
      "averaage precision score: 0.76665430252091\n"
     ]
    }
   ],
   "source": [
    "# Over-sampling the under-represented class using SMOTE algorithm and RandomForest\n",
    "smote=RandomForestClassifier().fit(x_train,y_train)\n",
    "smote_pred=smote.predict(X_test)\n",
    "\n",
    "# Performance metrics\n",
    "f1=f1_score(Y_test, smote_pred)\n",
    "print(\"f1 score:\",f1)\n",
    "precision=precision_score(Y_test, smote_pred)\n",
    "print(\"precision score:\",precision)\n",
    "recall=recall_score(Y_test, smote_pred)\n",
    "print(\"recall score:\",recall)\n",
    "accuracy=accuracy_score(Y_test, smote_pred)\n",
    "print(\"accuracy score:\",accuracy)\n",
    "average_precision=average_precision_score(Y_test, smote_pred)\n",
    "print(\"averaage precision score:\",average_precision)\n",
    "\n"
   ]
  },
  {
   "cell_type": "code",
   "execution_count": 34,
   "id": "5adfd2d8",
   "metadata": {},
   "outputs": [
    {
     "name": "stdout",
     "output_type": "stream",
     "text": [
      "f1 score: 0.49888641425389757\n",
      "precision score: 0.35331230283911674\n",
      "recall score: 0.8484848484848485\n",
      "accuracy score: 0.9968399764051572\n",
      "averaage precision score: 0.30006102672848917\n"
     ]
    }
   ],
   "source": [
    "# Modeling the upsampled data as is using KNeighborsClassifier\n",
    "\n",
    "smote=KNeighborsClassifier().fit(x_train, y_train)\n",
    "smote_pred=smote.predict(X_test)\n",
    "\n",
    "# Performance metrics\n",
    "f1=f1_score(Y_test, smote_pred)\n",
    "print(\"f1 score:\",f1)\n",
    "precision=precision_score(Y_test, smote_pred)\n",
    "print(\"precision score:\",precision)\n",
    "recall=recall_score(Y_test, smote_pred)\n",
    "print(\"recall score:\",recall)\n",
    "accuracy=accuracy_score(Y_test, smote_pred)\n",
    "print(\"accuracy score:\",accuracy)\n",
    "average_precision=average_precision_score(Y_test, smote_pred)\n",
    "print(\"averaage precision score:\",average_precision)\n"
   ]
  },
  {
   "cell_type": "code",
   "execution_count": null,
   "id": "c957aaef",
   "metadata": {},
   "outputs": [],
   "source": [
    "# Modeling the upsampled data as is using SVC\n",
    "\n",
    "smote=svm.SVC().fit(x_train,y_train)\n",
    "smote_pred(X_test)\n",
    "\n",
    "# Performance metrics\n",
    "f1=f1_score(Y_test, smote_pred)\n",
    "print(\"f1 score:\",f1)\n",
    "precision=precision_score(Y_test, smote_pred)\n",
    "print(\"precision score:\",precision)\n",
    "recall=recall_score(Y_test, smote_pred)\n",
    "print(\"recall score:\",recall)\n",
    "accuracy=accuracy_score(Y_test, smote_pred)\n",
    "print(\"accuracy score:\",accuracy)\n",
    "average_precision=average_precision_score(Y_test, smote_pred)\n",
    "print(\"averaage precision score:\",average_precision)"
   ]
  },
  {
   "cell_type": "code",
   "execution_count": null,
   "id": "e7e647ca",
   "metadata": {},
   "outputs": [],
   "source": [
    "# Modeling the upsampled data as is using MLPClassifier\n",
    "\n",
    "smote=MLPClassifier(activation='logistic').fit(x_train, y_train)\n",
    "smote_pred=smote.predict(X_test)\n",
    "\n",
    "# Performance metrics\n",
    "f1=f1_score(Y_test, smote_pred)\n",
    "print(\"f1 score:\",f1)\n",
    "precision=precision_score(Y_test, smote_pred)\n",
    "print(\"precision score:\",precision)\n",
    "recall=recall_score(Y_test, smote_pred)\n",
    "print(\"recall score:\",recall)\n",
    "accuracy=accuracy_score(Y_test, smote_pred)\n",
    "print(\"accuracy score:\",accuracy)\n",
    "average_precision=average_precision_score(Y_test, smote_pred)\n",
    "print(\"averaage precision score:\",average_precision)"
   ]
  },
  {
   "cell_type": "code",
   "execution_count": null,
   "id": "a771a5a7",
   "metadata": {},
   "outputs": [],
   "source": []
  },
  {
   "cell_type": "code",
   "execution_count": null,
   "id": "a1c92d81",
   "metadata": {},
   "outputs": [],
   "source": []
  }
 ],
 "metadata": {
  "kernelspec": {
   "display_name": "Python 3 (ipykernel)",
   "language": "python",
   "name": "python3"
  },
  "language_info": {
   "codemirror_mode": {
    "name": "ipython",
    "version": 3
   },
   "file_extension": ".py",
   "mimetype": "text/x-python",
   "name": "python",
   "nbconvert_exporter": "python",
   "pygments_lexer": "ipython3",
   "version": "3.10.10"
  }
 },
 "nbformat": 4,
 "nbformat_minor": 5
}
