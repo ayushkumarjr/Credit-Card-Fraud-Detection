{
 "cells": [
  {
   "cell_type": "code",
   "execution_count": 1,
   "id": "ae7967f8",
   "metadata": {},
   "outputs": [],
   "source": [
    "import numpy as np\n",
    "import pandas as pd"
   ]
  },
  {
   "cell_type": "code",
   "execution_count": 2,
   "id": "f2f2255c",
   "metadata": {},
   "outputs": [],
   "source": [
    "data=pd.read_csv('creditcard.csv')\n"
   ]
  },
  {
   "cell_type": "code",
   "execution_count": 3,
   "id": "a07c7342",
   "metadata": {},
   "outputs": [],
   "source": [
    "#making a copy of it\n",
    "df=data.copy()"
   ]
  },
  {
   "cell_type": "code",
   "execution_count": 4,
   "id": "714ce0b4",
   "metadata": {},
   "outputs": [
    {
     "data": {
      "text/plain": [
       "0"
      ]
     },
     "execution_count": 4,
     "metadata": {},
     "output_type": "execute_result"
    }
   ],
   "source": [
    "#Checking for any null values\n",
    "data.isnull().sum().max()\n",
    "# so no null data we do not need to worry about null rows now"
   ]
  },
  {
   "cell_type": "code",
   "execution_count": 5,
   "id": "c4c66c9b",
   "metadata": {},
   "outputs": [
    {
     "data": {
      "text/html": [
       "<div>\n",
       "<style scoped>\n",
       "    .dataframe tbody tr th:only-of-type {\n",
       "        vertical-align: middle;\n",
       "    }\n",
       "\n",
       "    .dataframe tbody tr th {\n",
       "        vertical-align: top;\n",
       "    }\n",
       "\n",
       "    .dataframe thead th {\n",
       "        text-align: right;\n",
       "    }\n",
       "</style>\n",
       "<table border=\"1\" class=\"dataframe\">\n",
       "  <thead>\n",
       "    <tr style=\"text-align: right;\">\n",
       "      <th></th>\n",
       "      <th>Time</th>\n",
       "      <th>V1</th>\n",
       "      <th>V2</th>\n",
       "      <th>V3</th>\n",
       "      <th>V4</th>\n",
       "      <th>V5</th>\n",
       "      <th>V6</th>\n",
       "      <th>V7</th>\n",
       "      <th>V8</th>\n",
       "      <th>V9</th>\n",
       "      <th>...</th>\n",
       "      <th>V21</th>\n",
       "      <th>V22</th>\n",
       "      <th>V23</th>\n",
       "      <th>V24</th>\n",
       "      <th>V25</th>\n",
       "      <th>V26</th>\n",
       "      <th>V27</th>\n",
       "      <th>V28</th>\n",
       "      <th>Amount</th>\n",
       "      <th>Class</th>\n",
       "    </tr>\n",
       "  </thead>\n",
       "  <tbody>\n",
       "    <tr>\n",
       "      <th>0</th>\n",
       "      <td>0.0</td>\n",
       "      <td>-1.359807</td>\n",
       "      <td>-0.072781</td>\n",
       "      <td>2.536347</td>\n",
       "      <td>1.378155</td>\n",
       "      <td>-0.338321</td>\n",
       "      <td>0.462388</td>\n",
       "      <td>0.239599</td>\n",
       "      <td>0.098698</td>\n",
       "      <td>0.363787</td>\n",
       "      <td>...</td>\n",
       "      <td>-0.018307</td>\n",
       "      <td>0.277838</td>\n",
       "      <td>-0.110474</td>\n",
       "      <td>0.066928</td>\n",
       "      <td>0.128539</td>\n",
       "      <td>-0.189115</td>\n",
       "      <td>0.133558</td>\n",
       "      <td>-0.021053</td>\n",
       "      <td>149.62</td>\n",
       "      <td>0</td>\n",
       "    </tr>\n",
       "    <tr>\n",
       "      <th>1</th>\n",
       "      <td>0.0</td>\n",
       "      <td>1.191857</td>\n",
       "      <td>0.266151</td>\n",
       "      <td>0.166480</td>\n",
       "      <td>0.448154</td>\n",
       "      <td>0.060018</td>\n",
       "      <td>-0.082361</td>\n",
       "      <td>-0.078803</td>\n",
       "      <td>0.085102</td>\n",
       "      <td>-0.255425</td>\n",
       "      <td>...</td>\n",
       "      <td>-0.225775</td>\n",
       "      <td>-0.638672</td>\n",
       "      <td>0.101288</td>\n",
       "      <td>-0.339846</td>\n",
       "      <td>0.167170</td>\n",
       "      <td>0.125895</td>\n",
       "      <td>-0.008983</td>\n",
       "      <td>0.014724</td>\n",
       "      <td>2.69</td>\n",
       "      <td>0</td>\n",
       "    </tr>\n",
       "    <tr>\n",
       "      <th>2</th>\n",
       "      <td>1.0</td>\n",
       "      <td>-1.358354</td>\n",
       "      <td>-1.340163</td>\n",
       "      <td>1.773209</td>\n",
       "      <td>0.379780</td>\n",
       "      <td>-0.503198</td>\n",
       "      <td>1.800499</td>\n",
       "      <td>0.791461</td>\n",
       "      <td>0.247676</td>\n",
       "      <td>-1.514654</td>\n",
       "      <td>...</td>\n",
       "      <td>0.247998</td>\n",
       "      <td>0.771679</td>\n",
       "      <td>0.909412</td>\n",
       "      <td>-0.689281</td>\n",
       "      <td>-0.327642</td>\n",
       "      <td>-0.139097</td>\n",
       "      <td>-0.055353</td>\n",
       "      <td>-0.059752</td>\n",
       "      <td>378.66</td>\n",
       "      <td>0</td>\n",
       "    </tr>\n",
       "    <tr>\n",
       "      <th>3</th>\n",
       "      <td>1.0</td>\n",
       "      <td>-0.966272</td>\n",
       "      <td>-0.185226</td>\n",
       "      <td>1.792993</td>\n",
       "      <td>-0.863291</td>\n",
       "      <td>-0.010309</td>\n",
       "      <td>1.247203</td>\n",
       "      <td>0.237609</td>\n",
       "      <td>0.377436</td>\n",
       "      <td>-1.387024</td>\n",
       "      <td>...</td>\n",
       "      <td>-0.108300</td>\n",
       "      <td>0.005274</td>\n",
       "      <td>-0.190321</td>\n",
       "      <td>-1.175575</td>\n",
       "      <td>0.647376</td>\n",
       "      <td>-0.221929</td>\n",
       "      <td>0.062723</td>\n",
       "      <td>0.061458</td>\n",
       "      <td>123.50</td>\n",
       "      <td>0</td>\n",
       "    </tr>\n",
       "    <tr>\n",
       "      <th>4</th>\n",
       "      <td>2.0</td>\n",
       "      <td>-1.158233</td>\n",
       "      <td>0.877737</td>\n",
       "      <td>1.548718</td>\n",
       "      <td>0.403034</td>\n",
       "      <td>-0.407193</td>\n",
       "      <td>0.095921</td>\n",
       "      <td>0.592941</td>\n",
       "      <td>-0.270533</td>\n",
       "      <td>0.817739</td>\n",
       "      <td>...</td>\n",
       "      <td>-0.009431</td>\n",
       "      <td>0.798278</td>\n",
       "      <td>-0.137458</td>\n",
       "      <td>0.141267</td>\n",
       "      <td>-0.206010</td>\n",
       "      <td>0.502292</td>\n",
       "      <td>0.219422</td>\n",
       "      <td>0.215153</td>\n",
       "      <td>69.99</td>\n",
       "      <td>0</td>\n",
       "    </tr>\n",
       "  </tbody>\n",
       "</table>\n",
       "<p>5 rows × 31 columns</p>\n",
       "</div>"
      ],
      "text/plain": [
       "   Time        V1        V2        V3        V4        V5        V6        V7   \n",
       "0   0.0 -1.359807 -0.072781  2.536347  1.378155 -0.338321  0.462388  0.239599  \\\n",
       "1   0.0  1.191857  0.266151  0.166480  0.448154  0.060018 -0.082361 -0.078803   \n",
       "2   1.0 -1.358354 -1.340163  1.773209  0.379780 -0.503198  1.800499  0.791461   \n",
       "3   1.0 -0.966272 -0.185226  1.792993 -0.863291 -0.010309  1.247203  0.237609   \n",
       "4   2.0 -1.158233  0.877737  1.548718  0.403034 -0.407193  0.095921  0.592941   \n",
       "\n",
       "         V8        V9  ...       V21       V22       V23       V24       V25   \n",
       "0  0.098698  0.363787  ... -0.018307  0.277838 -0.110474  0.066928  0.128539  \\\n",
       "1  0.085102 -0.255425  ... -0.225775 -0.638672  0.101288 -0.339846  0.167170   \n",
       "2  0.247676 -1.514654  ...  0.247998  0.771679  0.909412 -0.689281 -0.327642   \n",
       "3  0.377436 -1.387024  ... -0.108300  0.005274 -0.190321 -1.175575  0.647376   \n",
       "4 -0.270533  0.817739  ... -0.009431  0.798278 -0.137458  0.141267 -0.206010   \n",
       "\n",
       "        V26       V27       V28  Amount  Class  \n",
       "0 -0.189115  0.133558 -0.021053  149.62      0  \n",
       "1  0.125895 -0.008983  0.014724    2.69      0  \n",
       "2 -0.139097 -0.055353 -0.059752  378.66      0  \n",
       "3 -0.221929  0.062723  0.061458  123.50      0  \n",
       "4  0.502292  0.219422  0.215153   69.99      0  \n",
       "\n",
       "[5 rows x 31 columns]"
      ]
     },
     "execution_count": 5,
     "metadata": {},
     "output_type": "execute_result"
    }
   ],
   "source": [
    "data.head()"
   ]
  },
  {
   "cell_type": "code",
   "execution_count": 6,
   "id": "fa6af64d",
   "metadata": {},
   "outputs": [
    {
     "name": "stdout",
     "output_type": "stream",
     "text": [
      "No Frauds 99.83 % of the dataset= 284315 records\n",
      "Frauds 0.17 % of the dataset= 492 records\n"
     ]
    }
   ],
   "source": [
    "print('No Frauds',round(data['Class'].value_counts()[0]/len(data) * 100,2), '% of the dataset=',data['Class'].value_counts()[0],'records')\n",
    "print('Frauds',round(data['Class'].value_counts()[1]/len(data)*100,2), '% of the dataset=',data['Class'].value_counts()[1],'records')"
   ]
  },
  {
   "cell_type": "code",
   "execution_count": 7,
   "id": "ecc4ada6",
   "metadata": {},
   "outputs": [],
   "source": [
    "import matplotlib.pyplot as plt\n",
    "import seaborn as sns"
   ]
  },
  {
   "cell_type": "code",
   "execution_count": 8,
   "id": "be0da821",
   "metadata": {},
   "outputs": [
    {
     "data": {
      "image/png": "[encoded data removed]",
      "text/plain": [
       "<Figure size 640x480 with 1 Axes>"
      ]
     },
     "metadata": {},
     "output_type": "display_data"
    }
   ],
   "source": [
    "colors = [\"#0101DF\", \"#DF0101\"]\n",
    "\n",
    "sns.countplot( x='Class',data=data, palette=colors)\n",
    "plt.title('Class Distributions \\n (0: No Fraud || 1: Fraud)', fontsize=14)\n",
    "plt.show()"
   ]
  },
  {
   "cell_type": "code",
   "execution_count": 9,
   "id": "74b3c9f7",
   "metadata": {},
   "outputs": [
    {
     "data": {
      "image/png": "[encoded data removed]",
      "text/plain": [
       "<Figure size 1200x400 with 2 Axes>"
      ]
     },
     "metadata": {},
     "output_type": "display_data"
    }
   ],
   "source": [
    "f, (ax1, ax2) = plt.subplots(2, 1, sharex=True, figsize=(12,4))\n",
    "\n",
    "bins = 50\n",
    "\n",
    "ax1.hist(df.Time[df.Class == 1], bins = bins)\n",
    "ax1.set_title('Fraud')\n",
    "\n",
    "\n",
    "ax2.hist(df.Time[df.Class == 0], bins = bins)\n",
    "ax2.set_title('Normal')\n",
    "\n",
    "plt.xlabel('Time (in Seconds)')\n",
    "plt.ylabel('Number of Transactions')\n",
    "plt.show()"
   ]
  },
  {
   "cell_type": "code",
   "execution_count": 10,
   "id": "1600fdeb",
   "metadata": {},
   "outputs": [
    {
     "data": {
      "text/plain": [
       "array([149.62,   2.69, 378.66, ...,  67.88,  10.  , 217.  ])"
      ]
     },
     "execution_count": 10,
     "metadata": {},
     "output_type": "execute_result"
    }
   ],
   "source": [
    "df['Amount'].values"
   ]
  },
  {
   "cell_type": "code",
   "execution_count": 11,
   "id": "0761614a",
   "metadata": {},
   "outputs": [],
   "source": [
    "# All the features of this dataset, except for time and amount, have already undergone PCA transformation which mean that \n",
    "#they have already been scaled. In this step we will scale the 'Amount' feature.\n",
    "# Since most of our data has already been scaled we should scale the columns that are left to scale (Amount and Time)\n",
    "from sklearn.preprocessing import MinMaxScaler, RobustScaler,StandardScaler,normalize\n",
    "\n",
    "mm_scaler=MinMaxScaler(feature_range=(0,1))\n",
    "#rob_scaler=RobustScaler()\n",
    "#std_scaler = StandardScaler()\n",
    "#norm = normalize()\n",
    "\n",
    "df['scaled_amount'] = mm_scaler.fit_transform(df['Amount'].values.reshape(-1,1))\n",
    "df.drop('Amount', axis=1, inplace=True)\n",
    "\n",
    "\n",
    "\n",
    "#df['scaled_time']=norm.fit_transform(df['Time'].values.reshape(-1,1))\n",
    "#Actually Time column is a kind of outlier so any scaling is not working for it\n",
    "#so that's why we arre taking it to be in sin andd cos format"
   ]
  },
  {
   "cell_type": "code",
   "execution_count": 12,
   "id": "3562eaad",
   "metadata": {},
   "outputs": [],
   "source": [
    "seconds_in_day=24*60*60\n",
    "\n",
    "df['sin_time']=np.sin(2*np.pi*df.Time/seconds_in_day)\n",
    "df['cos_time']=np.cos(2*np.pi*df.Time/seconds_in_day)\n",
    "\n",
    "df.drop('Time', axis=1, inplace=True)\n"
   ]
  },
  {
   "cell_type": "code",
   "execution_count": 13,
   "id": "dbfa6bc9",
   "metadata": {},
   "outputs": [
    {
     "data": {
      "text/html": [
       "<div>\n",
       "<style scoped>\n",
       "    .dataframe tbody tr th:only-of-type {\n",
       "        vertical-align: middle;\n",
       "    }\n",
       "\n",
       "    .dataframe tbody tr th {\n",
       "        vertical-align: top;\n",
       "    }\n",
       "\n",
       "    .dataframe thead th {\n",
       "        text-align: right;\n",
       "    }\n",
       "</style>\n",
       "<table border=\"1\" class=\"dataframe\">\n",
       "  <thead>\n",
       "    <tr style=\"text-align: right;\">\n",
       "      <th></th>\n",
       "      <th>V1</th>\n",
       "      <th>V2</th>\n",
       "      <th>V3</th>\n",
       "      <th>V4</th>\n",
       "      <th>V5</th>\n",
       "      <th>V6</th>\n",
       "      <th>V7</th>\n",
       "      <th>V8</th>\n",
       "      <th>V9</th>\n",
       "      <th>V10</th>\n",
       "      <th>...</th>\n",
       "      <th>V23</th>\n",
       "      <th>V24</th>\n",
       "      <th>V25</th>\n",
       "      <th>V26</th>\n",
       "      <th>V27</th>\n",
       "      <th>V28</th>\n",
       "      <th>Class</th>\n",
       "      <th>scaled_amount</th>\n",
       "      <th>sin_time</th>\n",
       "      <th>cos_time</th>\n",
       "    </tr>\n",
       "  </thead>\n",
       "  <tbody>\n",
       "    <tr>\n",
       "      <th>0</th>\n",
       "      <td>-1.359807</td>\n",
       "      <td>-0.072781</td>\n",
       "      <td>2.536347</td>\n",
       "      <td>1.378155</td>\n",
       "      <td>-0.338321</td>\n",
       "      <td>0.462388</td>\n",
       "      <td>0.239599</td>\n",
       "      <td>0.098698</td>\n",
       "      <td>0.363787</td>\n",
       "      <td>0.090794</td>\n",
       "      <td>...</td>\n",
       "      <td>-0.110474</td>\n",
       "      <td>0.066928</td>\n",
       "      <td>0.128539</td>\n",
       "      <td>-0.189115</td>\n",
       "      <td>0.133558</td>\n",
       "      <td>-0.021053</td>\n",
       "      <td>0</td>\n",
       "      <td>0.005824</td>\n",
       "      <td>0.000000</td>\n",
       "      <td>1.0</td>\n",
       "    </tr>\n",
       "    <tr>\n",
       "      <th>1</th>\n",
       "      <td>1.191857</td>\n",
       "      <td>0.266151</td>\n",
       "      <td>0.166480</td>\n",
       "      <td>0.448154</td>\n",
       "      <td>0.060018</td>\n",
       "      <td>-0.082361</td>\n",
       "      <td>-0.078803</td>\n",
       "      <td>0.085102</td>\n",
       "      <td>-0.255425</td>\n",
       "      <td>-0.166974</td>\n",
       "      <td>...</td>\n",
       "      <td>0.101288</td>\n",
       "      <td>-0.339846</td>\n",
       "      <td>0.167170</td>\n",
       "      <td>0.125895</td>\n",
       "      <td>-0.008983</td>\n",
       "      <td>0.014724</td>\n",
       "      <td>0</td>\n",
       "      <td>0.000105</td>\n",
       "      <td>0.000000</td>\n",
       "      <td>1.0</td>\n",
       "    </tr>\n",
       "    <tr>\n",
       "      <th>2</th>\n",
       "      <td>-1.358354</td>\n",
       "      <td>-1.340163</td>\n",
       "      <td>1.773209</td>\n",
       "      <td>0.379780</td>\n",
       "      <td>-0.503198</td>\n",
       "      <td>1.800499</td>\n",
       "      <td>0.791461</td>\n",
       "      <td>0.247676</td>\n",
       "      <td>-1.514654</td>\n",
       "      <td>0.207643</td>\n",
       "      <td>...</td>\n",
       "      <td>0.909412</td>\n",
       "      <td>-0.689281</td>\n",
       "      <td>-0.327642</td>\n",
       "      <td>-0.139097</td>\n",
       "      <td>-0.055353</td>\n",
       "      <td>-0.059752</td>\n",
       "      <td>0</td>\n",
       "      <td>0.014739</td>\n",
       "      <td>0.000073</td>\n",
       "      <td>1.0</td>\n",
       "    </tr>\n",
       "    <tr>\n",
       "      <th>3</th>\n",
       "      <td>-0.966272</td>\n",
       "      <td>-0.185226</td>\n",
       "      <td>1.792993</td>\n",
       "      <td>-0.863291</td>\n",
       "      <td>-0.010309</td>\n",
       "      <td>1.247203</td>\n",
       "      <td>0.237609</td>\n",
       "      <td>0.377436</td>\n",
       "      <td>-1.387024</td>\n",
       "      <td>-0.054952</td>\n",
       "      <td>...</td>\n",
       "      <td>-0.190321</td>\n",
       "      <td>-1.175575</td>\n",
       "      <td>0.647376</td>\n",
       "      <td>-0.221929</td>\n",
       "      <td>0.062723</td>\n",
       "      <td>0.061458</td>\n",
       "      <td>0</td>\n",
       "      <td>0.004807</td>\n",
       "      <td>0.000073</td>\n",
       "      <td>1.0</td>\n",
       "    </tr>\n",
       "    <tr>\n",
       "      <th>4</th>\n",
       "      <td>-1.158233</td>\n",
       "      <td>0.877737</td>\n",
       "      <td>1.548718</td>\n",
       "      <td>0.403034</td>\n",
       "      <td>-0.407193</td>\n",
       "      <td>0.095921</td>\n",
       "      <td>0.592941</td>\n",
       "      <td>-0.270533</td>\n",
       "      <td>0.817739</td>\n",
       "      <td>0.753074</td>\n",
       "      <td>...</td>\n",
       "      <td>-0.137458</td>\n",
       "      <td>0.141267</td>\n",
       "      <td>-0.206010</td>\n",
       "      <td>0.502292</td>\n",
       "      <td>0.219422</td>\n",
       "      <td>0.215153</td>\n",
       "      <td>0</td>\n",
       "      <td>0.002724</td>\n",
       "      <td>0.000145</td>\n",
       "      <td>1.0</td>\n",
       "    </tr>\n",
       "  </tbody>\n",
       "</table>\n",
       "<p>5 rows × 32 columns</p>\n",
       "</div>"
      ],
      "text/plain": [
       "         V1        V2        V3        V4        V5        V6        V7   \n",
       "0 -1.359807 -0.072781  2.536347  1.378155 -0.338321  0.462388  0.239599  \\\n",
       "1  1.191857  0.266151  0.166480  0.448154  0.060018 -0.082361 -0.078803   \n",
       "2 -1.358354 -1.340163  1.773209  0.379780 -0.503198  1.800499  0.791461   \n",
       "3 -0.966272 -0.185226  1.792993 -0.863291 -0.010309  1.247203  0.237609   \n",
       "4 -1.158233  0.877737  1.548718  0.403034 -0.407193  0.095921  0.592941   \n",
       "\n",
       "         V8        V9       V10  ...       V23       V24       V25       V26   \n",
       "0  0.098698  0.363787  0.090794  ... -0.110474  0.066928  0.128539 -0.189115  \\\n",
       "1  0.085102 -0.255425 -0.166974  ...  0.101288 -0.339846  0.167170  0.125895   \n",
       "2  0.247676 -1.514654  0.207643  ...  0.909412 -0.689281 -0.327642 -0.139097   \n",
       "3  0.377436 -1.387024 -0.054952  ... -0.190321 -1.175575  0.647376 -0.221929   \n",
       "4 -0.270533  0.817739  0.753074  ... -0.137458  0.141267 -0.206010  0.502292   \n",
       "\n",
       "        V27       V28  Class  scaled_amount  sin_time  cos_time  \n",
       "0  0.133558 -0.021053      0       0.005824  0.000000       1.0  \n",
       "1 -0.008983  0.014724      0       0.000105  0.000000       1.0  \n",
       "2 -0.055353 -0.059752      0       0.014739  0.000073       1.0  \n",
       "3  0.062723  0.061458      0       0.004807  0.000073       1.0  \n",
       "4  0.219422  0.215153      0       0.002724  0.000145       1.0  \n",
       "\n",
       "[5 rows x 32 columns]"
      ]
     },
     "execution_count": 13,
     "metadata": {},
     "output_type": "execute_result"
    }
   ],
   "source": [
    "df.head()"
   ]
  },
  {
   "cell_type": "code",
   "execution_count": 14,
   "id": "d527488d",
   "metadata": {},
   "outputs": [],
   "source": [
    "# Since our classes are highly skewed we should make them equivalent in order to have a normal distribution of the classes.\n",
    "\n",
    "# Lets shuffle the data before creating the subsamples\n",
    "\n",
    "X_orig=df.drop('Class', axis=1)\n",
    "Y_orig=df['Class']\n",
    "df=df.sample(frac=1)\n",
    "\n",
    "#amount of fraud classes 492 rows.\n",
    "fraud_df=df.loc[df['Class']==1]\n",
    "non_fraud_df=df.loc[df['Class']==0][:492]\n",
    "\n",
    "normal_distributed_df=pd.concat([fraud_df, non_fraud_df])\n",
    "\n",
    "#Shuffle dataframe rows\n",
    "new_df=normal_distributed_df.sample(frac=1, random_state=42)\n",
    "\n",
    "X=new_df.drop('Class', axis=1)\n",
    "Y=new_df['Class']"
   ]
  },
  {
   "cell_type": "code",
   "execution_count": 15,
   "id": "aad529ea",
   "metadata": {},
   "outputs": [],
   "source": [
    "# Modeling the upsamled data as is using kmeans clustering\n",
    "\n",
    "from sklearn.cluster import KMeans\n",
    "\n",
    "from sklearn.metrics import precision_score, recall_score, f1_score, roc_auc_score, accuracy_score, classification_report\n",
    "\n",
    "from sklearn.metrics.cluster import adjusted_rand_score\n",
    "from sklearn.metrics import precision_recall_curve\n",
    "from sklearn.metrics import average_precision_score"
   ]
  },
  {
   "cell_type": "code",
   "execution_count": 16,
   "id": "99c893df",
   "metadata": {},
   "outputs": [
    {
     "name": "stderr",
     "output_type": "stream",
     "text": [
      "C:\\Users\\kumar\\AppData\\Local\\Programs\\Python\\Python310\\lib\\site-packages\\sklearn\\cluster\\_kmeans.py:870: FutureWarning: The default value of `n_init` will change from 10 to 'auto' in 1.4. Set the value of `n_init` explicitly to suppress the warning\n",
      "  warnings.warn(\n"
     ]
    },
    {
     "name": "stdout",
     "output_type": "stream",
     "text": [
      "KMeans RI score: -0.0001480139167940794\n",
      "f1 score: 0.001982395147570087\n",
      "precision: 0.0009948180373873406\n",
      "recall: 0.27235772357723576\n",
      "Average Precision-Recall Score: 0.0015279379527883656\n",
      "Accuracy: 0.5262686661493573\n"
     ]
    }
   ],
   "source": [
    "kmeans=KMeans(n_clusters=2)\n",
    "kmeans.fit(X_orig)\n",
    "labels=kmeans.predict(X_orig)\n",
    "\n",
    "kmeans_RI=adjusted_rand_score(Y_orig, labels)\n",
    "print(\"KMeans RI score:\", kmeans_RI)\n",
    "f1=f1_score(Y_orig, labels)\n",
    "print(\"f1 score:\",f1)\n",
    "precision=precision_score(Y_orig, labels)\n",
    "print(\"precision:\",precision)\n",
    "recall=recall_score(Y_orig, labels)\n",
    "print(\"recall:\",recall)\n",
    "average_precision=average_precision_score(Y_orig, labels)\n",
    "print(\"Average Precision-Recall Score:\", average_precision)\n",
    "accuracy=accuracy_score(Y_orig, labels)\n",
    "print(\"Accuracy:\", accuracy)"
   ]
  },
  {
   "cell_type": "code",
   "execution_count": 17,
   "id": "cee071bb",
   "metadata": {},
   "outputs": [
    {
     "name": "stdout",
     "output_type": "stream",
     "text": [
      "KMeans RI score: 0.0003721959661186011\n",
      "f1 score: 0.0398406374501992\n",
      "precision: 1.0\n",
      "recall: 0.02032520325203252\n",
      "Average Precision-Recall Score: 0.5101626016260163\n",
      "Accuracy: 0.5101626016260162\n"
     ]
    }
   ],
   "source": [
    "from sklearn.cluster import AgglomerativeClustering\n",
    "\n",
    "clustering = AgglomerativeClustering(n_clusters=2, linkage=\"complete\").fit_predict(X)\n",
    "kmeans_RI=adjusted_rand_score(Y, clustering)\n",
    "print(\"KMeans RI score:\", kmeans_RI)\n",
    "f1=f1_score(Y,clustering )\n",
    "print(\"f1 score:\",f1)\n",
    "precision=precision_score(Y, clustering)\n",
    "print(\"precision:\",precision)\n",
    "recall=recall_score(Y, clustering)\n",
    "print(\"recall:\",recall)\n",
    "average_precision=average_precision_score(Y, clustering)\n",
    "print(\"Average Precision-Recall Score:\", average_precision)\n",
    "accuracy=accuracy_score(Y, clustering)\n",
    "print(\"Accuracy:\", accuracy)\n",
    "\n"
   ]
  },
  {
   "cell_type": "markdown",
   "id": "a6835fab",
   "metadata": {},
   "source": [
    "## Lets try these same clustering algorithms with over sampling the under represented(fraud) data"
   ]
  },
  {
   "cell_type": "code",
   "execution_count": 18,
   "id": "82735ff0",
   "metadata": {},
   "outputs": [],
   "source": [
    "from sklearn.utils import resample\n",
    "\n",
    "X_new=df.copy()\n",
    "\n",
    "# separate minority and majority classes\n",
    "not_fraud=X_new[X_new.Class==0]\n",
    "fraud=X_new[X_new.Class==1]\n",
    "\n",
    "# upsamle minority\n",
    "fraud_upsampled=resample(fraud, replace=True, n_samples=len(not_fraud),random_state=27)\n",
    "\n",
    "# combine majority and unsampled minority\n",
    "upsampled=pd.concat([not_fraud, fraud_upsampled])\n",
    "\n",
    "#print(upsampled.Class.value_counts())\n",
    "\n",
    "y_upsampled=upsampled.Class\n",
    "x_upsampled=upsampled.drop('Class', axis=1)\n",
    "\n",
    "### For AGNEST\n",
    "upsampled=upsampled.sample(frac=1, random_state=42)\n",
    "\n",
    "fraud_df=upsampled.loc[upsampled['Class']==1][:900]\n",
    "non_fraud_df=upsampled.loc[upsampled['Class']==0][:900]\n",
    "\n",
    "new_df=pd.concat([fraud_df, non_fraud_df])\n",
    "\n",
    "# Shuffle dataframe rows\n",
    "new_dff=new_df.sample(frac=1, random_state=42)\n",
    "\n",
    "X_agnest=new_df.drop('Class', axis=1)\n",
    "Y_agnest=new_df['Class']\n",
    "\n"
   ]
  },
  {
   "cell_type": "code",
   "execution_count": 19,
   "id": "ca098cbb",
   "metadata": {},
   "outputs": [
    {
     "data": {
      "text/plain": [
       "Class\n",
       "1    900\n",
       "0    900\n",
       "Name: count, dtype: int64"
      ]
     },
     "execution_count": 19,
     "metadata": {},
     "output_type": "execute_result"
    }
   ],
   "source": [
    "Y_agnest.value_counts()"
   ]
  },
  {
   "cell_type": "code",
   "execution_count": 20,
   "id": "e7166217",
   "metadata": {},
   "outputs": [
    {
     "name": "stderr",
     "output_type": "stream",
     "text": [
      "C:\\Users\\kumar\\AppData\\Local\\Programs\\Python\\Python310\\lib\\site-packages\\sklearn\\cluster\\_kmeans.py:870: FutureWarning: The default value of `n_init` will change from 10 to 'auto' in 1.4. Set the value of `n_init` explicitly to suppress the warning\n",
      "  warnings.warn(\n"
     ]
    },
    {
     "name": "stdout",
     "output_type": "stream",
     "text": [
      "f1 score: 0.5040956057905434\n",
      "precision: 0.4026308600727059\n",
      "recall: 0.6739285651478114\n",
      "Average Precision-Recall Score: 0.4343801552391222\n",
      "Accuracy: 0.3370223167965109\n"
     ]
    }
   ],
   "source": [
    "# Modeling the upsampled data as is using kmeans clustering\n",
    "\n",
    "kmeans=KMeans(n_clusters=2)\n",
    "kmeans.fit(x_upsampled)\n",
    "labels=kmeans.predict(x_upsampled)\n",
    "\n",
    "\n",
    "f1=f1_score(y_upsampled, labels)\n",
    "print(\"f1 score:\",f1)\n",
    "precision=precision_score(y_upsampled, labels)\n",
    "print(\"precision:\",precision)\n",
    "recall=recall_score(y_upsampled, labels)\n",
    "print(\"recall:\",recall)\n",
    "average_precision=average_precision_score(y_upsampled, labels)\n",
    "print(\"Average Precision-Recall Score:\", average_precision)\n",
    "accuracy=accuracy_score(y_upsampled, labels)\n",
    "print(\"Accuracy:\", accuracy)\n"
   ]
  },
  {
   "cell_type": "code",
   "execution_count": 21,
   "id": "7f91e38c",
   "metadata": {},
   "outputs": [
    {
     "name": "stdout",
     "output_type": "stream",
     "text": [
      "KMeans RI score: 0.00046940804625782964\n",
      "f1 score: 0.04347826086956522\n",
      "precision: 1.0\n",
      "recall: 0.022222222222222223\n",
      "Average Precision-Recall Score: 0.5111111111111111\n",
      "Accuracy: 0.5111111111111111\n"
     ]
    }
   ],
   "source": [
    "clustering = AgglomerativeClustering(n_clusters=2, linkage=\"complete\").fit_predict(X_agnest)\n",
    "kmeans_RI=adjusted_rand_score(Y_agnest, clustering)\n",
    "print(\"KMeans RI score:\", kmeans_RI)\n",
    "f1=f1_score(Y_agnest,clustering )\n",
    "print(\"f1 score:\",f1)\n",
    "precision=precision_score(Y_agnest, clustering)\n",
    "print(\"precision:\",precision)\n",
    "recall=recall_score(Y_agnest, clustering)\n",
    "print(\"recall:\",recall)\n",
    "average_precision=average_precision_score(Y_agnest, clustering)\n",
    "print(\"Average Precision-Recall Score:\", average_precision)\n",
    "accuracy=accuracy_score(Y_agnest, clustering)\n",
    "print(\"Accuracy:\", accuracy)\n"
   ]
  },
  {
   "cell_type": "markdown",
   "id": "23e885c3",
   "metadata": {},
   "source": [
    "## Lets try under sampling the over-represented negative(non-fraud) class"
   ]
  },
  {
   "cell_type": "code",
   "execution_count": 22,
   "id": "9c11cd5f",
   "metadata": {},
   "outputs": [],
   "source": [
    "# still using our separated classes fraud and not_fraud from above\n",
    "\n",
    "# downsample majority\n",
    "not_fraud_downsampled=resample(not_fraud, replace=False, n_samples=len(fraud), random_state=27)\n",
    "\n",
    "# combine minority and downsampled majority\n",
    "downsampled=pd.concat([not_fraud_downsampled, fraud])\n",
    "\n",
    "#checking counts\n",
    "downsampled.Class.value_counts()\n",
    "\n",
    "y_undersampled=downsampled.Class\n",
    "x_undersampled=downsampled.drop('Class', axis=1)"
   ]
  },
  {
   "cell_type": "code",
   "execution_count": 23,
   "id": "107f3aee",
   "metadata": {},
   "outputs": [
    {
     "name": "stdout",
     "output_type": "stream",
     "text": [
      "f1 score: 0.49079754601226994\n",
      "precision : 1.0\n",
      "recall : 0.3252032520325203\n",
      "Average Precision-Recall Score : 0.6626016260162602\n",
      "Accuracy : 0.6626016260162602\n"
     ]
    },
    {
     "name": "stderr",
     "output_type": "stream",
     "text": [
      "C:\\Users\\kumar\\AppData\\Local\\Programs\\Python\\Python310\\lib\\site-packages\\sklearn\\cluster\\_kmeans.py:870: FutureWarning: The default value of `n_init` will change from 10 to 'auto' in 1.4. Set the value of `n_init` explicitly to suppress the warning\n",
      "  warnings.warn(\n"
     ]
    }
   ],
   "source": [
    "# Modeling the undersampled data as is using kmeans clustering\n",
    "\n",
    "kmeans=KMeans(n_clusters=2)\n",
    "kmeans.fit(x_undersampled)\n",
    "labels=kmeans.predict(x_undersampled)\n",
    "\n",
    "f1=f1_score(y_undersampled, labels)\n",
    "print(\"f1 score:\",f1)\n",
    "precision = precision_score(y_undersampled, labels)\n",
    "print(\"precision :\",precision)\n",
    "recall = recall_score(y_undersampled, labels)\n",
    "print(\"recall :\",recall)\n",
    "average_precision = average_precision_score(y_undersampled, labels)\n",
    "print(\"Average Precision-Recall Score :\",average_precision)\n",
    "accuracy = accuracy_score(y_undersampled, labels)\n",
    "print(\"Accuracy :\",accuracy)"
   ]
  },
  {
   "cell_type": "code",
   "execution_count": 24,
   "id": "054bba40",
   "metadata": {},
   "outputs": [
    {
     "name": "stdout",
     "output_type": "stream",
     "text": [
      "f1 score : 0.0398406374501992\n",
      "precision : 1.0\n",
      "recall : 0.02032520325203252\n",
      "Average Precision-Recall Score : 0.5101626016260163\n",
      "Accuracy : 0.5101626016260162\n"
     ]
    }
   ],
   "source": [
    "# Modeling the undersampled data as is using AgglomerativeClustering\n",
    "\n",
    "clustering = AgglomerativeClustering(n_clusters=2, linkage=\"complete\").fit_predict(x_undersampled)\n",
    "\n",
    "f1 = f1_score(y_undersampled, clustering)\n",
    "print(\"f1 score :\", f1)\n",
    "precision = precision_score(y_undersampled, clustering)\n",
    "print(\"precision :\",precision)\n",
    "recall = recall_score(y_undersampled, clustering)\n",
    "print(\"recall :\",recall)\n",
    "average_precision = average_precision_score(y_undersampled, clustering)\n",
    "print(\"Average Precision-Recall Score :\",average_precision)\n",
    "accuracy = accuracy_score(y_undersampled, clustering)\n",
    "print(\"Accuracy :\",accuracy)"
   ]
  },
  {
   "cell_type": "markdown",
   "id": "50508ba6",
   "metadata": {},
   "source": [
    "## Lets try over-sampling the under-represented class using SMOTE(Synthetic Minority Over-sampling Technique) algorithm"
   ]
  },
  {
   "cell_type": "code",
   "execution_count": 25,
   "id": "6f206755",
   "metadata": {},
   "outputs": [
    {
     "name": "stdout",
     "output_type": "stream",
     "text": [
      "Requirement already satisfied: imblearn in c:\\users\\kumar\\appdata\\local\\programs\\python\\python310\\lib\\site-packages (0.0)\n",
      "Requirement already satisfied: imbalanced-learn in c:\\users\\kumar\\appdata\\local\\programs\\python\\python310\\lib\\site-packages (from imblearn) (0.10.1)\n",
      "Requirement already satisfied: numpy>=1.17.3 in c:\\users\\kumar\\appdata\\local\\programs\\python\\python310\\lib\\site-packages (from imbalanced-learn->imblearn) (1.23.5)\n",
      "Requirement already satisfied: scipy>=1.3.2 in c:\\users\\kumar\\appdata\\local\\programs\\python\\python310\\lib\\site-packages (from imbalanced-learn->imblearn) (1.10.1)\n",
      "Requirement already satisfied: scikit-learn>=1.0.2 in c:\\users\\kumar\\appdata\\local\\programs\\python\\python310\\lib\\site-packages (from imbalanced-learn->imblearn) (1.2.2)\n",
      "Requirement already satisfied: joblib>=1.1.1 in c:\\users\\kumar\\appdata\\local\\programs\\python\\python310\\lib\\site-packages (from imbalanced-learn->imblearn) (1.2.0)\n",
      "Requirement already satisfied: threadpoolctl>=2.0.0 in c:\\users\\kumar\\appdata\\local\\programs\\python\\python310\\lib\\site-packages (from imbalanced-learn->imblearn) (3.1.0)\n",
      "Note: you may need to restart the kernel to use updated packages.\n"
     ]
    }
   ],
   "source": [
    "pip install imblearn"
   ]
  },
  {
   "cell_type": "code",
   "execution_count": 26,
   "id": "f86af4e0",
   "metadata": {},
   "outputs": [],
   "source": [
    "from imblearn.over_sampling import SMOTE\n",
    "\n",
    "# Seperate input features and target\n",
    "y=df.Class\n",
    "x=df.drop(\"Class\", axis=1)\n",
    "\n",
    "sm=SMOTE(random_state=27)#, ratio=1.0\n",
    "upsamled=sm.fit_resample(x,y)\n",
    "x_smote=upsampled.drop('Class', axis=1)\n",
    "y_smote=upsampled.Class\n",
    "\n",
    "\n",
    "fraud_df = upsampled.loc[upsampled['Class'] == 1][:500]\n",
    "non_fraud_df = upsampled.loc[upsampled['Class'] == 0][:500]\n",
    "\n",
    "new_df = pd.concat([fraud_df, non_fraud_df])\n",
    "\n",
    "# Shuffle dataframe rows\n",
    "new_df = new_df.sample(frac=1, random_state=42)\n",
    "\n",
    "X_agnest = new_df.drop('Class', axis=1)\n",
    "y_agnest = new_df['Class']\n"
   ]
  },
  {
   "cell_type": "code",
   "execution_count": 27,
   "id": "4d6ca7c0",
   "metadata": {},
   "outputs": [
    {
     "name": "stderr",
     "output_type": "stream",
     "text": [
      "C:\\Users\\kumar\\AppData\\Local\\Programs\\Python\\Python310\\lib\\site-packages\\sklearn\\cluster\\_kmeans.py:870: FutureWarning: The default value of `n_init` will change from 10 to 'auto' in 1.4. Set the value of `n_init` explicitly to suppress the warning\n",
      "  warnings.warn(\n"
     ]
    },
    {
     "name": "stdout",
     "output_type": "stream",
     "text": [
      "f1 score: 0.5040956057905434\n",
      "precision : 0.4026308600727059\n",
      "recall : 0.6739285651478114\n",
      "Average Precision-Recall Score : 0.4343801552391222\n",
      "Accuracy : 0.3370223167965109\n"
     ]
    }
   ],
   "source": [
    "# Modeling the undersampled data using SMOTE and kmeans clustering\n",
    "\n",
    "kmeans=KMeans(n_clusters=2)\n",
    "kmeans.fit(x_smote)\n",
    "labels=kmeans.predict(x_smote)\n",
    "\n",
    "f1=f1_score(y_smote, labels)\n",
    "print(\"f1 score:\",f1)\n",
    "precision = precision_score(y_smote, labels)\n",
    "print(\"precision :\",precision)\n",
    "recall = recall_score(y_smote, labels)\n",
    "print(\"recall :\",recall)\n",
    "average_precision = average_precision_score(y_smote, labels)\n",
    "print(\"Average Precision-Recall Score :\",average_precision)\n",
    "accuracy = accuracy_score(y_smote, labels)\n",
    "print(\"Accuracy :\",accuracy)"
   ]
  },
  {
   "cell_type": "code",
   "execution_count": 28,
   "id": "45209626",
   "metadata": {},
   "outputs": [
    {
     "name": "stdout",
     "output_type": "stream",
     "text": [
      "f1 score : 0.046875\n",
      "precision : 1.0\n",
      "recall : 0.024\n",
      "Average Precision-Recall Score : 0.512\n",
      "Accuracy : 0.512\n"
     ]
    }
   ],
   "source": [
    "# Modeling the undersampled data using SMOTE and AgglomerativeClustering\n",
    "\n",
    "clustering = AgglomerativeClustering(n_clusters=2, linkage=\"complete\").fit_predict(X_agnest)\n",
    "\n",
    "f1 = f1_score(y_agnest, clustering)\n",
    "print(\"f1 score :\", f1)\n",
    "precision = precision_score(y_agnest, clustering)\n",
    "print(\"precision :\",precision)\n",
    "recall = recall_score(y_agnest, clustering)\n",
    "print(\"recall :\",recall)\n",
    "average_precision = average_precision_score(y_agnest, clustering)\n",
    "print(\"Average Precision-Recall Score :\",average_precision)\n",
    "accuracy = accuracy_score(y_agnest, clustering)\n",
    "print(\"Accuracy :\",accuracy)"
   ]
  },
  {
   "cell_type": "code",
   "execution_count": null,
   "id": "a360c09b",
   "metadata": {},
   "outputs": [],
   "source": []
  }
 ],
 "metadata": {
  "kernelspec": {
   "display_name": "Python 3 (ipykernel)",
   "language": "python",
   "name": "python3"
  },
  "language_info": {
   "codemirror_mode": {
    "name": "ipython",
    "version": 3
   },
   "file_extension": ".py",
   "mimetype": "text/x-python",
   "name": "python",
   "nbconvert_exporter": "python",
   "pygments_lexer": "ipython3",
   "version": "3.10.10"
  }
 },
 "nbformat": 4,
 "nbformat_minor": 5
}
