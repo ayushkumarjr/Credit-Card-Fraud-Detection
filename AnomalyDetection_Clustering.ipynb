{
  "nbformat": 4,
  "nbformat_minor": 0,
  "metadata": {
    "colab": {
      "provenance": [],
      "mount_file_id": "1ugIMdAxmmAi507zAbdFmt9KCCLUkVqDx",
      "authorship_tag": "ABX9TyOX296X0Ojwv3QfsGA6yVgl",
      "include_colab_link": true
    },
    "kernelspec": {
      "name": "python3",
      "display_name": "Python 3"
    },
    "language_info": {
      "name": "python"
    }
  },
  "cells": [
    {
      "cell_type": "markdown",
      "metadata": {
        "id": "view-in-github",
        "colab_type": "text"
      },
      "source": [
        "<a href=\"https://colab.research.google.com/github/ayushkumarjr/Credit-Card-Fraud-Detection/blob/main/AnomalyDetection_Clustering.ipynb\" target=\"_parent\"><img src=\"https://colab.research.google.com/assets/colab-badge.svg\" alt=\"Open In Colab\"/></a>"
      ]
    },
    {
      "cell_type": "code",
      "execution_count": 1,
      "metadata": {
        "id": "fEshs9ATqF86"
      },
      "outputs": [],
      "source": [
        "import numpy as np\n",
        "import pandas as pd"
      ]
    },
    {
      "cell_type": "code",
      "source": [
        "data=pd.read_csv('/content/drive/MyDrive/Credit Card/creditcard.csv')"
      ],
      "metadata": {
        "id": "6Sr6fi6eqSkN"
      },
      "execution_count": 2,
      "outputs": []
    },
    {
      "cell_type": "code",
      "source": [
        "df=data.copy()"
      ],
      "metadata": {
        "id": "fBOL2-QqrCor"
      },
      "execution_count": 3,
      "outputs": []
    },
    {
      "cell_type": "code",
      "source": [
        "data.isnull().sum().max()"
      ],
      "metadata": {
        "colab": {
          "base_uri": "https://localhost:8080/"
        },
        "id": "kCQ-uL3orHbF",
        "outputId": "6155277c-b4d4-4643-ff7b-faf4642a10e4"
      },
      "execution_count": 4,
      "outputs": [
        {
          "output_type": "execute_result",
          "data": {
            "text/plain": [
              "0"
            ]
          },
          "metadata": {},
          "execution_count": 4
        }
      ]
    },
    {
      "cell_type": "code",
      "source": [
        "data.head()"
      ],
      "metadata": {
        "colab": {
          "base_uri": "https://localhost:8080/",
          "height": 256
        },
        "id": "j6Ry5fyGrKx0",
        "outputId": "1f20d28c-b397-400c-911d-f6e272078132"
      },
      "execution_count": 5,
      "outputs": [
        {
          "output_type": "execute_result",
          "data": {
            "text/plain": [
              "   Time        V1        V2        V3        V4        V5        V6        V7  \\\n",
              "0   0.0 -1.359807 -0.072781  2.536347  1.378155 -0.338321  0.462388  0.239599   \n",
              "1   0.0  1.191857  0.266151  0.166480  0.448154  0.060018 -0.082361 -0.078803   \n",
              "2   1.0 -1.358354 -1.340163  1.773209  0.379780 -0.503198  1.800499  0.791461   \n",
              "3   1.0 -0.966272 -0.185226  1.792993 -0.863291 -0.010309  1.247203  0.237609   \n",
              "4   2.0 -1.158233  0.877737  1.548718  0.403034 -0.407193  0.095921  0.592941   \n",
              "\n",
              "         V8        V9  ...       V21       V22       V23       V24       V25  \\\n",
              "0  0.098698  0.363787  ... -0.018307  0.277838 -0.110474  0.066928  0.128539   \n",
              "1  0.085102 -0.255425  ... -0.225775 -0.638672  0.101288 -0.339846  0.167170   \n",
              "2  0.247676 -1.514654  ...  0.247998  0.771679  0.909412 -0.689281 -0.327642   \n",
              "3  0.377436 -1.387024  ... -0.108300  0.005274 -0.190321 -1.175575  0.647376   \n",
              "4 -0.270533  0.817739  ... -0.009431  0.798278 -0.137458  0.141267 -0.206010   \n",
              "\n",
              "        V26       V27       V28  Amount  Class  \n",
              "0 -0.189115  0.133558 -0.021053  149.62      0  \n",
              "1  0.125895 -0.008983  0.014724    2.69      0  \n",
              "2 -0.139097 -0.055353 -0.059752  378.66      0  \n",
              "3 -0.221929  0.062723  0.061458  123.50      0  \n",
              "4  0.502292  0.219422  0.215153   69.99      0  \n",
              "\n",
              "[5 rows x 31 columns]"
            ],
            "text/html": [
              "\n",
              "  <div id=\"df-0534c0a0-e609-4f1a-bd16-179bd57a0c47\" class=\"colab-df-container\">\n",
              "    <div>\n",
              "<style scoped>\n",
              "    .dataframe tbody tr th:only-of-type {\n",
              "        vertical-align: middle;\n",
              "    }\n",
              "\n",
              "    .dataframe tbody tr th {\n",
              "        vertical-align: top;\n",
              "    }\n",
              "\n",
              "    .dataframe thead th {\n",
              "        text-align: right;\n",
              "    }\n",
              "</style>\n",
              "<table border=\"1\" class=\"dataframe\">\n",
              "  <thead>\n",
              "    <tr style=\"text-align: right;\">\n",
              "      <th></th>\n",
              "      <th>Time</th>\n",
              "      <th>V1</th>\n",
              "      <th>V2</th>\n",
              "      <th>V3</th>\n",
              "      <th>V4</th>\n",
              "      <th>V5</th>\n",
              "      <th>V6</th>\n",
              "      <th>V7</th>\n",
              "      <th>V8</th>\n",
              "      <th>V9</th>\n",
              "      <th>...</th>\n",
              "      <th>V21</th>\n",
              "      <th>V22</th>\n",
              "      <th>V23</th>\n",
              "      <th>V24</th>\n",
              "      <th>V25</th>\n",
              "      <th>V26</th>\n",
              "      <th>V27</th>\n",
              "      <th>V28</th>\n",
              "      <th>Amount</th>\n",
              "      <th>Class</th>\n",
              "    </tr>\n",
              "  </thead>\n",
              "  <tbody>\n",
              "    <tr>\n",
              "      <th>0</th>\n",
              "      <td>0.0</td>\n",
              "      <td>-1.359807</td>\n",
              "      <td>-0.072781</td>\n",
              "      <td>2.536347</td>\n",
              "      <td>1.378155</td>\n",
              "      <td>-0.338321</td>\n",
              "      <td>0.462388</td>\n",
              "      <td>0.239599</td>\n",
              "      <td>0.098698</td>\n",
              "      <td>0.363787</td>\n",
              "      <td>...</td>\n",
              "      <td>-0.018307</td>\n",
              "      <td>0.277838</td>\n",
              "      <td>-0.110474</td>\n",
              "      <td>0.066928</td>\n",
              "      <td>0.128539</td>\n",
              "      <td>-0.189115</td>\n",
              "      <td>0.133558</td>\n",
              "      <td>-0.021053</td>\n",
              "      <td>149.62</td>\n",
              "      <td>0</td>\n",
              "    </tr>\n",
              "    <tr>\n",
              "      <th>1</th>\n",
              "      <td>0.0</td>\n",
              "      <td>1.191857</td>\n",
              "      <td>0.266151</td>\n",
              "      <td>0.166480</td>\n",
              "      <td>0.448154</td>\n",
              "      <td>0.060018</td>\n",
              "      <td>-0.082361</td>\n",
              "      <td>-0.078803</td>\n",
              "      <td>0.085102</td>\n",
              "      <td>-0.255425</td>\n",
              "      <td>...</td>\n",
              "      <td>-0.225775</td>\n",
              "      <td>-0.638672</td>\n",
              "      <td>0.101288</td>\n",
              "      <td>-0.339846</td>\n",
              "      <td>0.167170</td>\n",
              "      <td>0.125895</td>\n",
              "      <td>-0.008983</td>\n",
              "      <td>0.014724</td>\n",
              "      <td>2.69</td>\n",
              "      <td>0</td>\n",
              "    </tr>\n",
              "    <tr>\n",
              "      <th>2</th>\n",
              "      <td>1.0</td>\n",
              "      <td>-1.358354</td>\n",
              "      <td>-1.340163</td>\n",
              "      <td>1.773209</td>\n",
              "      <td>0.379780</td>\n",
              "      <td>-0.503198</td>\n",
              "      <td>1.800499</td>\n",
              "      <td>0.791461</td>\n",
              "      <td>0.247676</td>\n",
              "      <td>-1.514654</td>\n",
              "      <td>...</td>\n",
              "      <td>0.247998</td>\n",
              "      <td>0.771679</td>\n",
              "      <td>0.909412</td>\n",
              "      <td>-0.689281</td>\n",
              "      <td>-0.327642</td>\n",
              "      <td>-0.139097</td>\n",
              "      <td>-0.055353</td>\n",
              "      <td>-0.059752</td>\n",
              "      <td>378.66</td>\n",
              "      <td>0</td>\n",
              "    </tr>\n",
              "    <tr>\n",
              "      <th>3</th>\n",
              "      <td>1.0</td>\n",
              "      <td>-0.966272</td>\n",
              "      <td>-0.185226</td>\n",
              "      <td>1.792993</td>\n",
              "      <td>-0.863291</td>\n",
              "      <td>-0.010309</td>\n",
              "      <td>1.247203</td>\n",
              "      <td>0.237609</td>\n",
              "      <td>0.377436</td>\n",
              "      <td>-1.387024</td>\n",
              "      <td>...</td>\n",
              "      <td>-0.108300</td>\n",
              "      <td>0.005274</td>\n",
              "      <td>-0.190321</td>\n",
              "      <td>-1.175575</td>\n",
              "      <td>0.647376</td>\n",
              "      <td>-0.221929</td>\n",
              "      <td>0.062723</td>\n",
              "      <td>0.061458</td>\n",
              "      <td>123.50</td>\n",
              "      <td>0</td>\n",
              "    </tr>\n",
              "    <tr>\n",
              "      <th>4</th>\n",
              "      <td>2.0</td>\n",
              "      <td>-1.158233</td>\n",
              "      <td>0.877737</td>\n",
              "      <td>1.548718</td>\n",
              "      <td>0.403034</td>\n",
              "      <td>-0.407193</td>\n",
              "      <td>0.095921</td>\n",
              "      <td>0.592941</td>\n",
              "      <td>-0.270533</td>\n",
              "      <td>0.817739</td>\n",
              "      <td>...</td>\n",
              "      <td>-0.009431</td>\n",
              "      <td>0.798278</td>\n",
              "      <td>-0.137458</td>\n",
              "      <td>0.141267</td>\n",
              "      <td>-0.206010</td>\n",
              "      <td>0.502292</td>\n",
              "      <td>0.219422</td>\n",
              "      <td>0.215153</td>\n",
              "      <td>69.99</td>\n",
              "      <td>0</td>\n",
              "    </tr>\n",
              "  </tbody>\n",
              "</table>\n",
              "<p>5 rows × 31 columns</p>\n",
              "</div>\n",
              "    <div class=\"colab-df-buttons\">\n",
              "\n",
              "  <div class=\"colab-df-container\">\n",
              "    <button class=\"colab-df-convert\" onclick=\"convertToInteractive('df-0534c0a0-e609-4f1a-bd16-179bd57a0c47')\"\n",
              "            title=\"Convert this dataframe to an interactive table.\"\n",
              "            style=\"display:none;\">\n",
              "\n",
              "  <svg xmlns=\"http://www.w3.org/2000/svg\" height=\"24px\" viewBox=\"0 -960 960 960\">\n",
              "    <path d=\"M120-120v-720h720v720H120Zm60-500h600v-160H180v160Zm220 220h160v-160H400v160Zm0 220h160v-160H400v160ZM180-400h160v-160H180v160Zm440 0h160v-160H620v160ZM180-180h160v-160H180v160Zm440 0h160v-160H620v160Z\"/>\n",
              "  </svg>\n",
              "    </button>\n",
              "\n",
              "  <style>\n",
              "    .colab-df-container {\n",
              "      display:flex;\n",
              "      gap: 12px;\n",
              "    }\n",
              "\n",
              "    .colab-df-convert {\n",
              "      background-color: #E8F0FE;\n",
              "      border: none;\n",
              "      border-radius: 50%;\n",
              "      cursor: pointer;\n",
              "      display: none;\n",
              "      fill: #1967D2;\n",
              "      height: 32px;\n",
              "      padding: 0 0 0 0;\n",
              "      width: 32px;\n",
              "    }\n",
              "\n",
              "    .colab-df-convert:hover {\n",
              "      background-color: #E2EBFA;\n",
              "      box-shadow: 0px 1px 2px rgba(60, 64, 67, 0.3), 0px 1px 3px 1px rgba(60, 64, 67, 0.15);\n",
              "      fill: #174EA6;\n",
              "    }\n",
              "\n",
              "    .colab-df-buttons div {\n",
              "      margin-bottom: 4px;\n",
              "    }\n",
              "\n",
              "    [theme=dark] .colab-df-convert {\n",
              "      background-color: #3B4455;\n",
              "      fill: #D2E3FC;\n",
              "    }\n",
              "\n",
              "    [theme=dark] .colab-df-convert:hover {\n",
              "      background-color: #434B5C;\n",
              "      box-shadow: 0px 1px 3px 1px rgba(0, 0, 0, 0.15);\n",
              "      filter: drop-shadow(0px 1px 2px rgba(0, 0, 0, 0.3));\n",
              "      fill: #FFFFFF;\n",
              "    }\n",
              "  </style>\n",
              "\n",
              "    <script>\n",
              "      const buttonEl =\n",
              "        document.querySelector('#df-0534c0a0-e609-4f1a-bd16-179bd57a0c47 button.colab-df-convert');\n",
              "      buttonEl.style.display =\n",
              "        google.colab.kernel.accessAllowed ? 'block' : 'none';\n",
              "\n",
              "      async function convertToInteractive(key) {\n",
              "        const element = document.querySelector('#df-0534c0a0-e609-4f1a-bd16-179bd57a0c47');\n",
              "        const dataTable =\n",
              "          await google.colab.kernel.invokeFunction('convertToInteractive',\n",
              "                                                    [key], {});\n",
              "        if (!dataTable) return;\n",
              "\n",
              "        const docLinkHtml = 'Like what you see? Visit the ' +\n",
              "          '<a target=\"_blank\" href=https://colab.research.google.com/notebooks/data_table.ipynb>data table notebook</a>'\n",
              "          + ' to learn more about interactive tables.';\n",
              "        element.innerHTML = '';\n",
              "        dataTable['output_type'] = 'display_data';\n",
              "        await google.colab.output.renderOutput(dataTable, element);\n",
              "        const docLink = document.createElement('div');\n",
              "        docLink.innerHTML = docLinkHtml;\n",
              "        element.appendChild(docLink);\n",
              "      }\n",
              "    </script>\n",
              "  </div>\n",
              "\n",
              "\n",
              "<div id=\"df-9966a5b2-ff0e-4614-b83c-db9bad09e71d\">\n",
              "  <button class=\"colab-df-quickchart\" onclick=\"quickchart('df-9966a5b2-ff0e-4614-b83c-db9bad09e71d')\"\n",
              "            title=\"Suggest charts.\"\n",
              "            style=\"display:none;\">\n",
              "\n",
              "<svg xmlns=\"http://www.w3.org/2000/svg\" height=\"24px\"viewBox=\"0 0 24 24\"\n",
              "     width=\"24px\">\n",
              "    <g>\n",
              "        <path d=\"M19 3H5c-1.1 0-2 .9-2 2v14c0 1.1.9 2 2 2h14c1.1 0 2-.9 2-2V5c0-1.1-.9-2-2-2zM9 17H7v-7h2v7zm4 0h-2V7h2v10zm4 0h-2v-4h2v4z\"/>\n",
              "    </g>\n",
              "</svg>\n",
              "  </button>\n",
              "\n",
              "<style>\n",
              "  .colab-df-quickchart {\n",
              "      --bg-color: #E8F0FE;\n",
              "      --fill-color: #1967D2;\n",
              "      --hover-bg-color: #E2EBFA;\n",
              "      --hover-fill-color: #174EA6;\n",
              "      --disabled-fill-color: #AAA;\n",
              "      --disabled-bg-color: #DDD;\n",
              "  }\n",
              "\n",
              "  [theme=dark] .colab-df-quickchart {\n",
              "      --bg-color: #3B4455;\n",
              "      --fill-color: #D2E3FC;\n",
              "      --hover-bg-color: #434B5C;\n",
              "      --hover-fill-color: #FFFFFF;\n",
              "      --disabled-bg-color: #3B4455;\n",
              "      --disabled-fill-color: #666;\n",
              "  }\n",
              "\n",
              "  .colab-df-quickchart {\n",
              "    background-color: var(--bg-color);\n",
              "    border: none;\n",
              "    border-radius: 50%;\n",
              "    cursor: pointer;\n",
              "    display: none;\n",
              "    fill: var(--fill-color);\n",
              "    height: 32px;\n",
              "    padding: 0;\n",
              "    width: 32px;\n",
              "  }\n",
              "\n",
              "  .colab-df-quickchart:hover {\n",
              "    background-color: var(--hover-bg-color);\n",
              "    box-shadow: 0 1px 2px rgba(60, 64, 67, 0.3), 0 1px 3px 1px rgba(60, 64, 67, 0.15);\n",
              "    fill: var(--button-hover-fill-color);\n",
              "  }\n",
              "\n",
              "  .colab-df-quickchart-complete:disabled,\n",
              "  .colab-df-quickchart-complete:disabled:hover {\n",
              "    background-color: var(--disabled-bg-color);\n",
              "    fill: var(--disabled-fill-color);\n",
              "    box-shadow: none;\n",
              "  }\n",
              "\n",
              "  .colab-df-spinner {\n",
              "    border: 2px solid var(--fill-color);\n",
              "    border-color: transparent;\n",
              "    border-bottom-color: var(--fill-color);\n",
              "    animation:\n",
              "      spin 1s steps(1) infinite;\n",
              "  }\n",
              "\n",
              "  @keyframes spin {\n",
              "    0% {\n",
              "      border-color: transparent;\n",
              "      border-bottom-color: var(--fill-color);\n",
              "      border-left-color: var(--fill-color);\n",
              "    }\n",
              "    20% {\n",
              "      border-color: transparent;\n",
              "      border-left-color: var(--fill-color);\n",
              "      border-top-color: var(--fill-color);\n",
              "    }\n",
              "    30% {\n",
              "      border-color: transparent;\n",
              "      border-left-color: var(--fill-color);\n",
              "      border-top-color: var(--fill-color);\n",
              "      border-right-color: var(--fill-color);\n",
              "    }\n",
              "    40% {\n",
              "      border-color: transparent;\n",
              "      border-right-color: var(--fill-color);\n",
              "      border-top-color: var(--fill-color);\n",
              "    }\n",
              "    60% {\n",
              "      border-color: transparent;\n",
              "      border-right-color: var(--fill-color);\n",
              "    }\n",
              "    80% {\n",
              "      border-color: transparent;\n",
              "      border-right-color: var(--fill-color);\n",
              "      border-bottom-color: var(--fill-color);\n",
              "    }\n",
              "    90% {\n",
              "      border-color: transparent;\n",
              "      border-bottom-color: var(--fill-color);\n",
              "    }\n",
              "  }\n",
              "</style>\n",
              "\n",
              "  <script>\n",
              "    async function quickchart(key) {\n",
              "      const quickchartButtonEl =\n",
              "        document.querySelector('#' + key + ' button');\n",
              "      quickchartButtonEl.disabled = true;  // To prevent multiple clicks.\n",
              "      quickchartButtonEl.classList.add('colab-df-spinner');\n",
              "      try {\n",
              "        const charts = await google.colab.kernel.invokeFunction(\n",
              "            'suggestCharts', [key], {});\n",
              "      } catch (error) {\n",
              "        console.error('Error during call to suggestCharts:', error);\n",
              "      }\n",
              "      quickchartButtonEl.classList.remove('colab-df-spinner');\n",
              "      quickchartButtonEl.classList.add('colab-df-quickchart-complete');\n",
              "    }\n",
              "    (() => {\n",
              "      let quickchartButtonEl =\n",
              "        document.querySelector('#df-9966a5b2-ff0e-4614-b83c-db9bad09e71d button');\n",
              "      quickchartButtonEl.style.display =\n",
              "        google.colab.kernel.accessAllowed ? 'block' : 'none';\n",
              "    })();\n",
              "  </script>\n",
              "</div>\n",
              "    </div>\n",
              "  </div>\n"
            ]
          },
          "metadata": {},
          "execution_count": 5
        }
      ]
    },
    {
      "cell_type": "code",
      "source": [
        "print('No of fraud Class is {} which is {}%'.format(data['Class'].value_counts()[0],round(100*data['Class'].value_counts()[0]/len(df),2)))\n",
        "print('No of fraud Class is {} which is {}%'.format(data['Class'].value_counts()[1],round(100*data['Class'].value_counts()[1]/len(df),2)))"
      ],
      "metadata": {
        "colab": {
          "base_uri": "https://localhost:8080/"
        },
        "id": "EOAn7RpWrO5m",
        "outputId": "d4a2d32d-9c20-48b6-b03c-40d95659444a"
      },
      "execution_count": 6,
      "outputs": [
        {
          "output_type": "stream",
          "name": "stdout",
          "text": [
            "No of fraud Class is 284315 which is 99.83%\n",
            "No of fraud Class is 492 which is 0.17%\n"
          ]
        }
      ]
    },
    {
      "cell_type": "code",
      "source": [
        "import matplotlib\n",
        "import matplotlib.pyplot as plt\n",
        "import seaborn as sns"
      ],
      "metadata": {
        "id": "Lq9biC-nrZml"
      },
      "execution_count": 7,
      "outputs": []
    },
    {
      "cell_type": "code",
      "source": [
        "colors=['#0000FF','#FFA500']\n",
        "\n",
        "sns.countplot(data=data,x='Class',palette=colors)\n",
        "plt.title('Class Distibution \\n (0: Non Fraud|| 1: Fraud)',fontsize=15)\n",
        "plt.show()"
      ],
      "metadata": {
        "colab": {
          "base_uri": "https://localhost:8080/",
          "height": 497
        },
        "id": "vGCtiJaLriOc",
        "outputId": "24b8dec1-960e-46b3-bd25-b1f103ae1f1b"
      },
      "execution_count": 8,
      "outputs": [
        {
          "output_type": "display_data",
          "data": {
            "text/plain": [
              "<Figure size 640x480 with 1 Axes>"
            ],
            "image/png": "[encoded data removed]"
          },
          "metadata": {}
        }
      ]
    },
    {
      "cell_type": "code",
      "source": [
        "fig, (ax1,ax2)=plt.subplots(2,1, sharex=True, figsize=(12,4))\n",
        "\n",
        "ax1.hist(df.Time[df.Class==1],bins=50)\n",
        "ax1.set_title('Fraud')\n",
        "\n",
        "ax2.hist(df.Time[df.Class==0],bins=50)\n",
        "ax2.set_title('Not Fraud')\n",
        "\n",
        "plt.xlabel('Time (in Seconds)')\n",
        "plt.ylabel('Number of Transaction')\n",
        "plt.show();"
      ],
      "metadata": {
        "colab": {
          "base_uri": "https://localhost:8080/",
          "height": 410
        },
        "id": "8wOyeTtEro8p",
        "outputId": "ec06a021-55f4-4b4a-fdfd-adee3d197571"
      },
      "execution_count": 9,
      "outputs": [
        {
          "output_type": "display_data",
          "data": {
            "text/plain": [
              "<Figure size 1200x400 with 2 Axes>"
            ],
            "image/png": "[encoded data removed]"
          },
          "metadata": {}
        }
      ]
    },
    {
      "cell_type": "code",
      "source": [
        "# Cylindrical Coding\n",
        "seconds_in_day=24*60*60\n",
        "\n",
        "df['sin_time']=np.sin(2*np.pi*df.Time/seconds_in_day)\n",
        "df['cos_time']=np.cos(2*np.pi*df.Time/seconds_in_day)\n",
        "\n",
        "df.drop('Time',axis=1,inplace=True)\n"
      ],
      "metadata": {
        "id": "giQLdWM8rrgx"
      },
      "execution_count": 10,
      "outputs": []
    },
    {
      "cell_type": "code",
      "source": [
        "from sklearn.preprocessing import MinMaxScaler\n",
        "\n",
        "mm_scaler=MinMaxScaler(feature_range=(0,1))\n",
        "df['scaled_amount']=mm_scaler.fit_transform(df['Amount'].values.reshape(-1,1))\n",
        "df.drop('Amount',axis=1,inplace=True)\n"
      ],
      "metadata": {
        "id": "DQ3gQQ9cru8j"
      },
      "execution_count": 11,
      "outputs": []
    },
    {
      "cell_type": "code",
      "source": [
        "# seperating input and output class\n",
        "X_orig=df.drop('Class',axis=1)\n",
        "Y_orig=df['Class']\n",
        "df=df.sample(frac=1)\n",
        "\n",
        "#amount of fraud class 492 rows\n",
        "fraud_df=df.loc[df['Class']==1]\n",
        "non_fraud=df.loc[df['Class']==0][:492]\n",
        "\n",
        "normal_distributed_df=pd.concat([fraud_df,non_fraud])\n",
        "\n",
        "# shuffle the dataframe\n",
        "new_df=normal_distributed_df.sample(frac=1,random_state=42)\n",
        "\n",
        "X=new_df.drop('Class',axis=1)\n",
        "Y=new_df['Class']"
      ],
      "metadata": {
        "id": "s_jrQdWlry8d"
      },
      "execution_count": 12,
      "outputs": []
    },
    {
      "cell_type": "code",
      "source": [
        "from sklearn.metrics import precision_score, recall_score, f1_score, accuracy_score\n",
        "from sklearn.metrics import average_precision_score\n"
      ],
      "metadata": {
        "id": "QK_aUmh4r1mU"
      },
      "execution_count": 13,
      "outputs": []
    },
    {
      "cell_type": "markdown",
      "source": [
        "# **First we model data as is and applying Clustering Algorithm**"
      ],
      "metadata": {
        "id": "vvrFcAD0r7vi"
      }
    },
    {
      "cell_type": "code",
      "source": [
        "from sklearn.cluster import KMeans\n",
        "\n",
        "from sklearn.metrics import precision_score, recall_score, f1_score, accuracy_score\n",
        "from sklearn.metrics import average_precision_score"
      ],
      "metadata": {
        "id": "rGNMXgZur4E0"
      },
      "execution_count": 14,
      "outputs": []
    },
    {
      "cell_type": "code",
      "source": [
        "from sklearn.metrics.cluster import adjusted_rand_score\n"
      ],
      "metadata": {
        "id": "ajuUqDHUs4Xa"
      },
      "execution_count": 15,
      "outputs": []
    },
    {
      "cell_type": "code",
      "source": [
        "# Modeling the data as is\n",
        "\n",
        "kmeans=KMeans(n_clusters=2)\n",
        "kmeans.fit(X_orig)\n",
        "labels=kmeans.predict(X_orig)\n",
        "\n",
        "kmeans_RI=adjusted_rand_score(Y_orig,labels)\n",
        "print('Kmeans RI Score:',kmeans_RI)\n",
        "f1=f1_score(Y_orig,labels)\n",
        "print('f1 score:',f1)\n",
        "precision=precision_score(Y_orig,labels)\n",
        "print('Precision Score:',precision)\n",
        "recall=recall_score(Y_orig,labels)\n",
        "print('recall:',recall)\n",
        "average_precision=average_precision_score(Y_orig,labels)\n",
        "print('Average Precision -Recall Score:',average_precision)\n",
        "accuracy=accuracy_score(Y_orig,labels)\n",
        "print('Accuracy:',accuracy)"
      ],
      "metadata": {
        "colab": {
          "base_uri": "https://localhost:8080/"
        },
        "id": "b1-XaWYssfpX",
        "outputId": "a298a111-1ef9-497b-c97b-a42fadcbc933"
      },
      "execution_count": 16,
      "outputs": [
        {
          "output_type": "stream",
          "name": "stderr",
          "text": [
            "/usr/local/lib/python3.10/dist-packages/sklearn/cluster/_kmeans.py:870: FutureWarning: The default value of `n_init` will change from 10 to 'auto' in 1.4. Set the value of `n_init` explicitly to suppress the warning\n",
            "  warnings.warn(\n"
          ]
        },
        {
          "output_type": "stream",
          "name": "stdout",
          "text": [
            "Kmeans RI Score: -0.0001480139167940794\n",
            "f1 score: 0.004754284500102921\n",
            "Precision Score: 0.0023849336149065013\n",
            "recall: 0.7276422764227642\n",
            "Average Precision -Recall Score: 0.0022058725785357967\n",
            "Accuracy: 0.4737313338506427\n"
          ]
        }
      ]
    },
    {
      "cell_type": "code",
      "source": [
        "# #Modeling the data as is AgglomerativeClustering\n",
        "from sklearn.cluster import AgglomerativeClustering\n",
        "\n",
        "ag=AgglomerativeClustering(n_clusters=2,linkage='complete')\n",
        "clustering=ag.fit_predict(X)\n",
        "kmeans_RI=adjusted_rand_score(Y,clustering)\n",
        "print('Kmeans RI Score:',kmeans_RI)\n",
        "f1=f1_score(Y,clustering)\n",
        "print('f1 score:',f1)\n",
        "precision=precision_score(Y,clustering)\n",
        "print('Precision Score:',precision)\n",
        "recall=recall_score(Y,clustering)\n",
        "print('recall:',recall)\n",
        "average_precision=average_precision_score(Y,clustering)\n",
        "print('Average Precision -Recall Score:',average_precision)\n",
        "accuracy=accuracy_score(Y,clustering)\n",
        "print('Accuracy:',accuracy)\n",
        "\n",
        "\n"
      ],
      "metadata": {
        "id": "jc5EJy0CuJ-k",
        "colab": {
          "base_uri": "https://localhost:8080/"
        },
        "outputId": "d3a8c273-9af3-4001-ecfb-1eac3de2c967"
      },
      "execution_count": 17,
      "outputs": [
        {
          "output_type": "stream",
          "name": "stdout",
          "text": [
            "Kmeans RI Score: 0.0003721959661186011\n",
            "f1 score: 0.0398406374501992\n",
            "Precision Score: 1.0\n",
            "recall: 0.02032520325203252\n",
            "Average Precision -Recall Score: 0.5101626016260163\n",
            "Accuracy: 0.5101626016260162\n"
          ]
        }
      ]
    },
    {
      "cell_type": "markdown",
      "source": [
        "# **Let's try the same clusterings with under sampling of over represented class(non-fraud) class**"
      ],
      "metadata": {
        "id": "Fk35EgeDwMgX"
      }
    },
    {
      "cell_type": "code",
      "source": [
        "fraud=df[df['Class']==0]\n",
        "normal=df[df['Class']==1]"
      ],
      "metadata": {
        "id": "x_ffvjYGvv8J"
      },
      "execution_count": 18,
      "outputs": []
    },
    {
      "cell_type": "code",
      "source": [
        "from imblearn.under_sampling import NearMiss"
      ],
      "metadata": {
        "id": "VGPk0xWv1aj8"
      },
      "execution_count": 19,
      "outputs": []
    },
    {
      "cell_type": "code",
      "source": [
        "# Implementing\n",
        "X=df.drop('Class',axis=1)\n",
        "y=df.Class"
      ],
      "metadata": {
        "id": "ARKArCgQ1cRM"
      },
      "execution_count": 20,
      "outputs": []
    },
    {
      "cell_type": "code",
      "source": [
        "nm=NearMiss()\n",
        "X_res,y_res=nm.fit_resample(X,y)\n"
      ],
      "metadata": {
        "id": "gNGgrjp71eD7"
      },
      "execution_count": 21,
      "outputs": []
    },
    {
      "cell_type": "code",
      "source": [
        "# Modeling the data as is\n",
        "\n",
        "kmeans=KMeans(n_clusters=2)\n",
        "kmeans.fit(X_res)\n",
        "labels=kmeans.predict(X_res)\n",
        "\n",
        "kmeans_RI=adjusted_rand_score(y_res,labels)\n",
        "print('Kmeans RI Score:',kmeans_RI)\n",
        "f1=f1_score(y_res,labels)\n",
        "print('f1 score:',f1)\n",
        "precision=precision_score(y_res,labels)\n",
        "print('Precision Score:',precision)\n",
        "recall=recall_score(y_res,labels)\n",
        "print('recall:',recall)\n",
        "average_precision=average_precision_score(y_res,labels)\n",
        "print('Average Precision -Recall Score:',average_precision)\n",
        "accuracy=accuracy_score(y_res,labels)\n",
        "print('Accuracy:',accuracy)"
      ],
      "metadata": {
        "colab": {
          "base_uri": "https://localhost:8080/"
        },
        "id": "MZZiSNTN1h9Y",
        "outputId": "8d74f8dd-0771-4403-e67c-9787b526c62b"
      },
      "execution_count": 22,
      "outputs": [
        {
          "output_type": "stream",
          "name": "stderr",
          "text": [
            "/usr/local/lib/python3.10/dist-packages/sklearn/cluster/_kmeans.py:870: FutureWarning: The default value of `n_init` will change from 10 to 'auto' in 1.4. Set the value of `n_init` explicitly to suppress the warning\n",
            "  warnings.warn(\n"
          ]
        },
        {
          "output_type": "stream",
          "name": "stdout",
          "text": [
            "Kmeans RI Score: 0.10132302412484853\n",
            "f1 score: 0.5057121096725057\n",
            "Precision Score: 0.4043848964677223\n",
            "recall: 0.6747967479674797\n",
            "Average Precision -Recall Score: 0.43547923907984515\n",
            "Accuracy: 0.3404471544715447\n"
          ]
        }
      ]
    },
    {
      "cell_type": "code",
      "source": [
        "# #Modeling the data as is AgglomerativeClustering\n",
        "from sklearn.cluster import AgglomerativeClustering\n",
        "\n",
        "ag=AgglomerativeClustering(n_clusters=2,linkage='complete')\n",
        "clustering=ag.fit_predict(X_res)\n",
        "kmeans_RI=adjusted_rand_score(y_res,clustering)\n",
        "print('Kmeans RI Score:',kmeans_RI)\n",
        "f1=f1_score(y_res,clustering)\n",
        "print('f1 score:',f1)\n",
        "precision=precision_score(y_res,clustering)\n",
        "print('Precision Score:',precision)\n",
        "recall=recall_score(y_res,clustering)\n",
        "print('recall:',recall)\n",
        "average_precision=average_precision_score(y_res,clustering)\n",
        "print('Average Precision -Recall Score:',average_precision)\n",
        "accuracy=accuracy_score(y_res,clustering)\n",
        "print('Accuracy:',accuracy)"
      ],
      "metadata": {
        "colab": {
          "base_uri": "https://localhost:8080/"
        },
        "id": "Hzmjk4jV1tWy",
        "outputId": "c5b98d7f-35be-49b2-fd35-02366eb8924c"
      },
      "execution_count": 23,
      "outputs": [
        {
          "output_type": "stream",
          "name": "stdout",
          "text": [
            "Kmeans RI Score: 0.0003721959661186011\n",
            "f1 score: 0.0398406374501992\n",
            "Precision Score: 1.0\n",
            "recall: 0.02032520325203252\n",
            "Average Precision -Recall Score: 0.5101626016260163\n",
            "Accuracy: 0.5101626016260162\n"
          ]
        }
      ]
    },
    {
      "cell_type": "markdown",
      "source": [
        "# **Let's Try OverSampling the under represented Class(Fraud)**"
      ],
      "metadata": {
        "id": "kqsvkFsy3p4t"
      }
    },
    {
      "cell_type": "code",
      "source": [
        "# For Kmeans\n",
        "X=df.drop('Class',axis=1)\n",
        "y=df.Class\n",
        "from imblearn.over_sampling import RandomOverSampler\n",
        "os=RandomOverSampler(sampling_strategy=0.5)\n",
        "X_up,y_up=os.fit_resample(X,y)\n",
        "# For AGNEST\n",
        "new_df=X_up.join(y_up)\n",
        "fraud_df=new_df.loc[new_df.Class==1][:900]\n",
        "not_fraud_df=new_df.loc[new_df.Class==0][:900]\n",
        "\n",
        "new_df_ag=pd.concat([fraud_df,not_fraud_df])\n",
        "\n"
      ],
      "metadata": {
        "id": "Rds-tNVv14H-"
      },
      "execution_count": 24,
      "outputs": []
    },
    {
      "cell_type": "code",
      "source": [
        "X_agnest=new_df_ag.drop('Class',axis=1)\n",
        "y_agnest=new_df_ag.Class"
      ],
      "metadata": {
        "id": "qjocjKZu9qPX"
      },
      "execution_count": 25,
      "outputs": []
    },
    {
      "cell_type": "code",
      "source": [
        "# Modeling the upsampled data as kmeans\n",
        "\n",
        "kmeans=KMeans(n_clusters=2)\n",
        "kmeans.fit(X_up)\n",
        "labels=kmeans.predict(X_up)\n",
        "\n",
        "kmeans_RI=adjusted_rand_score(y_up,labels)\n",
        "print('Kmeans RI score:',kmeans_RI)\n",
        "f1 = f1_score(y_up, labels)\n",
        "print(\"f1 score :\", f1)\n",
        "precision=precision_score(y_up,labels)\n",
        "print('precision score:',precision)\n",
        "recall=recall_score(y_up,labels)\n",
        "print('recall score:',recall)\n",
        "average_precision=average_precision_score(y_up,labels)\n",
        "print('average precision score:',average_precision)\n",
        "accuracy=accuracy_score(y_up,labels)\n",
        "print('accuracy score:',accuracy)"
      ],
      "metadata": {
        "colab": {
          "base_uri": "https://localhost:8080/"
        },
        "id": "cwY2yikJ-68j",
        "outputId": "5fffc9ef-092a-479e-8a80-d90d356a3959"
      },
      "execution_count": 26,
      "outputs": [
        {
          "output_type": "stream",
          "name": "stderr",
          "text": [
            "/usr/local/lib/python3.10/dist-packages/sklearn/cluster/_kmeans.py:870: FutureWarning: The default value of `n_init` will change from 10 to 'auto' in 1.4. Set the value of `n_init` explicitly to suppress the warning\n",
            "  warnings.warn(\n"
          ]
        },
        {
          "output_type": "stream",
          "name": "stdout",
          "text": [
            "Kmeans RI score: 0.25875233564465144\n",
            "f1 score : 0.5000369209996097\n",
            "precision score: 0.9992621793115078\n",
            "recall score: 0.333448229774123\n",
            "average precision score: 0.555385607199012\n",
            "accuracy score: 0.7777345288788009\n"
          ]
        }
      ]
    },
    {
      "cell_type": "code",
      "source": [
        "# Modeling the upsampled data as agnest\n",
        "\n",
        "clustering = AgglomerativeClustering(n_clusters=2, linkage=\"complete\").fit_predict(X_agnest)\n",
        "\n",
        "kmeans_RI=adjusted_rand_score(y_agnest,clustering)\n",
        "print('Kmeans RI score:',kmeans_RI)\n",
        "f1 = f1_score(y_agnest, clustering)\n",
        "print(\"f1 score :\", f1)\n",
        "precision=precision_score(y_agnest,clustering)\n",
        "print('precision score:',precision)\n",
        "recall=recall_score(y_agnest,clustering)\n",
        "print('recall score:',recall)\n",
        "average_precision=average_precision_score(y_agnest,clustering)\n",
        "print('average precision score:',average_precision)\n",
        "accuracy=accuracy_score(y_agnest,clustering)\n",
        "print('accuracy score:',accuracy)\n"
      ],
      "metadata": {
        "colab": {
          "base_uri": "https://localhost:8080/"
        },
        "id": "nB2llv_s_ohM",
        "outputId": "afc0998c-c559-46ed-d0db-b14f64d18259"
      },
      "execution_count": 29,
      "outputs": [
        {
          "output_type": "stream",
          "name": "stdout",
          "text": [
            "Kmeans RI score: 0.0003359961188165973\n",
            "f1 score : 0.03707742639040349\n",
            "precision score: 1.0\n",
            "recall score: 0.01888888888888889\n",
            "average precision score: 0.5094444444444445\n",
            "accuracy score: 0.5094444444444445\n"
          ]
        }
      ]
    },
    {
      "cell_type": "markdown",
      "source": [
        "# **Let's try with over-sampling the under represented class using SMOTE(Synthetic Minority Over-Sampled Technique Algorithm**"
      ],
      "metadata": {
        "id": "76-l_BJqAna1"
      }
    },
    {
      "cell_type": "code",
      "source": [
        "from imblearn.combine import SMOTETomek\n"
      ],
      "metadata": {
        "id": "T_op0NpQAG_d"
      },
      "execution_count": 30,
      "outputs": []
    },
    {
      "cell_type": "code",
      "source": [
        "from imblearn.over_sampling import SMOTE\n",
        "\n",
        "# sepreate input features andd target\n",
        "y=df.Class\n",
        "X=df.drop('Class', axis=1)\n",
        "\n",
        "sm=SMOTE(random_state=27)\n",
        "X_smote, y_smote=sm.fit_resample(X,y)\n",
        "\n",
        "X_agnest=X_smote[:500]\n",
        "y_agnest=y_smote[:500]"
      ],
      "metadata": {
        "id": "vDtWEespArnE"
      },
      "execution_count": 31,
      "outputs": []
    },
    {
      "cell_type": "code",
      "source": [
        " #Modeling the upsampled data using  kmeans and SMOTE\n",
        "\n",
        "kmeans=KMeans(n_clusters=2)\n",
        "kmeans.fit(X_smote)\n",
        "labels=kmeans.predict(X_smote)\n",
        "\n",
        "kmeans_RI=adjusted_rand_score(y_smote,labels)\n",
        "print('Kmeans RI score:',kmeans_RI)\n",
        "f1 = f1_score(y_smote, labels)\n",
        "print(\"f1 score :\", f1)\n",
        "precision=precision_score(y_smote,labels)\n",
        "print('precision score:',precision)\n",
        "recall=recall_score(y_smote,labels)\n",
        "print('recall score:',recall)\n",
        "average_precision=average_precision_score(y_smote,labels)\n",
        "print('average precision score:',average_precision)\n",
        "accuracy=accuracy_score(y_smote,labels)\n",
        "print('accuracy score:',accuracy)"
      ],
      "metadata": {
        "colab": {
          "base_uri": "https://localhost:8080/"
        },
        "id": "DuwvVN0yA2KA",
        "outputId": "7577af07-dd67-4428-830b-6dc66408dbda"
      },
      "execution_count": 32,
      "outputs": [
        {
          "output_type": "stream",
          "name": "stderr",
          "text": [
            "/usr/local/lib/python3.10/dist-packages/sklearn/cluster/_kmeans.py:870: FutureWarning: The default value of `n_init` will change from 10 to 'auto' in 1.4. Set the value of `n_init` explicitly to suppress the warning\n",
            "  warnings.warn(\n"
          ]
        },
        {
          "output_type": "stream",
          "name": "stdout",
          "text": [
            "Kmeans RI score: 0.10719973175190901\n",
            "f1 score : 0.4934008000635813\n",
            "precision score: 0.999645751704149\n",
            "recall score: 0.3275310834813499\n",
            "average precision score: 0.6636495144125135\n",
            "accuracy score: 0.6637075075180697\n"
          ]
        }
      ]
    },
    {
      "cell_type": "code",
      "source": [
        "# Modeling the upsampled data using agnest and SMOTE\n",
        "\n",
        "clustering = AgglomerativeClustering(n_clusters=2, linkage=\"complete\").fit_predict(X_agnest)\n",
        "\n",
        "kmeans_RI=adjusted_rand_score(y_agnest,clustering)\n",
        "print('Kmeans RI score:',kmeans_RI)\n",
        "f1 = f1_score(y_agnest, clustering)\n",
        "print(\"f1 score :\", f1)\n",
        "precision=precision_score(y_agnest,clustering)\n",
        "print('precision score:',precision)\n",
        "recall=recall_score(y_agnest,clustering)\n",
        "print('recall score:',recall)\n",
        "average_precision=average_precision_score(y_agnest,clustering)\n",
        "print('average precision score:',average_precision)\n",
        "accuracy=accuracy_score(y_agnest,clustering)\n",
        "print('accuracy score:',accuracy)"
      ],
      "metadata": {
        "colab": {
          "base_uri": "https://localhost:8080/"
        },
        "id": "zbx9bWdaA8f0",
        "outputId": "f79d78a0-da59-4845-d1f3-59c88c24d3ba"
      },
      "execution_count": 33,
      "outputs": [
        {
          "output_type": "stream",
          "name": "stdout",
          "text": [
            "Kmeans RI score: 0.0\n",
            "f1 score : 0.0\n",
            "precision score: 0.0\n",
            "recall score: 0.0\n",
            "average precision score: -0.0\n",
            "accuracy score: 0.994\n"
          ]
        },
        {
          "output_type": "stream",
          "name": "stderr",
          "text": [
            "/usr/local/lib/python3.10/dist-packages/sklearn/metrics/_classification.py:1344: UndefinedMetricWarning: Recall is ill-defined and being set to 0.0 due to no true samples. Use `zero_division` parameter to control this behavior.\n",
            "  _warn_prf(average, modifier, msg_start, len(result))\n",
            "/usr/local/lib/python3.10/dist-packages/sklearn/metrics/_ranking.py:891: UserWarning: No positive class found in y_true, recall is set to one for all thresholds.\n",
            "  warnings.warn(\n"
          ]
        }
      ]
    },
    {
      "cell_type": "code",
      "source": [],
      "metadata": {
        "id": "GTyHJ-nmBBnS"
      },
      "execution_count": null,
      "outputs": []
    }
  ]
}