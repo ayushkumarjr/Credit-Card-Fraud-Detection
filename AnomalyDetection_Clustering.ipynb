{
 "cells": [
  {
   "cell_type": "code",
   "execution_count": 1,
   "id": "30b7f727",
   "metadata": {},
   "outputs": [],
   "source": [
    "import numpy as np\n",
    "import pandas as pd"
   ]
  },
  {
   "cell_type": "code",
   "execution_count": 2,
   "id": "64ceed08",
   "metadata": {},
   "outputs": [],
   "source": [
    "data=pd.read_csv('creditcard.csv')"
   ]
  },
  {
   "cell_type": "code",
   "execution_count": 3,
   "id": "362658fa",
   "metadata": {},
   "outputs": [],
   "source": [
    "df=data.copy()"
   ]
  },
  {
   "cell_type": "code",
   "execution_count": 4,
   "id": "8b516fa2",
   "metadata": {},
   "outputs": [
    {
     "data": {
      "text/html": [
       "<div>\n",
       "<style scoped>\n",
       "    .dataframe tbody tr th:only-of-type {\n",
       "        vertical-align: middle;\n",
       "    }\n",
       "\n",
       "    .dataframe tbody tr th {\n",
       "        vertical-align: top;\n",
       "    }\n",
       "\n",
       "    .dataframe thead th {\n",
       "        text-align: right;\n",
       "    }\n",
       "</style>\n",
       "<table border=\"1\" class=\"dataframe\">\n",
       "  <thead>\n",
       "    <tr style=\"text-align: right;\">\n",
       "      <th></th>\n",
       "      <th>Time</th>\n",
       "      <th>V1</th>\n",
       "      <th>V2</th>\n",
       "      <th>V3</th>\n",
       "      <th>V4</th>\n",
       "      <th>V5</th>\n",
       "      <th>V6</th>\n",
       "      <th>V7</th>\n",
       "      <th>V8</th>\n",
       "      <th>V9</th>\n",
       "      <th>...</th>\n",
       "      <th>V21</th>\n",
       "      <th>V22</th>\n",
       "      <th>V23</th>\n",
       "      <th>V24</th>\n",
       "      <th>V25</th>\n",
       "      <th>V26</th>\n",
       "      <th>V27</th>\n",
       "      <th>V28</th>\n",
       "      <th>Amount</th>\n",
       "      <th>Class</th>\n",
       "    </tr>\n",
       "  </thead>\n",
       "  <tbody>\n",
       "    <tr>\n",
       "      <th>0</th>\n",
       "      <td>0.0</td>\n",
       "      <td>-1.359807</td>\n",
       "      <td>-0.072781</td>\n",
       "      <td>2.536347</td>\n",
       "      <td>1.378155</td>\n",
       "      <td>-0.338321</td>\n",
       "      <td>0.462388</td>\n",
       "      <td>0.239599</td>\n",
       "      <td>0.098698</td>\n",
       "      <td>0.363787</td>\n",
       "      <td>...</td>\n",
       "      <td>-0.018307</td>\n",
       "      <td>0.277838</td>\n",
       "      <td>-0.110474</td>\n",
       "      <td>0.066928</td>\n",
       "      <td>0.128539</td>\n",
       "      <td>-0.189115</td>\n",
       "      <td>0.133558</td>\n",
       "      <td>-0.021053</td>\n",
       "      <td>149.62</td>\n",
       "      <td>0</td>\n",
       "    </tr>\n",
       "    <tr>\n",
       "      <th>1</th>\n",
       "      <td>0.0</td>\n",
       "      <td>1.191857</td>\n",
       "      <td>0.266151</td>\n",
       "      <td>0.166480</td>\n",
       "      <td>0.448154</td>\n",
       "      <td>0.060018</td>\n",
       "      <td>-0.082361</td>\n",
       "      <td>-0.078803</td>\n",
       "      <td>0.085102</td>\n",
       "      <td>-0.255425</td>\n",
       "      <td>...</td>\n",
       "      <td>-0.225775</td>\n",
       "      <td>-0.638672</td>\n",
       "      <td>0.101288</td>\n",
       "      <td>-0.339846</td>\n",
       "      <td>0.167170</td>\n",
       "      <td>0.125895</td>\n",
       "      <td>-0.008983</td>\n",
       "      <td>0.014724</td>\n",
       "      <td>2.69</td>\n",
       "      <td>0</td>\n",
       "    </tr>\n",
       "    <tr>\n",
       "      <th>2</th>\n",
       "      <td>1.0</td>\n",
       "      <td>-1.358354</td>\n",
       "      <td>-1.340163</td>\n",
       "      <td>1.773209</td>\n",
       "      <td>0.379780</td>\n",
       "      <td>-0.503198</td>\n",
       "      <td>1.800499</td>\n",
       "      <td>0.791461</td>\n",
       "      <td>0.247676</td>\n",
       "      <td>-1.514654</td>\n",
       "      <td>...</td>\n",
       "      <td>0.247998</td>\n",
       "      <td>0.771679</td>\n",
       "      <td>0.909412</td>\n",
       "      <td>-0.689281</td>\n",
       "      <td>-0.327642</td>\n",
       "      <td>-0.139097</td>\n",
       "      <td>-0.055353</td>\n",
       "      <td>-0.059752</td>\n",
       "      <td>378.66</td>\n",
       "      <td>0</td>\n",
       "    </tr>\n",
       "    <tr>\n",
       "      <th>3</th>\n",
       "      <td>1.0</td>\n",
       "      <td>-0.966272</td>\n",
       "      <td>-0.185226</td>\n",
       "      <td>1.792993</td>\n",
       "      <td>-0.863291</td>\n",
       "      <td>-0.010309</td>\n",
       "      <td>1.247203</td>\n",
       "      <td>0.237609</td>\n",
       "      <td>0.377436</td>\n",
       "      <td>-1.387024</td>\n",
       "      <td>...</td>\n",
       "      <td>-0.108300</td>\n",
       "      <td>0.005274</td>\n",
       "      <td>-0.190321</td>\n",
       "      <td>-1.175575</td>\n",
       "      <td>0.647376</td>\n",
       "      <td>-0.221929</td>\n",
       "      <td>0.062723</td>\n",
       "      <td>0.061458</td>\n",
       "      <td>123.50</td>\n",
       "      <td>0</td>\n",
       "    </tr>\n",
       "    <tr>\n",
       "      <th>4</th>\n",
       "      <td>2.0</td>\n",
       "      <td>-1.158233</td>\n",
       "      <td>0.877737</td>\n",
       "      <td>1.548718</td>\n",
       "      <td>0.403034</td>\n",
       "      <td>-0.407193</td>\n",
       "      <td>0.095921</td>\n",
       "      <td>0.592941</td>\n",
       "      <td>-0.270533</td>\n",
       "      <td>0.817739</td>\n",
       "      <td>...</td>\n",
       "      <td>-0.009431</td>\n",
       "      <td>0.798278</td>\n",
       "      <td>-0.137458</td>\n",
       "      <td>0.141267</td>\n",
       "      <td>-0.206010</td>\n",
       "      <td>0.502292</td>\n",
       "      <td>0.219422</td>\n",
       "      <td>0.215153</td>\n",
       "      <td>69.99</td>\n",
       "      <td>0</td>\n",
       "    </tr>\n",
       "  </tbody>\n",
       "</table>\n",
       "<p>5 rows × 31 columns</p>\n",
       "</div>"
      ],
      "text/plain": [
       "   Time        V1        V2        V3        V4        V5        V6        V7   \n",
       "0   0.0 -1.359807 -0.072781  2.536347  1.378155 -0.338321  0.462388  0.239599  \\\n",
       "1   0.0  1.191857  0.266151  0.166480  0.448154  0.060018 -0.082361 -0.078803   \n",
       "2   1.0 -1.358354 -1.340163  1.773209  0.379780 -0.503198  1.800499  0.791461   \n",
       "3   1.0 -0.966272 -0.185226  1.792993 -0.863291 -0.010309  1.247203  0.237609   \n",
       "4   2.0 -1.158233  0.877737  1.548718  0.403034 -0.407193  0.095921  0.592941   \n",
       "\n",
       "         V8        V9  ...       V21       V22       V23       V24       V25   \n",
       "0  0.098698  0.363787  ... -0.018307  0.277838 -0.110474  0.066928  0.128539  \\\n",
       "1  0.085102 -0.255425  ... -0.225775 -0.638672  0.101288 -0.339846  0.167170   \n",
       "2  0.247676 -1.514654  ...  0.247998  0.771679  0.909412 -0.689281 -0.327642   \n",
       "3  0.377436 -1.387024  ... -0.108300  0.005274 -0.190321 -1.175575  0.647376   \n",
       "4 -0.270533  0.817739  ... -0.009431  0.798278 -0.137458  0.141267 -0.206010   \n",
       "\n",
       "        V26       V27       V28  Amount  Class  \n",
       "0 -0.189115  0.133558 -0.021053  149.62      0  \n",
       "1  0.125895 -0.008983  0.014724    2.69      0  \n",
       "2 -0.139097 -0.055353 -0.059752  378.66      0  \n",
       "3 -0.221929  0.062723  0.061458  123.50      0  \n",
       "4  0.502292  0.219422  0.215153   69.99      0  \n",
       "\n",
       "[5 rows x 31 columns]"
      ]
     },
     "execution_count": 4,
     "metadata": {},
     "output_type": "execute_result"
    }
   ],
   "source": [
    "data.head()"
   ]
  },
  {
   "cell_type": "code",
   "execution_count": 5,
   "id": "a6a4631d",
   "metadata": {},
   "outputs": [
    {
     "name": "stdout",
     "output_type": "stream",
     "text": [
      "No Frauds 99.83 % of dataset= 284315 records\n",
      "Frauds 0.17 % of dataset= 492 records\n"
     ]
    }
   ],
   "source": [
    "print('No Frauds',round(100*data['Class'].value_counts()[0]/len(data),2),'% of dataset=',data['Class'].value_counts()[0],'records')\n",
    "print('Frauds',round(100*data['Class'].value_counts()[1]/len(data),2),'% of dataset=',data['Class'].value_counts()[1],'records')"
   ]
  },
  {
   "cell_type": "code",
   "execution_count": 6,
   "id": "f9349929",
   "metadata": {},
   "outputs": [],
   "source": [
    "import matplotlib \n",
    "import matplotlib.pyplot as plt\n",
    "import seaborn as sns"
   ]
  },
  {
   "cell_type": "code",
   "execution_count": 7,
   "id": "482fa3b6",
   "metadata": {},
   "outputs": [
    {
     "data": {
      "image/png": "[encoded data removed]",
      "text/plain": [
       "<Figure size 640x480 with 1 Axes>"
      ]
     },
     "metadata": {},
     "output_type": "display_data"
    }
   ],
   "source": [
    "colors=[\"#0101DF\", \"#DF0101\"]\n",
    "\n",
    "sns.countplot(data=data, x='Class',palette=colors)\n",
    "plt.title('Class Distributions \\n (0: No Fraud || 1: Fraud)', fontsize=14)\n",
    "plt.show();"
   ]
  },
  {
   "cell_type": "code",
   "execution_count": 8,
   "id": "1d41d960",
   "metadata": {},
   "outputs": [
    {
     "data": {
      "image/png": "[encoded data removed]",
      "text/plain": [
       "<Figure size 1200x400 with 2 Axes>"
      ]
     },
     "metadata": {},
     "output_type": "display_data"
    }
   ],
   "source": [
    "fig, (ax1,ax2)=plt.subplots(2,1, sharex=True, figsize=(12,4))\n",
    "\n",
    "ax1.hist(df.Time[df.Class==1], bins=50)\n",
    "ax1.set_title('Fraud')\n",
    "\n",
    "ax2.hist(df.Time[df.Class==0], bins=50)\n",
    "ax2.set_title('Normal')\n",
    "\n",
    "plt.xlabel('Time (in Seconds)')\n",
    "plt.ylabel('No of Transaction')\n",
    "plt.show();"
   ]
  },
  {
   "cell_type": "code",
   "execution_count": 9,
   "id": "e48ded09",
   "metadata": {},
   "outputs": [
    {
     "data": {
      "text/html": [
       "<div>\n",
       "<style scoped>\n",
       "    .dataframe tbody tr th:only-of-type {\n",
       "        vertical-align: middle;\n",
       "    }\n",
       "\n",
       "    .dataframe tbody tr th {\n",
       "        vertical-align: top;\n",
       "    }\n",
       "\n",
       "    .dataframe thead th {\n",
       "        text-align: right;\n",
       "    }\n",
       "</style>\n",
       "<table border=\"1\" class=\"dataframe\">\n",
       "  <thead>\n",
       "    <tr style=\"text-align: right;\">\n",
       "      <th></th>\n",
       "      <th>Time</th>\n",
       "      <th>V1</th>\n",
       "      <th>V2</th>\n",
       "      <th>V3</th>\n",
       "      <th>V4</th>\n",
       "      <th>V5</th>\n",
       "      <th>V6</th>\n",
       "      <th>V7</th>\n",
       "      <th>V8</th>\n",
       "      <th>V9</th>\n",
       "      <th>...</th>\n",
       "      <th>V21</th>\n",
       "      <th>V22</th>\n",
       "      <th>V23</th>\n",
       "      <th>V24</th>\n",
       "      <th>V25</th>\n",
       "      <th>V26</th>\n",
       "      <th>V27</th>\n",
       "      <th>V28</th>\n",
       "      <th>Amount</th>\n",
       "      <th>Class</th>\n",
       "    </tr>\n",
       "  </thead>\n",
       "  <tbody>\n",
       "    <tr>\n",
       "      <th>0</th>\n",
       "      <td>0.0</td>\n",
       "      <td>-1.359807</td>\n",
       "      <td>-0.072781</td>\n",
       "      <td>2.536347</td>\n",
       "      <td>1.378155</td>\n",
       "      <td>-0.338321</td>\n",
       "      <td>0.462388</td>\n",
       "      <td>0.239599</td>\n",
       "      <td>0.098698</td>\n",
       "      <td>0.363787</td>\n",
       "      <td>...</td>\n",
       "      <td>-0.018307</td>\n",
       "      <td>0.277838</td>\n",
       "      <td>-0.110474</td>\n",
       "      <td>0.066928</td>\n",
       "      <td>0.128539</td>\n",
       "      <td>-0.189115</td>\n",
       "      <td>0.133558</td>\n",
       "      <td>-0.021053</td>\n",
       "      <td>149.62</td>\n",
       "      <td>0</td>\n",
       "    </tr>\n",
       "    <tr>\n",
       "      <th>1</th>\n",
       "      <td>0.0</td>\n",
       "      <td>1.191857</td>\n",
       "      <td>0.266151</td>\n",
       "      <td>0.166480</td>\n",
       "      <td>0.448154</td>\n",
       "      <td>0.060018</td>\n",
       "      <td>-0.082361</td>\n",
       "      <td>-0.078803</td>\n",
       "      <td>0.085102</td>\n",
       "      <td>-0.255425</td>\n",
       "      <td>...</td>\n",
       "      <td>-0.225775</td>\n",
       "      <td>-0.638672</td>\n",
       "      <td>0.101288</td>\n",
       "      <td>-0.339846</td>\n",
       "      <td>0.167170</td>\n",
       "      <td>0.125895</td>\n",
       "      <td>-0.008983</td>\n",
       "      <td>0.014724</td>\n",
       "      <td>2.69</td>\n",
       "      <td>0</td>\n",
       "    </tr>\n",
       "    <tr>\n",
       "      <th>2</th>\n",
       "      <td>1.0</td>\n",
       "      <td>-1.358354</td>\n",
       "      <td>-1.340163</td>\n",
       "      <td>1.773209</td>\n",
       "      <td>0.379780</td>\n",
       "      <td>-0.503198</td>\n",
       "      <td>1.800499</td>\n",
       "      <td>0.791461</td>\n",
       "      <td>0.247676</td>\n",
       "      <td>-1.514654</td>\n",
       "      <td>...</td>\n",
       "      <td>0.247998</td>\n",
       "      <td>0.771679</td>\n",
       "      <td>0.909412</td>\n",
       "      <td>-0.689281</td>\n",
       "      <td>-0.327642</td>\n",
       "      <td>-0.139097</td>\n",
       "      <td>-0.055353</td>\n",
       "      <td>-0.059752</td>\n",
       "      <td>378.66</td>\n",
       "      <td>0</td>\n",
       "    </tr>\n",
       "    <tr>\n",
       "      <th>3</th>\n",
       "      <td>1.0</td>\n",
       "      <td>-0.966272</td>\n",
       "      <td>-0.185226</td>\n",
       "      <td>1.792993</td>\n",
       "      <td>-0.863291</td>\n",
       "      <td>-0.010309</td>\n",
       "      <td>1.247203</td>\n",
       "      <td>0.237609</td>\n",
       "      <td>0.377436</td>\n",
       "      <td>-1.387024</td>\n",
       "      <td>...</td>\n",
       "      <td>-0.108300</td>\n",
       "      <td>0.005274</td>\n",
       "      <td>-0.190321</td>\n",
       "      <td>-1.175575</td>\n",
       "      <td>0.647376</td>\n",
       "      <td>-0.221929</td>\n",
       "      <td>0.062723</td>\n",
       "      <td>0.061458</td>\n",
       "      <td>123.50</td>\n",
       "      <td>0</td>\n",
       "    </tr>\n",
       "    <tr>\n",
       "      <th>4</th>\n",
       "      <td>2.0</td>\n",
       "      <td>-1.158233</td>\n",
       "      <td>0.877737</td>\n",
       "      <td>1.548718</td>\n",
       "      <td>0.403034</td>\n",
       "      <td>-0.407193</td>\n",
       "      <td>0.095921</td>\n",
       "      <td>0.592941</td>\n",
       "      <td>-0.270533</td>\n",
       "      <td>0.817739</td>\n",
       "      <td>...</td>\n",
       "      <td>-0.009431</td>\n",
       "      <td>0.798278</td>\n",
       "      <td>-0.137458</td>\n",
       "      <td>0.141267</td>\n",
       "      <td>-0.206010</td>\n",
       "      <td>0.502292</td>\n",
       "      <td>0.219422</td>\n",
       "      <td>0.215153</td>\n",
       "      <td>69.99</td>\n",
       "      <td>0</td>\n",
       "    </tr>\n",
       "  </tbody>\n",
       "</table>\n",
       "<p>5 rows × 31 columns</p>\n",
       "</div>"
      ],
      "text/plain": [
       "   Time        V1        V2        V3        V4        V5        V6        V7   \n",
       "0   0.0 -1.359807 -0.072781  2.536347  1.378155 -0.338321  0.462388  0.239599  \\\n",
       "1   0.0  1.191857  0.266151  0.166480  0.448154  0.060018 -0.082361 -0.078803   \n",
       "2   1.0 -1.358354 -1.340163  1.773209  0.379780 -0.503198  1.800499  0.791461   \n",
       "3   1.0 -0.966272 -0.185226  1.792993 -0.863291 -0.010309  1.247203  0.237609   \n",
       "4   2.0 -1.158233  0.877737  1.548718  0.403034 -0.407193  0.095921  0.592941   \n",
       "\n",
       "         V8        V9  ...       V21       V22       V23       V24       V25   \n",
       "0  0.098698  0.363787  ... -0.018307  0.277838 -0.110474  0.066928  0.128539  \\\n",
       "1  0.085102 -0.255425  ... -0.225775 -0.638672  0.101288 -0.339846  0.167170   \n",
       "2  0.247676 -1.514654  ...  0.247998  0.771679  0.909412 -0.689281 -0.327642   \n",
       "3  0.377436 -1.387024  ... -0.108300  0.005274 -0.190321 -1.175575  0.647376   \n",
       "4 -0.270533  0.817739  ... -0.009431  0.798278 -0.137458  0.141267 -0.206010   \n",
       "\n",
       "        V26       V27       V28  Amount  Class  \n",
       "0 -0.189115  0.133558 -0.021053  149.62      0  \n",
       "1  0.125895 -0.008983  0.014724    2.69      0  \n",
       "2 -0.139097 -0.055353 -0.059752  378.66      0  \n",
       "3 -0.221929  0.062723  0.061458  123.50      0  \n",
       "4  0.502292  0.219422  0.215153   69.99      0  \n",
       "\n",
       "[5 rows x 31 columns]"
      ]
     },
     "execution_count": 9,
     "metadata": {},
     "output_type": "execute_result"
    }
   ],
   "source": [
    "df.head()"
   ]
  },
  {
   "cell_type": "code",
   "execution_count": 10,
   "id": "f6a8ccf7",
   "metadata": {},
   "outputs": [],
   "source": [
    "from sklearn.preprocessing import MinMaxScaler\n",
    "\n",
    "mm_scaler=MinMaxScaler(feature_range=(0,1))\n",
    "\n",
    "df['scaled_amount']=mm_scaler.fit_transform(df['Amount'].values.reshape(-1,1))\n",
    "df.drop('Amount', axis=1, inplace=True)"
   ]
  },
  {
   "cell_type": "code",
   "execution_count": 11,
   "id": "c245aa28",
   "metadata": {},
   "outputs": [],
   "source": [
    "seconds_in_day=24*60*60\n",
    "\n",
    "df['sin_time']=np.sin(2*np.pi*df.Time/seconds_in_day)\n",
    "df['cos_time']=np.cos(2*np.pi*df.Time/seconds_in_day)\n",
    "\n",
    "df.drop('Time',axis=1,inplace=True)\n"
   ]
  },
  {
   "cell_type": "code",
   "execution_count": 12,
   "id": "7d96dd3a",
   "metadata": {},
   "outputs": [],
   "source": [
    "# Since our classes are highly skewed we should make them equivalent in order to have a normal distribution of the classes.\n",
    "\n",
    "# Lets shuffle the data before creating the subsamples\n",
    "\n",
    "X_orig=df.drop('Class',axis=1)\n",
    "Y_orig=df['Class']\n",
    "df=df.sample(frac=1)\n",
    "\n",
    "#amount of fraud classes 492 rows\n",
    "fraud_df=df.loc[df['Class']==1]\n",
    "non_fraud_df=df.loc[df['Class']==0][:492]\n",
    "\n",
    "normal_distributed_df=pd.concat([fraud_df,non_fraud_df])\n",
    "\n",
    "# shuffle the dataframe\n",
    "new_df=normal_distributed_df.sample(frac=1, random_state=42)\n",
    "\n",
    "X=new_df.drop('Class', axis=1)\n",
    "Y=new_df['Class']"
   ]
  },
  {
   "cell_type": "markdown",
   "id": "8bf590f7",
   "metadata": {},
   "source": [
    "# Using Clustering algorithms on data as is"
   ]
  },
  {
   "cell_type": "code",
   "execution_count": 13,
   "id": "1d8aae9d",
   "metadata": {},
   "outputs": [],
   "source": [
    "from sklearn.cluster import KMeans\n",
    "\n",
    "from sklearn.metrics import precision_score, recall_score, f1_score, accuracy_score\n",
    "from sklearn.metrics import average_precision_score\n",
    "from sklearn.metrics.cluster import adjusted_rand_score\n",
    "\n"
   ]
  },
  {
   "cell_type": "code",
   "execution_count": 14,
   "id": "1205cc5c",
   "metadata": {},
   "outputs": [
    {
     "name": "stderr",
     "output_type": "stream",
     "text": [
      "C:\\Users\\kumar\\AppData\\Local\\Programs\\Python\\Python310\\lib\\site-packages\\sklearn\\cluster\\_kmeans.py:870: FutureWarning: The default value of `n_init` will change from 10 to 'auto' in 1.4. Set the value of `n_init` explicitly to suppress the warning\n",
      "  warnings.warn(\n"
     ]
    },
    {
     "name": "stdout",
     "output_type": "stream",
     "text": [
      "KMeans RI score : -0.0001480139167940794\n",
      "f1 score : 0.004754284500102921\n",
      "precision : 0.0023849336149065013\n",
      "recall : 0.7276422764227642\n",
      "Average Precision-Recall Score : 0.0022058725785357967\n",
      "Accuracy : 0.4737313338506427\n"
     ]
    }
   ],
   "source": [
    "# Modeling the data as is using kmeans clustering\n",
    "\n",
    "kmeans = KMeans(n_clusters=2)\n",
    "kmeans.fit(X_orig)\n",
    "labels = kmeans.predict(X_orig)\n",
    "\n",
    "kmeans_RI = adjusted_rand_score(Y_orig, labels)#calculate_rand_index(y, labels)#rand_index_score(y, labels)\n",
    "print(\"KMeans RI score :\",kmeans_RI)\n",
    "f1 = f1_score(Y_orig, labels)\n",
    "print(\"f1 score :\", f1)\n",
    "precision = precision_score(Y_orig, labels)\n",
    "print(\"precision :\",precision)\n",
    "recall = recall_score(Y_orig, labels)\n",
    "print(\"recall :\",recall)\n",
    "average_precision = average_precision_score(Y_orig, labels)\n",
    "print(\"Average Precision-Recall Score :\",average_precision)\n",
    "accuracy = accuracy_score(Y_orig, labels)\n",
    "print(\"Accuracy :\",accuracy)\n",
    "\n"
   ]
  },
  {
   "cell_type": "code",
   "execution_count": 15,
   "id": "aca2b6ab",
   "metadata": {},
   "outputs": [
    {
     "name": "stdout",
     "output_type": "stream",
     "text": [
      "KMeans RI score : 0.0\n",
      "f1 score : 0.0\n",
      "precision : 0.0\n",
      "recall : 0.0\n",
      "Average Precision-Recall Score : 0.5\n",
      "Accuracy : 0.49898373983739835\n"
     ]
    }
   ],
   "source": [
    "# # Modeling the data as is using AgglomerativeClustering\n",
    "from sklearn.cluster import AgglomerativeClustering\n",
    "\n",
    "clustering = AgglomerativeClustering(n_clusters=2, linkage=\"complete\").fit_predict(X)\n",
    "\n",
    "kmeans_RI = adjusted_rand_score(Y, clustering)#calculate_rand_index(y, labels)#rand_index_score(y, labels)\n",
    "print(\"KMeans RI score :\",kmeans_RI)\n",
    "f1 = f1_score(Y, clustering)\n",
    "print(\"f1 score :\", f1)\n",
    "precision = precision_score(Y, clustering)\n",
    "print(\"precision :\",precision)\n",
    "recall = recall_score(Y, clustering)\n",
    "print(\"recall :\",recall)\n",
    "average_precision = average_precision_score(Y, clustering)\n",
    "print(\"Average Precision-Recall Score :\",average_precision)\n",
    "accuracy = accuracy_score(Y, clustering)\n",
    "print(\"Accuracy :\",accuracy)"
   ]
  },
  {
   "cell_type": "markdown",
   "id": "40116cba",
   "metadata": {},
   "source": [
    "# Let's try the same clustering algorithms with oversampling of under represented(fraud) data"
   ]
  },
  {
   "cell_type": "code",
   "execution_count": 16,
   "id": "0f22d62b",
   "metadata": {},
   "outputs": [],
   "source": [
    "from sklearn.utils import resample\n",
    "\n",
    "X_new=df.copy()\n",
    "\n",
    "# seperate minority and majority classes\n",
    "fraud=X_new[X_new.Class==1]\n",
    "not_fraud=X_new[X_new.Class==0]\n",
    "\n",
    "# upsampling the minority class\n",
    "fraud_upsampled=resample(fraud, replace=True, n_samples=len(not_fraud), random_state=27)\n",
    "\n",
    "# combining majority and upsampled minority class\n",
    "upsampled=pd.concat([not_fraud, fraud_upsampled])\n",
    "\n",
    "#seperationg input and output for kmeans\n",
    "y_upsampled=upsampled.Class\n",
    "x_upsampled=upsampled.drop('Class', axis=1)\n",
    "\n",
    "# For AGNEST\n",
    "upsampled=upsampled.sample(frac=1, random_state=27)\n",
    "\n",
    "fraud_df=upsampled.loc[upsampled.Class==1][:900]\n",
    "not_fraud_df=upsampled.loc[upsampled.Class==0][:900]\n",
    "\n",
    "new_df=pd.concat([fraud_df,not_fraud_df])\n",
    "\n",
    "# shuffle the dataframe rows\n",
    "new_df=new_df.sample(frac=1, random_state=27)\n",
    "\n",
    "X_agnest=new_df.drop('Class', axis=1)\n",
    "y_agnest=new_df.Class"
   ]
  },
  {
   "cell_type": "code",
   "execution_count": 17,
   "id": "5278a9ff",
   "metadata": {},
   "outputs": [
    {
     "name": "stderr",
     "output_type": "stream",
     "text": [
      "C:\\Users\\kumar\\AppData\\Local\\Programs\\Python\\Python310\\lib\\site-packages\\sklearn\\cluster\\_kmeans.py:870: FutureWarning: The default value of `n_init` will change from 10 to 'auto' in 1.4. Set the value of `n_init` explicitly to suppress the warning\n",
      "  warnings.warn(\n"
     ]
    },
    {
     "name": "stdout",
     "output_type": "stream",
     "text": [
      "Kmeans RI score: 0.10502743515285781\n",
      "f1 score : 0.4896075129740095\n",
      "precision score: 0.9996421096012233\n",
      "recall score: 0.3241967536007597\n",
      "average precision score: 0.6619823498949515\n",
      "accuracy score: 0.6620403425777747\n"
     ]
    }
   ],
   "source": [
    "# Modeling the upsampled data as kmeans\n",
    "\n",
    "kmeans=KMeans(n_clusters=2)\n",
    "kmeans.fit(x_upsampled)\n",
    "labels=kmeans.predict(x_upsampled)\n",
    "\n",
    "kmeans_RI=adjusted_rand_score(y_upsampled,labels)\n",
    "print('Kmeans RI score:',kmeans_RI)\n",
    "f1 = f1_score(y_upsampled, labels)\n",
    "print(\"f1 score :\", f1)\n",
    "precision=precision_score(y_upsampled,labels)\n",
    "print('precision score:',precision)\n",
    "recall=recall_score(y_upsampled,labels)\n",
    "print('recall score:',recall)\n",
    "average_precision=average_precision_score(y_upsampled,labels)\n",
    "print('average precision score:',average_precision)\n",
    "accuracy=accuracy_score(y_upsampled,labels)\n",
    "print('accuracy score:',accuracy)"
   ]
  },
  {
   "cell_type": "code",
   "execution_count": 18,
   "id": "784399a9",
   "metadata": {},
   "outputs": [
    {
     "name": "stdout",
     "output_type": "stream",
     "text": [
      "Kmeans RI score: 0.00046940804625782964\n",
      "f1 score : 0.04347826086956522\n",
      "precision score: 1.0\n",
      "recall score: 0.022222222222222223\n",
      "average precision score: 0.5111111111111111\n",
      "accuracy score: 0.5111111111111111\n"
     ]
    }
   ],
   "source": [
    "# Modeling the upsampled data as agnest\n",
    "\n",
    "clustering = AgglomerativeClustering(n_clusters=2, linkage=\"complete\").fit_predict(X_agnest)\n",
    "\n",
    "kmeans_RI=adjusted_rand_score(y_agnest,clustering)\n",
    "print('Kmeans RI score:',kmeans_RI)\n",
    "f1 = f1_score(y_agnest, clustering)\n",
    "print(\"f1 score :\", f1)\n",
    "precision=precision_score(y_agnest,clustering)\n",
    "print('precision score:',precision)\n",
    "recall=recall_score(y_agnest,clustering)\n",
    "print('recall score:',recall)\n",
    "average_precision=average_precision_score(y_agnest,clustering)\n",
    "print('average precision score:',average_precision)\n",
    "accuracy=accuracy_score(y_agnest,clustering)\n",
    "print('accuracy score:',accuracy)"
   ]
  },
  {
   "cell_type": "markdown",
   "id": "2e62efc6",
   "metadata": {},
   "source": [
    "# Let's try the same clustering algorithms with undersampling of over represented(fraud) data"
   ]
  },
  {
   "cell_type": "code",
   "execution_count": 19,
   "id": "c3b18466",
   "metadata": {},
   "outputs": [],
   "source": [
    "not_fraud_downsampled=resample(not_fraud, replace=True, n_samples=len(fraud), random_state=27)\n",
    "\n",
    "# downsampling the majority class\n",
    "downsampled=pd.concat([not_fraud_downsampled,fraud])\n",
    "\n",
    "y_undersampled=downsampled.Class\n",
    "x_undersampled=downsampled.drop('Class', axis=1)"
   ]
  },
  {
   "cell_type": "code",
   "execution_count": 20,
   "id": "aa5d3b82",
   "metadata": {},
   "outputs": [
    {
     "name": "stdout",
     "output_type": "stream",
     "text": [
      "Kmeans RI score: 0.1052614086510997\n",
      "f1 score : 0.49079754601226994\n",
      "precision score: 1.0\n",
      "recall score: 0.3252032520325203\n",
      "average precision score: 0.6626016260162602\n",
      "accuracy score: 0.6626016260162602\n"
     ]
    },
    {
     "name": "stderr",
     "output_type": "stream",
     "text": [
      "C:\\Users\\kumar\\AppData\\Local\\Programs\\Python\\Python310\\lib\\site-packages\\sklearn\\cluster\\_kmeans.py:870: FutureWarning: The default value of `n_init` will change from 10 to 'auto' in 1.4. Set the value of `n_init` explicitly to suppress the warning\n",
      "  warnings.warn(\n"
     ]
    }
   ],
   "source": [
    "# Modeling the downsampled data as kmeans\n",
    "\n",
    "kmeans=KMeans(n_clusters=2)\n",
    "kmeans.fit(x_undersampled)\n",
    "labels=kmeans.predict(x_undersampled)\n",
    "\n",
    "kmeans_RI=adjusted_rand_score(y_undersampled,labels)\n",
    "print('Kmeans RI score:',kmeans_RI)\n",
    "f1 = f1_score(y_undersampled, labels)\n",
    "print(\"f1 score :\", f1)\n",
    "precision=precision_score(y_undersampled,labels)\n",
    "print('precision score:',precision)\n",
    "recall=recall_score(y_undersampled,labels)\n",
    "print('recall score:',recall)\n",
    "average_precision=average_precision_score(y_undersampled,labels)\n",
    "print('average precision score:',average_precision)\n",
    "accuracy=accuracy_score(y_undersampled,labels)\n",
    "print('accuracy score:',accuracy)"
   ]
  },
  {
   "cell_type": "code",
   "execution_count": 21,
   "id": "0b080c2c",
   "metadata": {},
   "outputs": [
    {
     "name": "stdout",
     "output_type": "stream",
     "text": [
      "Kmeans RI score: 0.0003721959661186011\n",
      "f1 score : 0.0398406374501992\n",
      "precision score: 1.0\n",
      "recall score: 0.02032520325203252\n",
      "average precision score: 0.5101626016260163\n",
      "accuracy score: 0.5101626016260162\n"
     ]
    }
   ],
   "source": [
    "# Modeling the downsampled data as agglomerative clustering\n",
    "\n",
    "clustering = AgglomerativeClustering(n_clusters=2, linkage=\"complete\").fit_predict(x_undersampled)\n",
    "\n",
    "kmeans_RI=adjusted_rand_score(y_undersampled,clustering)\n",
    "print('Kmeans RI score:',kmeans_RI)\n",
    "f1 = f1_score(y_undersampled, clustering)\n",
    "print(\"f1 score :\", f1)\n",
    "precision=precision_score(y_undersampled,clustering)\n",
    "print('precision score:',precision)\n",
    "recall=recall_score(y_undersampled,clustering)\n",
    "print('recall score:',recall)\n",
    "average_precision=average_precision_score(y_undersampled,clustering)\n",
    "print('average precision score:',average_precision)\n",
    "accuracy=accuracy_score(y_undersampled,clustering)\n",
    "print('accuracy score:',accuracy)"
   ]
  },
  {
   "cell_type": "markdown",
   "id": "8b4a7860",
   "metadata": {},
   "source": [
    "# Lets try over-sampling the under-represented class using SMOTE(Synthetic Minority Over-sampling Technique) algorithm"
   ]
  },
  {
   "cell_type": "code",
   "execution_count": 22,
   "id": "9b4221ff",
   "metadata": {},
   "outputs": [],
   "source": [
    "from imblearn.over_sampling import SMOTE\n",
    "\n",
    "# sepreate input features andd target\n",
    "y=df.Class\n",
    "X=df.drop('Class', axis=1)\n",
    "\n",
    "sm=SMOTE(random_state=27)\n",
    "X_smote, y_smote=sm.fit_resample(X,y)\n",
    "\n",
    "X_agnest=X_smote[:500]\n",
    "y_agnest=y_smote[:500]"
   ]
  },
  {
   "cell_type": "code",
   "execution_count": 23,
   "id": "fa59cf2a",
   "metadata": {},
   "outputs": [
    {
     "name": "stderr",
     "output_type": "stream",
     "text": [
      "C:\\Users\\kumar\\AppData\\Local\\Programs\\Python\\Python310\\lib\\site-packages\\sklearn\\cluster\\_kmeans.py:870: FutureWarning: The default value of `n_init` will change from 10 to 'auto' in 1.4. Set the value of `n_init` explicitly to suppress the warning\n",
      "  warnings.warn(\n"
     ]
    },
    {
     "name": "stdout",
     "output_type": "stream",
     "text": [
      "Kmeans RI score: 0.10537423909025172\n",
      "f1 score : 0.5048449485002353\n",
      "precision score: 0.4031087343130277\n",
      "recall score: 0.6752686281061498\n",
      "average precision score: 0.4345723679440897\n",
      "accuracy score: 0.3376923482756801\n"
     ]
    }
   ],
   "source": [
    "# Modeling the upsampled data using  kmeans and SMOTE\n",
    "\n",
    "kmeans=KMeans(n_clusters=2)\n",
    "kmeans.fit(X_smote)\n",
    "labels=kmeans.predict(X_smote)\n",
    "\n",
    "kmeans_RI=adjusted_rand_score(y_smote,labels)\n",
    "print('Kmeans RI score:',kmeans_RI)\n",
    "f1 = f1_score(y_smote, labels)\n",
    "print(\"f1 score :\", f1)\n",
    "precision=precision_score(y_smote,labels)\n",
    "print('precision score:',precision)\n",
    "recall=recall_score(y_smote,labels)\n",
    "print('recall score:',recall)\n",
    "average_precision=average_precision_score(y_smote,labels)\n",
    "print('average precision score:',average_precision)\n",
    "accuracy=accuracy_score(y_smote,labels)\n",
    "print('accuracy score:',accuracy)"
   ]
  },
  {
   "cell_type": "code",
   "execution_count": 24,
   "id": "9b43b42a",
   "metadata": {},
   "outputs": [
    {
     "name": "stdout",
     "output_type": "stream",
     "text": [
      "Kmeans RI score: 0.0\n",
      "f1 score : 0.0\n",
      "precision score: 0.0\n",
      "recall score: 0.0\n",
      "average precision score: -0.0\n",
      "accuracy score: 0.998\n"
     ]
    },
    {
     "name": "stderr",
     "output_type": "stream",
     "text": [
      "C:\\Users\\kumar\\AppData\\Local\\Programs\\Python\\Python310\\lib\\site-packages\\sklearn\\metrics\\_classification.py:1344: UndefinedMetricWarning: Recall is ill-defined and being set to 0.0 due to no true samples. Use `zero_division` parameter to control this behavior.\n",
      "  _warn_prf(average, modifier, msg_start, len(result))\n",
      "C:\\Users\\kumar\\AppData\\Local\\Programs\\Python\\Python310\\lib\\site-packages\\sklearn\\metrics\\_ranking.py:891: UserWarning: No positive class found in y_true, recall is set to one for all thresholds.\n",
      "  warnings.warn(\n"
     ]
    }
   ],
   "source": [
    "# Modeling the upsampled data using agnest and SMOTE\n",
    "\n",
    "clustering = AgglomerativeClustering(n_clusters=2, linkage=\"complete\").fit_predict(X_agnest)\n",
    "\n",
    "kmeans_RI=adjusted_rand_score(y_agnest,clustering)\n",
    "print('Kmeans RI score:',kmeans_RI)\n",
    "f1 = f1_score(y_agnest, clustering)\n",
    "print(\"f1 score :\", f1)\n",
    "precision=precision_score(y_agnest,clustering)\n",
    "print('precision score:',precision)\n",
    "recall=recall_score(y_agnest,clustering)\n",
    "print('recall score:',recall)\n",
    "average_precision=average_precision_score(y_agnest,clustering)\n",
    "print('average precision score:',average_precision)\n",
    "accuracy=accuracy_score(y_agnest,clustering)\n",
    "print('accuracy score:',accuracy)"
   ]
  },
  {
   "cell_type": "code",
   "execution_count": null,
   "id": "a2a00438",
   "metadata": {},
   "outputs": [],
   "source": []
  }
 ],
 "metadata": {
  "kernelspec": {
   "display_name": "Python 3 (ipykernel)",
   "language": "python",
   "name": "python3"
  },
  "language_info": {
   "codemirror_mode": {
    "name": "ipython",
    "version": 3
   },
   "file_extension": ".py",
   "mimetype": "text/x-python",
   "name": "python",
   "nbconvert_exporter": "python",
   "pygments_lexer": "ipython3",
   "version": "3.10.10"
  }
 },
 "nbformat": 4,
 "nbformat_minor": 5
}
